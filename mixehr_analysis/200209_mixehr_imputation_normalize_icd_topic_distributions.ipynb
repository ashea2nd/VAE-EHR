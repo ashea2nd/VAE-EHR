{
 "cells": [
  {
   "cell_type": "code",
   "execution_count": null,
   "metadata": {},
   "outputs": [],
   "source": [
    "import pandas as pd\n",
    "import numpy as np"
   ]
  },
  {
   "cell_type": "code",
   "execution_count": null,
   "metadata": {},
   "outputs": [],
   "source": [
    "icd_topic_distribution_df = pd.read_csv(\"mixehr_topics_normalized_FROM_ORIGINAL_with_phenames_icd_only.csv\")"
   ]
  },
  {
   "cell_type": "code",
   "execution_count": null,
   "metadata": {},
   "outputs": [],
   "source": [
    "metaphe_path = \"/Users/andrew/Documents/meng/mixEHR/data/precomputed_results/mixmimic/mimic_trainData_mimic_trainData_JCVB0_nmar_K75_iter5497_metaphe.csv\"\n",
    "patient_topic_distribution_df = pd.read_csv(metaphe_path, header=None)"
   ]
  },
  {
   "cell_type": "code",
   "execution_count": null,
   "metadata": {},
   "outputs": [],
   "source": [
    "###Normalize ICD Topic Matrix\n",
    "topic_cols = [str(i) for i in range(1, 76)]\n",
    "topic_freqs = icd_topic_distribution_df[topic_cols]\n",
    "topic_freqs_normalized = topic_freqs / np.sum(topic_freqs, axis=0)\n",
    "icd_topic_distribution_df[topic_cols] = topic_freqs_normalized\n",
    "icd_topic_distribution_df.to_csv(\"mixehr_topics_normalized_FROM_ICD_DISTRIBUTION_with_phenames_icd_only.csv\", index=False)"
   ]
  }
 ],
 "metadata": {
  "kernelspec": {
   "display_name": "mengp369",
   "language": "python",
   "name": "mengp369"
  },
  "language_info": {
   "codemirror_mode": {
    "name": "ipython",
    "version": 3
   },
   "file_extension": ".py",
   "mimetype": "text/x-python",
   "name": "python",
   "nbconvert_exporter": "python",
   "pygments_lexer": "ipython3",
   "version": "3.6.9"
  }
 },
 "nbformat": 4,
 "nbformat_minor": 2
}
