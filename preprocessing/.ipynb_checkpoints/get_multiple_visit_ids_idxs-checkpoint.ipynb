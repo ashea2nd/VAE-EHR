{
 "cells": [
  {
   "cell_type": "code",
   "execution_count": 59,
   "metadata": {},
   "outputs": [],
   "source": [
    "import pandas as pd\n",
    "import numpy as np\n",
    "import pickle\n",
    "import os\n",
    "from scipy.sparse import coo_matrix, csc_matrix, csr_matrix\n",
    "\n",
    "admissions_path = \"/Users/andrew/Documents/meng/mimic-iii-clinical-database-1.4/ADMISSIONS.csv.gz\"\n",
    "data_path = \"/Users/andrew/Documents/meng/spring/simple-vae/data\""
   ]
  },
  {
   "cell_type": "code",
   "execution_count": 60,
   "metadata": {},
   "outputs": [],
   "source": [
    "visits_threshold = 1"
   ]
  },
  {
   "cell_type": "code",
   "execution_count": 61,
   "metadata": {},
   "outputs": [],
   "source": [
    "adm_df = pd.read_csv(admissions_path)\n",
    "id_counts = adm_df.SUBJECT_ID.value_counts()\n",
    "x_visits_ids = id_counts.index[id_counts > visits_threshold]\n",
    "\n",
    "subject_ids = pd.read_csv(os.path.join(data_path, \"PATIENT_ICD_SUBJECT_IDS.csv\"))\n",
    "x_visits_ids_df = subject_ids[subject_ids.SUBJECT_ID.isin(x_visits_ids)]\n",
    "x_visits_ids_df\n",
    "\n",
    "filename = \"PATIENT_ICD_SUBJECT_IDS_GT{}_VISITS.csv\".format(visits_threshold)\n",
    "x_visits_ids_df.to_csv(os.path.join(data_path, filename), index=None)\n",
    "\n",
    "x_visits_ids_df = pd.read_csv(os.path.join(data_path, filename))\n",
    "x_visits_ids_df"
   ]
  },
  {
   "cell_type": "code",
   "execution_count": 62,
   "metadata": {},
   "outputs": [
    {
     "data": {
      "text/html": [
       "<div>\n",
       "<style scoped>\n",
       "    .dataframe tbody tr th:only-of-type {\n",
       "        vertical-align: middle;\n",
       "    }\n",
       "\n",
       "    .dataframe tbody tr th {\n",
       "        vertical-align: top;\n",
       "    }\n",
       "\n",
       "    .dataframe thead th {\n",
       "        text-align: right;\n",
       "    }\n",
       "</style>\n",
       "<table border=\"1\" class=\"dataframe\">\n",
       "  <thead>\n",
       "    <tr style=\"text-align: right;\">\n",
       "      <th></th>\n",
       "      <th>SUBJECT_ID</th>\n",
       "    </tr>\n",
       "  </thead>\n",
       "  <tbody>\n",
       "    <tr>\n",
       "      <th>0</th>\n",
       "      <td>109</td>\n",
       "    </tr>\n",
       "    <tr>\n",
       "      <th>1</th>\n",
       "      <td>112</td>\n",
       "    </tr>\n",
       "    <tr>\n",
       "      <th>2</th>\n",
       "      <td>113</td>\n",
       "    </tr>\n",
       "    <tr>\n",
       "      <th>3</th>\n",
       "      <td>114</td>\n",
       "    </tr>\n",
       "    <tr>\n",
       "      <th>4</th>\n",
       "      <td>115</td>\n",
       "    </tr>\n",
       "    <tr>\n",
       "      <th>...</th>\n",
       "      <td>...</td>\n",
       "    </tr>\n",
       "    <tr>\n",
       "      <th>46515</th>\n",
       "      <td>97164</td>\n",
       "    </tr>\n",
       "    <tr>\n",
       "      <th>46516</th>\n",
       "      <td>97484</td>\n",
       "    </tr>\n",
       "    <tr>\n",
       "      <th>46517</th>\n",
       "      <td>97488</td>\n",
       "    </tr>\n",
       "    <tr>\n",
       "      <th>46518</th>\n",
       "      <td>97492</td>\n",
       "    </tr>\n",
       "    <tr>\n",
       "      <th>46519</th>\n",
       "      <td>97497</td>\n",
       "    </tr>\n",
       "  </tbody>\n",
       "</table>\n",
       "<p>46520 rows × 1 columns</p>\n",
       "</div>"
      ],
      "text/plain": [
       "       SUBJECT_ID\n",
       "0             109\n",
       "1             112\n",
       "2             113\n",
       "3             114\n",
       "4             115\n",
       "...           ...\n",
       "46515       97164\n",
       "46516       97484\n",
       "46517       97488\n",
       "46518       97492\n",
       "46519       97497\n",
       "\n",
       "[46520 rows x 1 columns]"
      ]
     },
     "execution_count": 62,
     "metadata": {},
     "output_type": "execute_result"
    }
   ],
   "source": [
    "subject_ids = pd.read_csv(os.path.join(data_path, \"PATIENT_ICD_SUBJECT_IDS.csv\"))\n",
    "subject_ids"
   ]
  },
  {
   "cell_type": "code",
   "execution_count": 63,
   "metadata": {},
   "outputs": [
    {
     "data": {
      "text/plain": [
       "Int64Index([13033,   109, 11861,  5060, 20643, 19213,  7809,  5727, 23657,\n",
       "            11318,\n",
       "            ...\n",
       "            26391,  1187, 85986, 26317, 14109, 95427, 21675,  1474,  3523,\n",
       "            46487],\n",
       "           dtype='int64', length=7537)"
      ]
     },
     "execution_count": 63,
     "metadata": {},
     "output_type": "execute_result"
    }
   ],
   "source": [
    "x_visits_ids"
   ]
  },
  {
   "cell_type": "code",
   "execution_count": 87,
   "metadata": {},
   "outputs": [
    {
     "data": {
      "text/html": [
       "<div>\n",
       "<style scoped>\n",
       "    .dataframe tbody tr th:only-of-type {\n",
       "        vertical-align: middle;\n",
       "    }\n",
       "\n",
       "    .dataframe tbody tr th {\n",
       "        vertical-align: top;\n",
       "    }\n",
       "\n",
       "    .dataframe thead th {\n",
       "        text-align: right;\n",
       "    }\n",
       "</style>\n",
       "<table border=\"1\" class=\"dataframe\">\n",
       "  <thead>\n",
       "    <tr style=\"text-align: right;\">\n",
       "      <th></th>\n",
       "      <th>MATRIX_ROW_IDX</th>\n",
       "      <th>SUBJECT_ID</th>\n",
       "    </tr>\n",
       "  </thead>\n",
       "  <tbody>\n",
       "    <tr>\n",
       "      <th>0</th>\n",
       "      <td>0</td>\n",
       "      <td>109</td>\n",
       "    </tr>\n",
       "    <tr>\n",
       "      <th>1</th>\n",
       "      <td>1</td>\n",
       "      <td>112</td>\n",
       "    </tr>\n",
       "    <tr>\n",
       "      <th>6</th>\n",
       "      <td>6</td>\n",
       "      <td>117</td>\n",
       "    </tr>\n",
       "    <tr>\n",
       "      <th>12</th>\n",
       "      <td>12</td>\n",
       "      <td>124</td>\n",
       "    </tr>\n",
       "    <tr>\n",
       "      <th>18</th>\n",
       "      <td>18</td>\n",
       "      <td>130</td>\n",
       "    </tr>\n",
       "    <tr>\n",
       "      <th>...</th>\n",
       "      <td>...</td>\n",
       "      <td>...</td>\n",
       "    </tr>\n",
       "    <tr>\n",
       "      <th>46488</th>\n",
       "      <td>46488</td>\n",
       "      <td>95561</td>\n",
       "    </tr>\n",
       "    <tr>\n",
       "      <th>46497</th>\n",
       "      <td>46497</td>\n",
       "      <td>95816</td>\n",
       "    </tr>\n",
       "    <tr>\n",
       "      <th>46499</th>\n",
       "      <td>46499</td>\n",
       "      <td>96006</td>\n",
       "    </tr>\n",
       "    <tr>\n",
       "      <th>46505</th>\n",
       "      <td>46505</td>\n",
       "      <td>96023</td>\n",
       "    </tr>\n",
       "    <tr>\n",
       "      <th>46517</th>\n",
       "      <td>46517</td>\n",
       "      <td>97488</td>\n",
       "    </tr>\n",
       "  </tbody>\n",
       "</table>\n",
       "<p>7537 rows × 2 columns</p>\n",
       "</div>"
      ],
      "text/plain": [
       "       MATRIX_ROW_IDX  SUBJECT_ID\n",
       "0                   0         109\n",
       "1                   1         112\n",
       "6                   6         117\n",
       "12                 12         124\n",
       "18                 18         130\n",
       "...               ...         ...\n",
       "46488           46488       95561\n",
       "46497           46497       95816\n",
       "46499           46499       96006\n",
       "46505           46505       96023\n",
       "46517           46517       97488\n",
       "\n",
       "[7537 rows x 2 columns]"
      ]
     },
     "execution_count": 87,
     "metadata": {},
     "output_type": "execute_result"
    }
   ],
   "source": [
    "x_visits_ids_df = subject_ids[subject_ids.SUBJECT_ID.isin(x_visits_ids)]\n",
    "index = x_visits_ids_df.index\n",
    "\n",
    "x_visits_ids_df.insert(0, \"MATRIX_ROW_IDX\", index)\n",
    "x_visits_ids_df"
   ]
  },
  {
   "cell_type": "code",
   "execution_count": 88,
   "metadata": {},
   "outputs": [],
   "source": [
    "filename = \"PATIENT_ICD_SUBJECT_IDS_GT{}_VISITS.csv\".format(visits_threshold)\n",
    "x_visits_ids_df.to_csv(os.path.join(data_path, filename), index=None)"
   ]
  },
  {
   "cell_type": "code",
   "execution_count": 92,
   "metadata": {},
   "outputs": [
    {
     "data": {
      "text/plain": [
       "(7537,)"
      ]
     },
     "execution_count": 92,
     "metadata": {},
     "output_type": "execute_result"
    }
   ],
   "source": [
    "x_visits_ids_df = pd.read_csv(os.path.join(data_path, filename))\n",
    "x_visits_ids_df.MATRIX_ROW_IDX.to_numpy().shape"
   ]
  },
  {
   "cell_type": "code",
   "execution_count": null,
   "metadata": {},
   "outputs": [],
   "source": [
    "subject"
   ]
  },
  {
   "cell_type": "code",
   "execution_count": null,
   "metadata": {},
   "outputs": [],
   "source": []
  }
 ],
 "metadata": {
  "kernelspec": {
   "display_name": "mengp369",
   "language": "python",
   "name": "mengp369"
  },
  "language_info": {
   "codemirror_mode": {
    "name": "ipython",
    "version": 3
   },
   "file_extension": ".py",
   "mimetype": "text/x-python",
   "name": "python",
   "nbconvert_exporter": "python",
   "pygments_lexer": "ipython3",
   "version": "3.6.9"
  }
 },
 "nbformat": 4,
 "nbformat_minor": 2
}
