{
 "cells": [
  {
   "cell_type": "code",
   "execution_count": 10,
   "metadata": {},
   "outputs": [],
   "source": [
    "import sys\n",
    "sys.path.append(\"./../../src\")\n",
    "from visualizer_helper import Visualizer\n",
    "from cluster_helper import ClusterProcessor\n",
    "\n",
    "import pandas as pd\n",
    "import numpy as np\n",
    "\n",
    "from tqdm import tqdm\n",
    "\n",
    "import matplotlib.pyplot as plt\n",
    "import seaborn as sns\n",
    "from wordcloud import WordCloud\n",
    "\n",
    "import scipy\n",
    "from scipy.sparse import csr_matrix, coo_matrix, triu\n",
    "from scipy.sparse.linalg import inv\n",
    "\n",
    "from sklearn.decomposition import PCA\n",
    "from sklearn.utils.extmath import randomized_svd\n",
    "from sklearn.cluster import KMeans\n",
    "from sklearn import preprocessing\n",
    "\n",
    "import pickle\n",
    "import os\n",
    "from collections import Counter\n",
    "\n",
    "from annoy import AnnoyIndex\n",
    "\n",
    "from sklearn.metrics import silhouette_samples, silhouette_score\n",
    "\n",
    "large_file_path = \"./../../../large_data_files\"\n",
    "k_neighbors = 50"
   ]
  },
  {
   "cell_type": "code",
   "execution_count": 3,
   "metadata": {},
   "outputs": [
    {
     "data": {
      "text/plain": [
       "(46520, 6984)"
      ]
     },
     "execution_count": 3,
     "metadata": {},
     "output_type": "execute_result"
    }
   ],
   "source": [
    "patient_icd_sparse_path = \"./../../data/PATIENT_ICD_BINARY_SPARSE_CSR.p\"\n",
    "pdata = pickle.load(open(patient_icd_sparse_path, \"rb\"))\n",
    "pdata.shape"
   ]
  },
  {
   "cell_type": "code",
   "execution_count": 6,
   "metadata": {
    "scrolled": false
   },
   "outputs": [
    {
     "name": "stderr",
     "output_type": "stream",
     "text": [
      "  0%|          | 4/46520 [00:00<19:58, 38.81it/s]"
     ]
    },
    {
     "name": "stdout",
     "output_type": "stream",
     "text": [
      "Building dense data matrix with k=50 nn...\n"
     ]
    },
    {
     "name": "stderr",
     "output_type": "stream",
     "text": [
      "100%|██████████| 46520/46520 [09:58<00:00, 77.79it/s]\n"
     ]
    }
   ],
   "source": [
    "\"\"\"\n",
    "Load the Annoy tree for approximate nearest neighbors.\n",
    "\"\"\"\n",
    "ANNOY_PATH = \"../../../large_data_files\"\n",
    "annoy_path = os.path.join(ANNOY_PATH, \"200214_patient_similarity_clusters_default.ann\")\n",
    "\n",
    "cos_knn_tree = AnnoyIndex(pdata.shape[1], \"angular\")\n",
    "cos_knn_tree.load(annoy_path)\n",
    "\n",
    "\"\"\"\n",
    "Build adjacency matrix A.\n",
    "\n",
    "In first pass, I fill in each row, so A is not yet symetric. I make it symetricin the next code block. \n",
    "\"\"\"\n",
    "gamma = 2\n",
    "print(\"Building dense data matrix with k={} nn...\".format(k_neighbors))\n",
    "A = np.zeros((pdata.shape[0], pdata.shape[0]))\n",
    "for i in tqdm(range(pdata.shape[0])):\n",
    "    #Not including self-loops or self-nearest neighbors via \"+1\" and [1:]\n",
    "    nn_idxs = cos_knn_tree.get_nns_by_item(i, k_neighbors + 1)[1:]\n",
    "    cos_distances = [cos_knn_tree.get_distance(i, nn) for nn in nn_idxs]\n",
    "    rbf_distances = [np.exp(-gamma*cos_dist**2) for cos_dist in cos_distances]\n",
    "    A[i, nn_idxs] = rbf_distances"
   ]
  },
  {
   "cell_type": "code",
   "execution_count": 7,
   "metadata": {},
   "outputs": [
    {
     "name": "stderr",
     "output_type": "stream",
     "text": [
      "100%|██████████| 46520/46520 [00:15<00:00, 3066.20it/s]\n",
      "100%|██████████| 46520/46520 [00:01<00:00, 25776.28it/s]\n"
     ]
    }
   ],
   "source": [
    "\"\"\"\n",
    "Make A symetric by only including mutual nearest neighbors\n",
    "\"\"\"\n",
    "\n",
    "#{Key:Value} = {Patient Index: List of nearest Neighbor indices}\n",
    "knn_adj = {}\n",
    "\n",
    "#Populate dictionary\n",
    "for i in tqdm(range(A.shape[0])):\n",
    "    nn_idx = set(np.nonzero(A[i])[0])\n",
    "    knn_adj[i] = nn_idx\n",
    "\n",
    "#Check for mutual nearest neighbors. \n",
    "##Set location to 0 if not mutual nearest neighbors\n",
    "for i in tqdm(range(A.shape[0])):\n",
    "    nns = knn_adj[i]\n",
    "    for nn in nns:\n",
    "        if i not in knn_adj[nn]:\n",
    "            A[i, nn] = 0\n",
    "            knn_adj[]\n",
    "\n",
    "pickle.dump(csr_matrix(A), open(\"./data/A_FULL_mknn_K{}_CSR.p\".format(k_neighbors), \"wb\"))"
   ]
  },
  {
   "cell_type": "markdown",
   "metadata": {},
   "source": [
    "# A loading"
   ]
  },
  {
   "cell_type": "code",
   "execution_count": 21,
   "metadata": {},
   "outputs": [
    {
     "data": {
      "text/plain": [
       "(46520, 46520)"
      ]
     },
     "execution_count": 21,
     "metadata": {},
     "output_type": "execute_result"
    }
   ],
   "source": [
    "A = pickle.load(open(\"./data/A_FULL_mknn_K{}_CSR.p\".format(k_neighbors), \"rb\"))\n",
    "A.shape"
   ]
  },
  {
   "cell_type": "code",
   "execution_count": 22,
   "metadata": {},
   "outputs": [
    {
     "name": "stdout",
     "output_type": "stream",
     "text": [
      "True\n",
      "True\n"
     ]
    }
   ],
   "source": [
    "\"\"\"Sanity Check: Matrix is indeed symetric\"\"\"\n",
    "print(np.array_equal(A.data, A.T.data))\n",
    "print(np.array_equal(A.indices, A.T.indices))"
   ]
  },
  {
   "cell_type": "code",
   "execution_count": 23,
   "metadata": {},
   "outputs": [],
   "source": [
    "k_neighbors = 50\n",
    "# A = pickle.load(open(\"./data/A_mknn_K{}_CSR.p\".format(k_neighbors), \"rb\"))"
   ]
  },
  {
   "cell_type": "code",
   "execution_count": 24,
   "metadata": {},
   "outputs": [
    {
     "data": {
      "image/png": "[encoded data removed]",
      "text/plain": [
       "<Figure size 576x360 with 1 Axes>"
      ]
     },
     "metadata": {
      "needs_background": "light"
     },
     "output_type": "display_data"
    }
   ],
   "source": [
    "\"\"\"Plot the distribution of nearest neighbors\"\"\"\n",
    "plt.figure(figsize=(8,5))\n",
    "ax = sns.distplot(np.count_nonzero(A.toarray(), axis=0), kde=False)\n",
    "ax.set(xlabel=\"Degree\")\n",
    "plt.savefig(\"./figures/mknn_featdist_K{}_RAW.png\".format(k_neighbors))"
   ]
  },
  {
   "cell_type": "markdown",
   "metadata": {},
   "source": [
    "### A: remove empty patients and outliers"
   ]
  },
  {
   "cell_type": "code",
   "execution_count": 25,
   "metadata": {},
   "outputs": [
    {
     "name": "stdout",
     "output_type": "stream",
     "text": [
      "<class 'scipy.sparse.csr.csr_matrix'>\n",
      "Shape after removing empty patients: (42970, 42970)\n"
     ]
    }
   ],
   "source": [
    "\"\"\"\n",
    "Remove patients without any nearest neighbors\n",
    "Remove patients with full (50) nearest neighbors. The communities can be thought of as \"outliers\"\n",
    "\"\"\"\n",
    "\n",
    "#Works because A is symetric\n",
    "rows_with_vals = np.unique(A.indices)\n",
    "\n",
    "A_nonempty = A[rows_with_vals][:, rows_with_vals]\n",
    "print(type(A_nonempty))\n",
    "print(\"Shape after removing empty patients:\", A_nonempty.shape)"
   ]
  },
  {
   "cell_type": "code",
   "execution_count": 26,
   "metadata": {},
   "outputs": [
    {
     "data": {
      "text/plain": [
       "[Text(0.5, 0, 'Degree')]"
      ]
     },
     "execution_count": 26,
     "metadata": {},
     "output_type": "execute_result"
    },
    {
     "data": {
      "image/png": "[encoded data removed]",
      "text/plain": [
       "<Figure size 576x360 with 1 Axes>"
      ]
     },
     "metadata": {
      "needs_background": "light"
     },
     "output_type": "display_data"
    }
   ],
   "source": [
    "\"\"\"Plot the distribution with empty patients removed\"\"\"\n",
    "plt.figure(figsize=(8,5))\n",
    "ax = sns.distplot(np.count_nonzero(A_nonempty.toarray(), axis=0), kde=False)\n",
    "ax.set(xlabel=\"Degree\")"
   ]
  },
  {
   "cell_type": "code",
   "execution_count": 27,
   "metadata": {},
   "outputs": [
    {
     "name": "stdout",
     "output_type": "stream",
     "text": [
      "(42970,)\n",
      "[    0     1     2 ... 42967 42968 42969]\n",
      "(42517,)\n"
     ]
    }
   ],
   "source": [
    "\"\"\"\n",
    "Remove patients with k_neighbors nearest neighbors. \n",
    "\"\"\"\n",
    "\n",
    "patient_degrees = np.count_nonzero(A_nonempty.toarray(), axis=0)\n",
    "\n",
    "#Sanity check to ensure all empty patients have been removed\n",
    "print(patient_degrees.shape)\n",
    "\n",
    "threshold = k_neighbors\n",
    "degree_threshold_idx = np.argwhere(patient_degrees < threshold)[:, 0]\n",
    "\n",
    "#Another sanity check\n",
    "print(degree_threshold_idx)\n",
    "print(degree_threshold_idx.shape)"
   ]
  },
  {
   "cell_type": "code",
   "execution_count": 30,
   "metadata": {},
   "outputs": [
    {
     "name": "stdout",
     "output_type": "stream",
     "text": [
      "Before shape: (42970, 42970)\n",
      "After shape: (42517, 42517)\n"
     ]
    }
   ],
   "source": [
    "#Only include patients with < k_neighbors nearest neighbors\n",
    "A_cleaned = A_nonempty[degree_threshold_idx][:, degree_threshold_idx]\n",
    "print(\"Before shape:\", A_nonempty.shape)\n",
    "print(\"After shape:\", A_cleaned.shape)"
   ]
  },
  {
   "cell_type": "code",
   "execution_count": 31,
   "metadata": {},
   "outputs": [
    {
     "data": {
      "image/png": "[encoded data removed]",
      "text/plain": [
       "<Figure size 576x360 with 1 Axes>"
      ]
     },
     "metadata": {
      "needs_background": "light"
     },
     "output_type": "display_data"
    }
   ],
   "source": [
    "\"\"\"Plot the distribution with empty patients and very dense patients removed\"\"\"\n",
    "plt.figure(figsize=(8,5))\n",
    "ax = sns.distplot(np.count_nonzero(A_cleaned.toarray(), axis=0), kde=False)\n",
    "ax.set(xlabel=\"Degree\")\n",
    "plt.savefig(\"./figures/mknn_featdist_K{}_emptyandoutliersremoved.png\".format(k_neighbors))"
   ]
  },
  {
   "cell_type": "code",
   "execution_count": 18,
   "metadata": {},
   "outputs": [
    {
     "data": {
      "text/html": [
       "<div>\n",
       "<style scoped>\n",
       "    .dataframe tbody tr th:only-of-type {\n",
       "        vertical-align: middle;\n",
       "    }\n",
       "\n",
       "    .dataframe tbody tr th {\n",
       "        vertical-align: top;\n",
       "    }\n",
       "\n",
       "    .dataframe thead th {\n",
       "        text-align: right;\n",
       "    }\n",
       "</style>\n",
       "<table border=\"1\" class=\"dataframe\">\n",
       "  <thead>\n",
       "    <tr style=\"text-align: right;\">\n",
       "      <th></th>\n",
       "      <th>SUBJECT_ID</th>\n",
       "    </tr>\n",
       "  </thead>\n",
       "  <tbody>\n",
       "    <tr>\n",
       "      <th>0</th>\n",
       "      <td>109</td>\n",
       "    </tr>\n",
       "    <tr>\n",
       "      <th>1</th>\n",
       "      <td>112</td>\n",
       "    </tr>\n",
       "    <tr>\n",
       "      <th>2</th>\n",
       "      <td>113</td>\n",
       "    </tr>\n",
       "    <tr>\n",
       "      <th>3</th>\n",
       "      <td>114</td>\n",
       "    </tr>\n",
       "    <tr>\n",
       "      <th>4</th>\n",
       "      <td>115</td>\n",
       "    </tr>\n",
       "    <tr>\n",
       "      <th>...</th>\n",
       "      <td>...</td>\n",
       "    </tr>\n",
       "    <tr>\n",
       "      <th>46515</th>\n",
       "      <td>97164</td>\n",
       "    </tr>\n",
       "    <tr>\n",
       "      <th>46516</th>\n",
       "      <td>97484</td>\n",
       "    </tr>\n",
       "    <tr>\n",
       "      <th>46517</th>\n",
       "      <td>97488</td>\n",
       "    </tr>\n",
       "    <tr>\n",
       "      <th>46518</th>\n",
       "      <td>97492</td>\n",
       "    </tr>\n",
       "    <tr>\n",
       "      <th>46519</th>\n",
       "      <td>97497</td>\n",
       "    </tr>\n",
       "  </tbody>\n",
       "</table>\n",
       "<p>46520 rows × 1 columns</p>\n",
       "</div>"
      ],
      "text/plain": [
       "       SUBJECT_ID\n",
       "0             109\n",
       "1             112\n",
       "2             113\n",
       "3             114\n",
       "4             115\n",
       "...           ...\n",
       "46515       97164\n",
       "46516       97484\n",
       "46517       97488\n",
       "46518       97492\n",
       "46519       97497\n",
       "\n",
       "[46520 rows x 1 columns]"
      ]
     },
     "execution_count": 18,
     "metadata": {},
     "output_type": "execute_result"
    }
   ],
   "source": [
    "\"\"\"\n",
    "Save all indexing information for final analysis\n",
    "\"\"\"\n",
    "#PATIENT_ICD_SUBJECT_IDS maps the \"matrix row index\" to \"patient id\"\n",
    "##We want to keep track of which patients are remaining and which were removed\n",
    "remaining_subject_ids = pd.read_csv(\"../../data/PATIENT_ICD_SUBJECT_IDS.csv\")\n",
    "remaining_subject_ids"
   ]
  },
  {
   "cell_type": "code",
   "execution_count": null,
   "metadata": {},
   "outputs": [],
   "source": [
    "\"\"\"ONLY RUN IF first pass, OTHERWISE skip to next block to load pre-computed indexing file\"\"\"\n",
    "remaining_subject_ids_cleaned = remaining_subject_ids.iloc[rows_with_vals].iloc[degree_threshold_idx]\n",
    "remaining_subject_ids_cleaned[\"ORIGINAL_INDEX\"] = remaining_subject_ids_cleaned.index\n",
    "remaining_subject_ids_cleaned.to_csv(\"./data/REMAINING_SUBJECT_IDS.csv\", index=None)"
   ]
  },
  {
   "cell_type": "code",
   "execution_count": 16,
   "metadata": {},
   "outputs": [
    {
     "data": {
      "text/html": [
       "<div>\n",
       "<style scoped>\n",
       "    .dataframe tbody tr th:only-of-type {\n",
       "        vertical-align: middle;\n",
       "    }\n",
       "\n",
       "    .dataframe tbody tr th {\n",
       "        vertical-align: top;\n",
       "    }\n",
       "\n",
       "    .dataframe thead th {\n",
       "        text-align: right;\n",
       "    }\n",
       "</style>\n",
       "<table border=\"1\" class=\"dataframe\">\n",
       "  <thead>\n",
       "    <tr style=\"text-align: right;\">\n",
       "      <th></th>\n",
       "      <th>SUBJECT_ID</th>\n",
       "      <th>ORIGINAL_INDEX</th>\n",
       "    </tr>\n",
       "  </thead>\n",
       "  <tbody>\n",
       "    <tr>\n",
       "      <th>0</th>\n",
       "      <td>109</td>\n",
       "      <td>0</td>\n",
       "    </tr>\n",
       "    <tr>\n",
       "      <th>1</th>\n",
       "      <td>112</td>\n",
       "      <td>1</td>\n",
       "    </tr>\n",
       "    <tr>\n",
       "      <th>2</th>\n",
       "      <td>113</td>\n",
       "      <td>2</td>\n",
       "    </tr>\n",
       "    <tr>\n",
       "      <th>3</th>\n",
       "      <td>114</td>\n",
       "      <td>3</td>\n",
       "    </tr>\n",
       "    <tr>\n",
       "      <th>4</th>\n",
       "      <td>115</td>\n",
       "      <td>4</td>\n",
       "    </tr>\n",
       "    <tr>\n",
       "      <th>...</th>\n",
       "      <td>...</td>\n",
       "      <td>...</td>\n",
       "    </tr>\n",
       "    <tr>\n",
       "      <th>42512</th>\n",
       "      <td>97164</td>\n",
       "      <td>46515</td>\n",
       "    </tr>\n",
       "    <tr>\n",
       "      <th>42513</th>\n",
       "      <td>97484</td>\n",
       "      <td>46516</td>\n",
       "    </tr>\n",
       "    <tr>\n",
       "      <th>42514</th>\n",
       "      <td>97488</td>\n",
       "      <td>46517</td>\n",
       "    </tr>\n",
       "    <tr>\n",
       "      <th>42515</th>\n",
       "      <td>97492</td>\n",
       "      <td>46518</td>\n",
       "    </tr>\n",
       "    <tr>\n",
       "      <th>42516</th>\n",
       "      <td>97497</td>\n",
       "      <td>46519</td>\n",
       "    </tr>\n",
       "  </tbody>\n",
       "</table>\n",
       "<p>42517 rows × 2 columns</p>\n",
       "</div>"
      ],
      "text/plain": [
       "       SUBJECT_ID  ORIGINAL_INDEX\n",
       "0             109               0\n",
       "1             112               1\n",
       "2             113               2\n",
       "3             114               3\n",
       "4             115               4\n",
       "...           ...             ...\n",
       "42512       97164           46515\n",
       "42513       97484           46516\n",
       "42514       97488           46517\n",
       "42515       97492           46518\n",
       "42516       97497           46519\n",
       "\n",
       "[42517 rows x 2 columns]"
      ]
     },
     "execution_count": 16,
     "metadata": {},
     "output_type": "execute_result"
    }
   ],
   "source": [
    "\"\"\"\n",
    "SUBJECT_ID = Patient ID\n",
    "ORIGINAL_INDEX = Corresponding row index in original, un-processed 46520x46520 adjacency matrix\n",
    "\n",
    "Important because we can now map indices between the processed adjacency matrix to the original adjacency matrix\n",
    "\"\"\"\n",
    "remaining_subject_ids = pd.read_csv(\"./data/REMAINING_SUBJECT_IDS.csv\")\n",
    "remaining_subject_ids"
   ]
  },
  {
   "cell_type": "markdown",
   "metadata": {},
   "source": [
    "## A rescaling"
   ]
  },
  {
   "cell_type": "code",
   "execution_count": 33,
   "metadata": {},
   "outputs": [
    {
     "name": "stdout",
     "output_type": "stream",
     "text": [
      "0.0 1.0\n",
      "[0.06656105 0.05220621 0.04366442 ... 0.06948346 0.05569175 0.06488823]\n",
      "(42517, 42517)\n"
     ]
    }
   ],
   "source": [
    "\"\"\"\n",
    "We rescale and increase values in A to prevent numerical errors later in the pipeline. \n",
    "\n",
    "Before, the values in A are small between 0-1. After, they are larger between 1-7.38\n",
    "\"\"\"\n",
    "A = A_cleaned\n",
    "print(np.min(A), np.max(A))\n",
    "print(A.data)\n",
    "print(A.shape)"
   ]
  },
  {
   "cell_type": "code",
   "execution_count": 35,
   "metadata": {},
   "outputs": [
    {
     "data": {
      "text/plain": [
       "<matplotlib.axes._subplots.AxesSubplot at 0x1a223e2828>"
      ]
     },
     "execution_count": 35,
     "metadata": {},
     "output_type": "execute_result"
    },
    {
     "data": {
      "image/png": "[encoded data removed]",
      "text/plain": [
       "<Figure size 432x288 with 1 Axes>"
      ]
     },
     "metadata": {
      "needs_background": "light"
     },
     "output_type": "display_data"
    }
   ],
   "source": [
    "nonzero_idx_A = np.nonzero(A.toarray())\n",
    "\n",
    "\"\"\"Distribution of unscaled data\"\"\"\n",
    "sns.distplot(A[nonzero_idx_A], kde=False)"
   ]
  },
  {
   "cell_type": "code",
   "execution_count": 36,
   "metadata": {},
   "outputs": [],
   "source": [
    "\"\"\"\n",
    "Rescaling done exponentially has the benefit of accentuating similarity differences in the similarity matrix.\n",
    "\"\"\"\n",
    "rescaled_data = np.exp(2*A[nonzero_idx_A])"
   ]
  },
  {
   "cell_type": "code",
   "execution_count": 43,
   "metadata": {},
   "outputs": [
    {
     "name": "stdout",
     "output_type": "stream",
     "text": [
      "[[1.14238949 1.11005817 1.09125547 ... 1.14908608 1.11782351 1.13857383]]\n",
      "1.0587944922327113 7.38905609893065\n"
     ]
    },
    {
     "data": {
      "image/png": "[encoded data removed]",
      "text/plain": [
       "<Figure size 432x288 with 1 Axes>"
      ]
     },
     "metadata": {
      "needs_background": "light"
     },
     "output_type": "display_data"
    }
   ],
   "source": [
    "sns.distplot(rescaled_data, kde=False)\n",
    "print(rescaled_data)\n",
    "print(np.min(rescaled_data), np.max(rescaled_data))"
   ]
  },
  {
   "cell_type": "code",
   "execution_count": 37,
   "metadata": {},
   "outputs": [
    {
     "name": "stdout",
     "output_type": "stream",
     "text": [
      "0.0 7.38905609893065\n"
     ]
    }
   ],
   "source": [
    "#Save rescaled data\n",
    "A_rescaled = A.copy().toarray()\n",
    "A_rescaled[nonzero_idx_A] = rescaled_data\n",
    "A_rescaled = csr_matrix(A_rescaled)\n",
    "print(A_rescaled.min(), A_rescaled.max())"
   ]
  },
  {
   "cell_type": "code",
   "execution_count": 45,
   "metadata": {},
   "outputs": [],
   "source": [
    "pickle.dump(csr_matrix(A_rescaled), open(\"./data/A_mknn_K{}_CSR.p\".format(k_neighbors), \"wb\"))"
   ]
  },
  {
   "cell_type": "code",
   "execution_count": 38,
   "metadata": {},
   "outputs": [
    {
     "name": "stdout",
     "output_type": "stream",
     "text": [
      "(42517, 42517)\n",
      "0.0 7.38905609893065\n"
     ]
    }
   ],
   "source": [
    "A = pickle.load(open(\"./data/A_mknn_K{}_CSR.p\".format(k_neighbors), \"rb\"))\n",
    "print(A.shape)\n",
    "print(A.min(), A.max())"
   ]
  },
  {
   "cell_type": "markdown",
   "metadata": {},
   "source": [
    "# D"
   ]
  },
  {
   "cell_type": "code",
   "execution_count": 47,
   "metadata": {
    "scrolled": true
   },
   "outputs": [
    {
     "name": "stderr",
     "output_type": "stream",
     "text": [
      "100%|██████████| 42517/42517 [00:09<00:00, 4278.44it/s]\n"
     ]
    }
   ],
   "source": [
    "\"\"\"\n",
    "D matrix computed by summing rows of A according to Ng et. al.\n",
    "https://ai.stanford.edu/~ang/papers/nips01-spectral.pdf\n",
    "\"\"\"\n",
    "D = np.zeros((A.shape[0], A.shape[0]))\n",
    "for i in tqdm(range(A.shape[0])):\n",
    "    D[i, i] = np.sum(A[i])\n",
    "    \n",
    "pickle.dump(csr_matrix(D), open(\"./data/D_mknn_K{}_CSR.p\".format(k_neighbors), \"wb\"))"
   ]
  },
  {
   "cell_type": "code",
   "execution_count": 39,
   "metadata": {},
   "outputs": [
    {
     "data": {
      "text/plain": [
       "<matplotlib.axes._subplots.AxesSubplot at 0x1a23604be0>"
      ]
     },
     "execution_count": 39,
     "metadata": {},
     "output_type": "execute_result"
    },
    {
     "data": {
      "image/png": "[encoded data removed]",
      "text/plain": [
       "<Figure size 432x288 with 2 Axes>"
      ]
     },
     "metadata": {
      "needs_background": "light"
     },
     "output_type": "display_data"
    }
   ],
   "source": [
    "D = pickle.load(open(\"./data/D_mknn_K{}_CSR.p\".format(k_neighbors), \"rb\"))\n",
    "sns.heatmap(D[:100, :100].toarray(), cmap=\"Reds\")"
   ]
  },
  {
   "cell_type": "markdown",
   "metadata": {},
   "source": [
    "# D_mc (poor variable name for degree-corrected D)"
   ]
  },
  {
   "cell_type": "code",
   "execution_count": 41,
   "metadata": {},
   "outputs": [],
   "source": [
    "\"\"\"\n",
    "Degree-corrected acts as regularization and theoretically reduces the outlier effect of highly-connected patients \n",
    "\"\"\"\n",
    "k_neighbors = 50"
   ]
  },
  {
   "cell_type": "code",
   "execution_count": 44,
   "metadata": {},
   "outputs": [
    {
     "name": "stdout",
     "output_type": "stream",
     "text": [
      "47.203751839879196 23.6018759199396\n"
     ]
    }
   ],
   "source": [
    "diag_idx = np.diag_indices(D.shape[0])\n",
    "D_mean = np.mean(D[diag_idx])\n",
    "\n",
    "D_mc = D.copy()\n",
    "D_mc[diag_idx] = D[diag_idx] + D_mean\n",
    "print(np.mean(D_mc[diag_idx]), np.mean(D[diag_idx]))"
   ]
  },
  {
   "cell_type": "code",
   "execution_count": 51,
   "metadata": {},
   "outputs": [],
   "source": [
    "pickle.dump(csr_matrix(D_mc), open(\"./data/D_mc_mknn_K{}_CSR.p\".format(k_neighbors), \"wb\"))"
   ]
  },
  {
   "cell_type": "markdown",
   "metadata": {},
   "source": [
    "# D_inv_sqrt"
   ]
  },
  {
   "cell_type": "code",
   "execution_count": 42,
   "metadata": {},
   "outputs": [],
   "source": [
    "\"\"\"\n",
    "Compute D^(-1/2) according to Ng et. al.\n",
    "https://ai.stanford.edu/~ang/papers/nips01-spectral.pdf\n",
    "\"\"\"\n",
    "\n",
    "k_neighbors = 50"
   ]
  },
  {
   "cell_type": "code",
   "execution_count": 45,
   "metadata": {},
   "outputs": [
    {
     "name": "stdout",
     "output_type": "stream",
     "text": [
      "(42517, 42517) (42517, 42517)\n",
      "23.6018759199396 47.203751839879196\n",
      "0.000555116210455573 0.0011102324209111463\n"
     ]
    }
   ],
   "source": [
    "D = pickle.load(open(\"./data/D_mknn_K{}_CSR.p\".format(k_neighbors), \"rb\"))\n",
    "D_mc = pickle.load(open(\"./data/D_mc_mknn_K{}_CSR.p\".format(k_neighbors), \"rb\"))\n",
    "print(D.shape, D_mc.shape)\n",
    "print(np.mean(D[diag_idx]), np.mean(D_mc[diag_idx]))\n",
    "print(np.mean(D), np.mean(D_mc))"
   ]
  },
  {
   "cell_type": "code",
   "execution_count": 54,
   "metadata": {},
   "outputs": [],
   "source": [
    "def get_inv_sqrt(d):\n",
    "    #Only divide by nonzero values to prevent nan errors. \n",
    "    nonzero_idx = np.nonzero(d)\n",
    "    d_diag_sqrt_inv = 1.0/np.sqrt(d[nonzero_idx])\n",
    "    d_inv_sqrt = d.copy()\n",
    "    d_inv_sqrt[nonzero_idx] = d_diag_sqrt_inv\n",
    "    return d_inv_sqrt\n",
    "\n",
    "D_inv_sqrt = get_inv_sqrt(D)\n",
    "D_mc_inv_sqrt = get_inv_sqrt(D_mc)"
   ]
  },
  {
   "cell_type": "code",
   "execution_count": 55,
   "metadata": {},
   "outputs": [],
   "source": [
    "pickle.dump(D_inv_sqrt, open(\"./data/D_mknn_inv_sqrt_K{}_CSR.p\".format(k_neighbors), \"wb\"))\n",
    "pickle.dump(D_mc_inv_sqrt, open(\"./data/D_mc_mknn_inv_sqrt_K{}_CSR.p\".format(k_neighbors), \"wb\"))"
   ]
  },
  {
   "cell_type": "markdown",
   "metadata": {},
   "source": [
    "# Compute normalized L"
   ]
  },
  {
   "cell_type": "code",
   "execution_count": 56,
   "metadata": {},
   "outputs": [],
   "source": [
    "\"\"\"\n",
    "L and L_mc are both calculated according to Ng et. al. with their respective matrices.\n",
    "https://ai.stanford.edu/~ang/papers/nips01-spectral.pdf\n",
    "\n",
    "L_mc = degree corrected L\n",
    "\"\"\"\n",
    "k_neighbors = 50"
   ]
  },
  {
   "cell_type": "code",
   "execution_count": 57,
   "metadata": {},
   "outputs": [
    {
     "name": "stdout",
     "output_type": "stream",
     "text": [
      "(42517, 42517) (42517, 42517) (42517, 42517)\n"
     ]
    }
   ],
   "source": [
    "A = pickle.load(open(\"./data/A_mknn_K{}_CSR.p\".format(k_neighbors), \"rb\"))\n",
    "D_inv_sqrt = pickle.load(open(\"./data/D_mknn_inv_sqrt_K{}_CSR.p\".format(k_neighbors), \"rb\"))\n",
    "D_mc_inv_sqrt = pickle.load(open(\"./data/D_mc_mknn_inv_sqrt_K{}_CSR.p\".format(k_neighbors), \"rb\"))\n",
    "print(A.shape, D.shape, D_mc.shape)\n",
    "\n",
    "L = D_inv_sqrt.dot(A.dot(D_inv_sqrt))\n",
    "L_mc = D_mc_inv_sqrt.dot(A.dot(D_mc_inv_sqrt))\n",
    "\n",
    "pickle.dump(csr_matrix(L), open(\"./data/L_mknn_K{}_CSR.p\".format(k_neighbors), \"wb\"))\n",
    "pickle.dump(csr_matrix(L_mc), open(\"./data/L_mc_mknn_K{}_CSR.p\".format(k_neighbors), \"wb\"))"
   ]
  },
  {
   "cell_type": "code",
   "execution_count": 58,
   "metadata": {},
   "outputs": [
    {
     "name": "stdout",
     "output_type": "stream",
     "text": [
      "(42517, 42517) (42517, 42517)\n",
      "0.0 1.0000000000000002\n",
      "0.0 0.23842639177264768\n"
     ]
    }
   ],
   "source": [
    "\"\"\"The reduced range of L_mc is expected (Increasing values of D_mc => Decreasing inverse of D_mc)\"\"\"\n",
    "print(L.shape, L_mc.shape)\n",
    "print(np.min(L), np.max(L))\n",
    "print(np.min(L_mc), np.max(L_mc))"
   ]
  },
  {
   "cell_type": "markdown",
   "metadata": {},
   "source": [
    "\n",
    "# Eigen Decomposition"
   ]
  },
  {
   "cell_type": "code",
   "execution_count": 2,
   "metadata": {},
   "outputs": [],
   "source": [
    "L = pickle.load(open(\"./data/L_mknn_K{}_CSR.p\".format(k_neighbors), \"rb\"))\n",
    "L_mc = pickle.load(open(\"./data/L_mc_mknn_K{}_CSR.p\".format(k_neighbors), \"rb\"))\n",
    "\n",
    "evecs=2000\n",
    "L_evecs, L_evals, _ = randomized_svd(L, n_components=evecs)\n",
    "L_mc_evecs, L_mc_evals, _ = randomized_svd(L_mc, n_components=evecs)\n",
    "# pickle.dump(L_evecs, open(\"./data/L_evecs{}_K{}.p\".format(evecs, k_neighbors), 'wb'))\n",
    "# pickle.dump(L_mc_evecs, open(\"./data/L_mc_evecs{}_K{}.p\".format(evecs, k_neighbors), \"wb\"))\n",
    "# pickle.dump(L_evals, open(\"./data/L_evals{}_K{}.p\".format(evecs, k_neighbors), \"wb\"))\n",
    "# pickle.dump(L_mc_evals, open(\"./data/L_mc_evals{}_K{}.p\".format(evecs, k_neighbors), \"wb\"))"
   ]
  },
  {
   "cell_type": "code",
   "execution_count": 69,
   "metadata": {},
   "outputs": [
    {
     "data": {
      "image/png": "[encoded data removed]",
      "text/plain": [
       "<Figure size 360x360 with 1 Axes>"
      ]
     },
     "metadata": {
      "needs_background": "light"
     },
     "output_type": "display_data"
    },
    {
     "data": {
      "image/png": "[encoded data removed]",
      "text/plain": [
       "<Figure size 360x360 with 1 Axes>"
      ]
     },
     "metadata": {
      "needs_background": "light"
     },
     "output_type": "display_data"
    }
   ],
   "source": [
    "#print(np.flip(L_evals_svd))\n",
    "plt.figure(figsize=(5,5))\n",
    "ax = sns.scatterplot(range(L_evals.shape[0]), L_evals)\n",
    "# plt.savefig(\"./figures/L_EVALS{}.png\".format(evecs))\n",
    "\n",
    "#print(np.flip(L_mc_evals_svd))\n",
    "plt.figure(figsize=(5,5))\n",
    "ax = sns.scatterplot(range(L_mc_evals.shape[0]), L_mc_evals)\n",
    "# plt.savefig(\"./figures/L_mc_EVALS{}.png\".format(evecs))"
   ]
  },
  {
   "cell_type": "code",
   "execution_count": 16,
   "metadata": {},
   "outputs": [],
   "source": [
    "pickle.dump(L_evecs, open(\"./data/L_evecs{}_K{}.p\".format(evecs, k_neighbors), 'wb'))\n",
    "pickle.dump(L_mc_evecs, open(\"./data/L_mc_evecs{}_K{}.p\".format(evecs, k_neighbors), \"wb\"))\n",
    "pickle.dump(L_evals, open(\"./data/L_evals{}_K{}.p\".format(evecs, k_neighbors), \"wb\"))\n",
    "pickle.dump(L_mc_evals, open(\"./data/L_mc_evals{}_K{}.p\".format(evecs, k_neighbors), \"wb\"))"
   ]
  },
  {
   "cell_type": "code",
   "execution_count": 3,
   "metadata": {},
   "outputs": [],
   "source": [
    "\"\"\"\n",
    "NOTE: Based on the plots above, we the eigenvectors corresponding to highly relevant eigenvalues. \n",
    "\n",
    "L: Eigenvectors 200-500\n",
    "L_mc: Eigenvectors 0-300\n",
    "\"\"\"\n",
    "\n",
    "L_evecs_top = L_evecs[:, 200:450]\n",
    "L_mc_evecs_top = L_mc_evecs[:, :300]\n",
    "pickle.dump(L_evecs_top, open(\"./data/TOP_L_evecs{}_200_500_K{}.p\".format(evecs, k_neighbors), 'wb'))\n",
    "pickle.dump(L_mc_evecs_top, open(\"./data/TOP_L_mc_evecs{}_0_300_K{}.p\".format(evecs, k_neighbors), \"wb\"))"
   ]
  },
  {
   "cell_type": "code",
   "execution_count": 61,
   "metadata": {
    "scrolled": true
   },
   "outputs": [
    {
     "name": "stdout",
     "output_type": "stream",
     "text": [
      "             Evec_0        Evec_1        Evec_2        Evec_3        Evec_4  \\\n",
      "count  42517.000000  42517.000000  42517.000000  42517.000000  42517.000000   \n",
      "mean       0.000164      0.000051      0.000480     -0.000257     -0.000085   \n",
      "std        0.004847      0.004850      0.004826      0.004843      0.004849   \n",
      "min       -0.134232     -0.190371     -0.164643     -0.162099     -0.182411   \n",
      "25%       -0.000254     -0.000187      0.000147     -0.000459     -0.000430   \n",
      "50%        0.000021      0.000119      0.000431      0.000100     -0.000159   \n",
      "75%        0.000322      0.000428      0.000884      0.000528      0.000059   \n",
      "max        0.177969      0.215234      0.219077      0.193335      0.186981   \n",
      "\n",
      "             Evec_5        Evec_6        Evec_7        Evec_8        Evec_9  \\\n",
      "count  42517.000000  42517.000000  42517.000000  42517.000000  42517.000000   \n",
      "mean      -0.000119     -0.000113     -0.000028     -0.000107      0.000281   \n",
      "std        0.004848      0.004848      0.004850      0.004849      0.004842   \n",
      "min       -0.167166     -0.140836     -0.140463     -0.149404     -0.163774   \n",
      "25%       -0.000486     -0.000274     -0.000538     -0.000422     -0.000355   \n",
      "50%       -0.000053      0.000029      0.000056     -0.000129      0.000061   \n",
      "75%        0.000347      0.000288      0.000508      0.000133      0.000508   \n",
      "max        0.171100      0.166732      0.164634      0.188677      0.183736   \n",
      "\n",
      "            Evec_10       Evec_11       Evec_12       Evec_13       Evec_14  \\\n",
      "count  42517.000000  42517.000000  42517.000000  42517.000000  42517.000000   \n",
      "mean       0.000562      0.000454     -0.000113      0.000247      0.000376   \n",
      "std        0.004817      0.004829      0.004848      0.004843      0.004835   \n",
      "min       -0.135546     -0.168677     -0.158560     -0.145590     -0.150573   \n",
      "25%        0.000146     -0.000177     -0.000413     -0.000580     -0.000159   \n",
      "50%        0.000381      0.000457     -0.000105      0.000223      0.000379   \n",
      "75%        0.000906      0.001191      0.000214      0.001176      0.000788   \n",
      "max        0.139190      0.176983      0.160468      0.185128      0.212436   \n",
      "\n",
      "            Evec_15       Evec_16       Evec_17       Evec_18       Evec_19  \n",
      "count  42517.000000  42517.000000  42517.000000  42517.000000  42517.000000  \n",
      "mean       0.000479      0.000208      0.000050      0.000033     -0.000014  \n",
      "std        0.004826      0.004845      0.004850      0.004850      0.004850  \n",
      "min       -0.132841     -0.169137     -0.144877     -0.181937     -0.158880  \n",
      "25%        0.000018     -0.000309     -0.000669     -0.000512     -0.000417  \n",
      "50%        0.000281      0.000244     -0.000005      0.000177     -0.000063  \n",
      "75%        0.000716      0.000696      0.000683      0.000727      0.000405  \n",
      "max        0.160687      0.172878      0.209306      0.194606      0.160411  \n",
      "             Evec_0        Evec_1        Evec_2        Evec_3        Evec_4  \\\n",
      "count  4.251700e+04  4.251700e+04  4.251700e+04  4.251700e+04  42517.000000   \n",
      "mean   2.356381e-04  1.356084e-04  8.831512e-05  5.152282e-04     -0.000254   \n",
      "std    4.844072e-03  4.847903e-03  4.848995e-03  4.822353e-03      0.004843   \n",
      "min   -7.591517e-02 -2.419755e-02 -7.727736e-02 -7.863871e-02     -0.129979   \n",
      "25%   -6.168292e-06 -2.042747e-05 -1.673056e-05  3.435256e-07     -0.000084   \n",
      "50%    1.570406e-07 -7.462396e-08  2.013755e-07  9.883552e-06     -0.000015   \n",
      "75%    1.690857e-05  4.657574e-06  1.552652e-05  7.641059e-05     -0.000002   \n",
      "max    1.117988e-01  1.978935e-01  2.733428e-01  1.422023e-01      0.206369   \n",
      "\n",
      "             Evec_5        Evec_6        Evec_7        Evec_8        Evec_9  \\\n",
      "count  4.251700e+04  42517.000000  4.251700e+04  42517.000000  42517.000000   \n",
      "mean   1.148098e-04      0.000236 -2.153178e-04      0.000074      0.000270   \n",
      "std    4.848441e-03      0.004844  4.845017e-03      0.004849      0.004842   \n",
      "min   -4.604060e-02     -0.068699 -6.568482e-02     -0.105186     -0.027024   \n",
      "25%   -9.252924e-07      0.000001  6.635964e-07     -0.000002     -0.000044   \n",
      "50%    1.021625e-05      0.000022  1.561208e-05      0.000005     -0.000002   \n",
      "75%    7.297738e-05      0.000105  6.997204e-05      0.000038      0.000049   \n",
      "max    1.904822e-01      0.161466  1.011341e-01      0.261975      0.214677   \n",
      "\n",
      "            Evec_10       Evec_11       Evec_12       Evec_13       Evec_14  \\\n",
      "count  4.251700e+04  4.251700e+04  42517.000000  42517.000000  42517.000000   \n",
      "mean  -8.710236e-05 -1.628581e-04     -0.000090      0.000339      0.000329   \n",
      "std    4.849017e-03  4.847064e-03      0.004849      0.004838      0.004839   \n",
      "min   -7.942195e-02 -8.299045e-02     -0.090334     -0.064832     -0.047628   \n",
      "25%   -1.604500e-05 -6.671336e-05     -0.000102     -0.000030     -0.000005   \n",
      "50%    5.174580e-08 -6.688952e-07     -0.000004     -0.000001      0.000010   \n",
      "75%    3.040804e-05  3.053653e-05      0.000007      0.000031      0.000091   \n",
      "max    2.095930e-01  9.893837e-02      0.165413      0.153590      0.062732   \n",
      "\n",
      "            Evec_15       Evec_16       Evec_17       Evec_18       Evec_19  \n",
      "count  42517.000000  4.251700e+04  42517.000000  42517.000000  42517.000000  \n",
      "mean      -0.000125  3.554029e-05     -0.000036      0.000100      0.000050  \n",
      "std        0.004848  4.849669e-03      0.004850      0.004849      0.004850  \n",
      "min       -0.054084 -1.228676e-01     -0.119416     -0.116836     -0.071241  \n",
      "25%       -0.000022  7.495534e-08     -0.000080     -0.000048     -0.000024  \n",
      "50%        0.000007  1.561383e-05     -0.000007     -0.000006      0.000011  \n",
      "75%        0.000084  1.014228e-04      0.000010      0.000019      0.000092  \n",
      "max        0.178980  1.560313e-01      0.209305      0.141592      0.092426  \n"
     ]
    }
   ],
   "source": [
    "\"\"\"\n",
    "evecs_to_plot=20\n",
    "L_k_evecs = L_evecs[:, -evecs_to_plot:]\n",
    "L_mc_k_evecs = L_mc_evecs[:, -evecs_to_plot:]\n",
    "\n",
    "evec_cols = [\"Evec_{}\".format(i) for i in range(evecs_to_plot)]\n",
    "\n",
    "L_evec_df = pd.DataFrame(L_k_evecs, columns=evec_cols)\n",
    "L_mc_evec_df = pd.DataFrame(L_mc_k_evecs, columns=evec_cols)\n",
    "print(L_evec_df.describe())\n",
    "print(L_mc_evec_df.describe())\n",
    "\"\"\""
   ]
  },
  {
   "cell_type": "markdown",
   "metadata": {},
   "source": [
    "# K-Means clustering"
   ]
  },
  {
   "cell_type": "code",
   "execution_count": 6,
   "metadata": {},
   "outputs": [],
   "source": [
    "A_file = \"A_mknn_K50_CSR.p\"\n",
    "\n",
    "D_file = \"D_mknn_K50_CSR.p\"\n",
    "D_mc_file = \"D_mc_mknn_K50_CSR.p\"\n",
    "\n",
    "L_file = \"L_mknn_K50_CSR.p\"\n",
    "L_eval_file = \"L_evals2000_K50.p\"\n",
    "L_evec_file = \"TOP_L_evecs2000_200_450_K50.p\"\n",
    "\n",
    "L_mc_file = \"L_mc_mknn_K50_CSR.p\"\n",
    "L_mc_eval_file = \"L_mc_evals2000_K50.p\"\n",
    "L_mc_evec_file = \"TOP_L_mc_evecs2000_0_250_K50.p\""
   ]
  },
  {
   "cell_type": "code",
   "execution_count": 7,
   "metadata": {},
   "outputs": [
    {
     "name": "stdout",
     "output_type": "stream",
     "text": [
      "(2000,) (42517, 250)\n",
      "(2000,) (42517, 250)\n"
     ]
    }
   ],
   "source": [
    "\"\"\"\n",
    "Load relevant matrices.\n",
    "\n",
    "NOTE on features kept:\n",
    "\n",
    "L: eigenvectors 250-500 \n",
    "L_mc: eigenvectors 0-500\n",
    "\"\"\"\n",
    "\n",
    "A = pickle.load(open(\"./data/{}\".format(A_file), \"rb\"))\n",
    "\n",
    "D = pickle.load(open(\"./data/{}\".format(D_file), \"rb\"))\n",
    "D_mc = pickle.load(open(\"./data/{}\".format(D_mc_file), \"rb\"))\n",
    "\n",
    "L = pickle.load(open(\"./data/{}\".format(L_file), \"rb\"))\n",
    "L_eval = pickle.load(open(\"./data/{}\".format(L_eval_file), \"rb\"))\n",
    "L_evec = pickle.load(open(\"./data/{}\".format(L_evec_file), 'rb'))\n",
    "\n",
    "L_mc = pickle.load(open(\"./data/{}\".format(L_mc_file), \"rb\"))\n",
    "L_mc_eval = pickle.load(open(\"./data/{}\".format(L_mc_eval_file), \"rb\"))\n",
    "L_mc_evec = pickle.load(open(\"./data/{}\".format(L_mc_evec_file), \"rb\"))\n",
    "\n",
    "print(L_eval.shape, L_evec.shape)\n",
    "print(L_mc_eval.shape, L_mc_evec.shape)"
   ]
  },
  {
   "cell_type": "code",
   "execution_count": 68,
   "metadata": {},
   "outputs": [],
   "source": [
    "L_mc_evals = L_mc_eval\n",
    "L_evals = L_eval"
   ]
  },
  {
   "cell_type": "code",
   "execution_count": 70,
   "metadata": {},
   "outputs": [
    {
     "data": {
      "image/png": "[encoded data removed]",
      "text/plain": [
       "<Figure size 360x360 with 1 Axes>"
      ]
     },
     "metadata": {
      "needs_background": "light"
     },
     "output_type": "display_data"
    },
    {
     "data": {
      "image/png": "[encoded data removed]",
      "text/plain": [
       "<Figure size 360x360 with 1 Axes>"
      ]
     },
     "metadata": {
      "needs_background": "light"
     },
     "output_type": "display_data"
    }
   ],
   "source": [
    "\"\"\"\n",
    "Grab corresponding eigenvalues and plot them separately\n",
    "\"\"\"\n",
    "L_eval_kept = L_eval[200:450]\n",
    "L_mc_eval_kept = L_mc_eval[:250]\n",
    "\n",
    "plt.figure(figsize=(5,5))\n",
    "ax = sns.scatterplot(range(L_eval_kept.shape[0]), L_eval_kept)\n",
    "plt.savefig(\"./figures/L_EVALS{}_250_500.png\".format(evecs))\n",
    "\n",
    "plt.figure(figsize=(5,5))\n",
    "ax = sns.scatterplot(range(L_mc_eval_kept.shape[0]), L_mc_eval_kept)\n",
    "plt.savefig(\"./figures/L_mc_EVALS{}_0_250.png\".format(evecs))"
   ]
  },
  {
   "cell_type": "code",
   "execution_count": 47,
   "metadata": {},
   "outputs": [
    {
     "name": "stdout",
     "output_type": "stream",
     "text": [
      "(42517, 20) (42517, 20)\n"
     ]
    }
   ],
   "source": [
    "\"\"\"\n",
    "Renormalize the Laplacian eigenvectors to obtain feature vectors according to Ng et. al.\n",
    "https://ai.stanford.edu/~ang/papers/nips01-spectral.pdf\n",
    "\"\"\"\n",
    "\n",
    "def renormalize_X(X):\n",
    "    evecs_lengths = np.linalg.norm(X, axis=1)\n",
    "    Y = X / evecs_lengths[:, None]\n",
    "    return Y[~np.isnan(Y).any(axis=1)]\n",
    "\n",
    "f=20\n",
    "L_evec_top = L_evec[:, :f]\n",
    "L_mc_evec_top = L_mc_evec[:, :f]\n",
    "\n",
    "Y = renormalize_X(L_evec_top)\n",
    "Y_mc = renormalize_X(L_mc_evec_top)\n",
    "\n",
    "print(Y.shape, Y_mc.shape)"
   ]
  },
  {
   "cell_type": "code",
   "execution_count": 48,
   "metadata": {
    "scrolled": true
   },
   "outputs": [
    {
     "name": "stdout",
     "output_type": "stream",
     "text": [
      "running Kmeans K=10...\n",
      "10 0.5677612005229709 0.9232544091402273\n",
      "running Kmeans K=20...\n",
      "20 0.53650069530179 0.933006997784853\n",
      "running Kmeans K=30...\n",
      "30 0.5029816698469163 0.9238294251139231\n",
      "running Kmeans K=50...\n",
      "50 0.42316849697853803 0.9049280388076903\n",
      "running Kmeans K=100...\n",
      "100 0.36811144266173873 0.9034811525079587\n",
      "running Kmeans K=200...\n",
      "200 0.31463707978778965 0.8888230043468318\n"
     ]
    }
   ],
   "source": [
    "knn_sizes_to_test = [10, 20, 30, 50, 100, 200]\n",
    "\n",
    "Y_sil_scores = []\n",
    "Y_mc_sil_scores = []\n",
    "\n",
    "for knn_clusters in knn_sizes_to_test:\n",
    "    print(\"running Kmeans K={}...\".format(knn_clusters))\n",
    "    \n",
    "    Y_kmeans = KMeans(n_clusters=knn_clusters).fit(Y)\n",
    "    Y_mc_kmeans = KMeans(n_clusters=knn_clusters).fit(Y_mc)\n",
    "\n",
    "    Y_cluster_labels = Y_kmeans.labels_    \n",
    "    Y_mc_cluster_labels = Y_mc_kmeans.labels_\n",
    "    \n",
    "    #pickle.dump(Y_cluster_labels, open(\"./data/cluster_labels_Y_{}feats_k{}.p\".format(f, knn_clusters), 'wb'))\n",
    "    #pickle.dump(Y_mc_cluster_labels, open(\"./data/cluster_labels_Y_mc_{}feats_k{}.p\".format(f, knn_clusters), 'wb'))    \n",
    "\n",
    "    Y_sil_score = silhouette_score(Y, Y_cluster_labels)\n",
    "    Y_mc_sil_score = silhouette_score(Y_mc, Y_mc_cluster_labels)\n",
    "\n",
    "    Y_sil_scores.append(Y_sil_score)\n",
    "    Y_mc_sil_scores.append(Y_mc_sil_score)\n",
    "    \n",
    "    print(knn_clusters, Y_sil_score, Y_mc_sil_score)"
   ]
  },
  {
   "cell_type": "code",
   "execution_count": 49,
   "metadata": {},
   "outputs": [
    {
     "data": {
      "text/plain": [
       "Text(0.5,0,'knn clusters')"
      ]
     },
     "execution_count": 49,
     "metadata": {},
     "output_type": "execute_result"
    },
    {
     "data": {
      "image/png": "[encoded data removed]",
      "text/plain": [
       "<Figure size 432x288 with 1 Axes>"
      ]
     },
     "metadata": {
      "needs_background": "light"
     },
     "output_type": "display_data"
    },
    {
     "data": {
      "image/png": "[encoded data removed]",
      "text/plain": [
       "<Figure size 432x288 with 1 Axes>"
      ]
     },
     "metadata": {
      "needs_background": "light"
     },
     "output_type": "display_data"
    }
   ],
   "source": [
    "#pickle.dump(Y_sil_scores, open(\"./data/sil_scores_Y_{}feats.p\".format(f), 'wb'))\n",
    "#pickle.dump(Y_mc_sil_scores, open(\"./data/sil_scores_Y_mc_{}feats.p\".format(f), 'wb'))\n",
    "\n",
    "plt.figure()\n",
    "ax = sns.scatterplot(knn_sizes_to_test, Y_sil_scores)\n",
    "ax.set_ylabel(\"Ave Silhouette Score\")\n",
    "ax.set_xlabel(\"knn clusters\")\n",
    "#plt.savefig(\"./figures/silscores_Y_{}feats.png\".format(f))\n",
    "\n",
    "plt.figure()\n",
    "ax = sns.scatterplot(knn_sizes_to_test, Y_mc_sil_scores)\n",
    "ax.set_ylabel(\"Ave Silhouette Score\")\n",
    "ax.set_xlabel(\"knn clusters\")\n",
    "#plt.savefig(\"./figures/silscores_Y_mc_{}feats.png\".format(f))"
   ]
  },
  {
   "cell_type": "code",
   "execution_count": 51,
   "metadata": {},
   "outputs": [],
   "source": [
    "Y_cluster_labels_best = pickle.load(open(\"./data/cluster_labels_Y_20feats_k30.p\", 'rb'))\n",
    "Y_mc_cluster_labels_best = pickle.load(open(\"./data/cluster_labels_Y_mc_20feats_k30.p\", 'rb'))"
   ]
  },
  {
   "cell_type": "code",
   "execution_count": null,
   "metadata": {},
   "outputs": [],
   "source": [
    "print(Y_cluster_labels.shape, Y_mc_cluster_labels.shape)\n",
    "plt.figure(figsize=(10,10))\n",
    "sns.distplot(Y_cluster_labels, bins=knn_clusters, kde=False)\n",
    "plt.title(\"Cluster Size Distribution for Non-Mean-Corrected Matrix\")\n",
    "plt.xlabel(\"Cluster Index for k = {}\".format(knn_clusters))\n",
    "plt.ylabel(\"Cluster Size\")\n",
    "plt.savefig(\"./figures/Y_cluster_size_distr_k{}.png\".format(knn_clusters))\n",
    "\n",
    "plt.figure(figsize=(10,10))\n",
    "sns.distplot(Y_mc_cluster_labels, bins=knn_clusters, kde=False)\n",
    "plt.title(\"Cluster Size Distribution for Mean-Corrected Matrix\")\n",
    "plt.xlabel(\"Cluster Index for k = {}\".format(knn_clusters))\n",
    "plt.ylabel(\"Cluster Size\")\n",
    "plt.savefig(\"./figures/Y_mc_cluster_size_distr_k{}.png\".format(knn_clusters))"
   ]
  }
 ],
 "metadata": {
  "kernelspec": {
   "display_name": "mengp369",
   "language": "python",
   "name": "mengp369"
  },
  "language_info": {
   "codemirror_mode": {
    "name": "ipython",
    "version": 3
   },
   "file_extension": ".py",
   "mimetype": "text/x-python",
   "name": "python",
   "nbconvert_exporter": "python",
   "pygments_lexer": "ipython3",
   "version": "3.6.9"
  }
 },
 "nbformat": 4,
 "nbformat_minor": 2
}
