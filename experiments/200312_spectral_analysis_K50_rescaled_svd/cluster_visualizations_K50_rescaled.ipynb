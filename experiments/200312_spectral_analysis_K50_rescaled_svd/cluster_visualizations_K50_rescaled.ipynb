{
 "cells": [
  {
   "cell_type": "code",
   "execution_count": 2,
   "metadata": {},
   "outputs": [
    {
     "name": "stderr",
     "output_type": "stream",
     "text": [
      "[nltk_data] Downloading package stopwords to\n",
      "[nltk_data]     /Users/andrew/nltk_data...\n",
      "[nltk_data]   Package stopwords is already up-to-date!\n"
     ]
    }
   ],
   "source": [
    "import sys\n",
    "sys.path.append(\"./../../src\")\n",
    "from visualizer_helper import Visualizer\n",
    "from cluster_helper import ClusterProcessor\n",
    "\n",
    "from sklearn.feature_extraction.text import TfidfVectorizer, CountVectorizer\n",
    "import pandas as pd\n",
    "import numpy as np\n",
    "from tqdm import tqdm\n",
    "import matplotlib.pyplot as plt\n",
    "import numpy as np\n",
    "import seaborn as sns\n",
    "from sklearn.decomposition import PCA\n",
    "from sklearn.cluster import KMeans\n",
    "from sklearn import preprocessing\n",
    "from scipy.sparse import csr_matrix\n",
    "import scipy\n",
    "import pickle\n",
    "import os\n",
    "from annoy import AnnoyIndex\n",
    "from scipy.sparse.linalg import inv\n",
    "\n",
    "from collections import Counter\n",
    "from wordcloud import WordCloud"
   ]
  },
  {
   "cell_type": "code",
   "execution_count": 3,
   "metadata": {},
   "outputs": [],
   "source": [
    "k_neighbors = 50\n",
    "knn_clusters = 100\n",
    "keep_k_evecs = 10\n",
    "drop_k_evecs=2\n",
    "\n",
    "cluster_assignments = pd.read_csv(\"./data/CLUSTER_ASSIGNMENTS.csv\")\n",
    "icd9codes = pd.read_csv(\"../../data/PATIENT_ICD_ICD9_CODES.csv\")\n",
    "patient_icd_binary = pickle.load(open(\"../../data/PATIENT_ICD_BINARY_SPARSE_CSR.p\", 'rb'))\n",
    "icd9diag = pd.read_csv(\"../../../mimic/D_ICD_DIAGNOSES.csv.gz\")\n",
    "icd9proc = pd.read_csv(\"../../../mimic/D_ICD_PROCEDURES.csv.gz\")\n",
    "\n",
    "A = pickle.load(open(\"./data/A_mknn_K{}_CSR.p\".format(k_neighbors), \"rb\"))\n",
    "\n",
    "Y_cluster_labels = pickle.load(open(\"./data/cluster_labels_K{}_knn{}_topkevecs{}_drop{}.p\".format(k_neighbors, knn_clusters, keep_k_evecs, drop_k_evecs), 'rb'))\n",
    "Y_mc_cluster_labels = pickle.load(open(\"./data/cluster_labels_mc_K{}_knn{}_topkevecs{}_drop{}.p\".format(k_neighbors, knn_clusters, keep_k_evecs, drop_k_evecs), 'rb'))"
   ]
  },
  {
   "cell_type": "code",
   "execution_count": 4,
   "metadata": {},
   "outputs": [
    {
     "data": {
      "text/html": [
       "<div>\n",
       "<style scoped>\n",
       "    .dataframe tbody tr th:only-of-type {\n",
       "        vertical-align: middle;\n",
       "    }\n",
       "\n",
       "    .dataframe tbody tr th {\n",
       "        vertical-align: top;\n",
       "    }\n",
       "\n",
       "    .dataframe thead th {\n",
       "        text-align: right;\n",
       "    }\n",
       "</style>\n",
       "<table border=\"1\" class=\"dataframe\">\n",
       "  <thead>\n",
       "    <tr style=\"text-align: right;\">\n",
       "      <th></th>\n",
       "      <th>ROW_ID</th>\n",
       "      <th>ICD9_CODE</th>\n",
       "      <th>SHORT_TITLE</th>\n",
       "      <th>LONG_TITLE</th>\n",
       "    </tr>\n",
       "  </thead>\n",
       "  <tbody>\n",
       "    <tr>\n",
       "      <th>11754</th>\n",
       "      <td>12370</td>\n",
       "      <td>99741</td>\n",
       "      <td>Ret cholelh fol cholecys</td>\n",
       "      <td>Retained cholelithiasis following cholecystectomy</td>\n",
       "    </tr>\n",
       "  </tbody>\n",
       "</table>\n",
       "</div>"
      ],
      "text/plain": [
       "       ROW_ID ICD9_CODE               SHORT_TITLE  \\\n",
       "11754   12370     99741  Ret cholelh fol cholecys   \n",
       "\n",
       "                                              LONG_TITLE  \n",
       "11754  Retained cholelithiasis following cholecystectomy  "
      ]
     },
     "execution_count": 4,
     "metadata": {},
     "output_type": "execute_result"
    }
   ],
   "source": [
    "icd9diag[icd9diag[\"ICD9_CODE\"] == '99741']"
   ]
  },
  {
   "cell_type": "code",
   "execution_count": 5,
   "metadata": {},
   "outputs": [
    {
     "data": {
      "text/html": [
       "<div>\n",
       "<style scoped>\n",
       "    .dataframe tbody tr th:only-of-type {\n",
       "        vertical-align: middle;\n",
       "    }\n",
       "\n",
       "    .dataframe tbody tr th {\n",
       "        vertical-align: top;\n",
       "    }\n",
       "\n",
       "    .dataframe thead th {\n",
       "        text-align: right;\n",
       "    }\n",
       "</style>\n",
       "<table border=\"1\" class=\"dataframe\">\n",
       "  <thead>\n",
       "    <tr style=\"text-align: right;\">\n",
       "      <th></th>\n",
       "      <th>SUBJECT_ID</th>\n",
       "      <th>ORIGINAL_INDEX</th>\n",
       "      <th>CLUSTER</th>\n",
       "      <th>MC_CLUSTER</th>\n",
       "    </tr>\n",
       "  </thead>\n",
       "  <tbody>\n",
       "    <tr>\n",
       "      <th>24</th>\n",
       "      <td>64</td>\n",
       "      <td>27</td>\n",
       "      <td>14</td>\n",
       "      <td>0</td>\n",
       "    </tr>\n",
       "    <tr>\n",
       "      <th>111</th>\n",
       "      <td>62</td>\n",
       "      <td>121</td>\n",
       "      <td>14</td>\n",
       "      <td>0</td>\n",
       "    </tr>\n",
       "    <tr>\n",
       "      <th>235</th>\n",
       "      <td>226</td>\n",
       "      <td>257</td>\n",
       "      <td>14</td>\n",
       "      <td>88</td>\n",
       "    </tr>\n",
       "    <tr>\n",
       "      <th>258</th>\n",
       "      <td>267</td>\n",
       "      <td>284</td>\n",
       "      <td>14</td>\n",
       "      <td>24</td>\n",
       "    </tr>\n",
       "    <tr>\n",
       "      <th>270</th>\n",
       "      <td>440</td>\n",
       "      <td>296</td>\n",
       "      <td>14</td>\n",
       "      <td>88</td>\n",
       "    </tr>\n",
       "    <tr>\n",
       "      <th>...</th>\n",
       "      <td>...</td>\n",
       "      <td>...</td>\n",
       "      <td>...</td>\n",
       "      <td>...</td>\n",
       "    </tr>\n",
       "    <tr>\n",
       "      <th>42393</th>\n",
       "      <td>99823</td>\n",
       "      <td>46388</td>\n",
       "      <td>14</td>\n",
       "      <td>0</td>\n",
       "    </tr>\n",
       "    <tr>\n",
       "      <th>42436</th>\n",
       "      <td>99923</td>\n",
       "      <td>46434</td>\n",
       "      <td>14</td>\n",
       "      <td>88</td>\n",
       "    </tr>\n",
       "    <tr>\n",
       "      <th>42438</th>\n",
       "      <td>99934</td>\n",
       "      <td>46436</td>\n",
       "      <td>14</td>\n",
       "      <td>88</td>\n",
       "    </tr>\n",
       "    <tr>\n",
       "      <th>42454</th>\n",
       "      <td>97004</td>\n",
       "      <td>46453</td>\n",
       "      <td>14</td>\n",
       "      <td>88</td>\n",
       "    </tr>\n",
       "    <tr>\n",
       "      <th>42510</th>\n",
       "      <td>97157</td>\n",
       "      <td>46513</td>\n",
       "      <td>14</td>\n",
       "      <td>88</td>\n",
       "    </tr>\n",
       "  </tbody>\n",
       "</table>\n",
       "<p>656 rows × 4 columns</p>\n",
       "</div>"
      ],
      "text/plain": [
       "       SUBJECT_ID  ORIGINAL_INDEX  CLUSTER  MC_CLUSTER\n",
       "24             64              27       14           0\n",
       "111            62             121       14           0\n",
       "235           226             257       14          88\n",
       "258           267             284       14          24\n",
       "270           440             296       14          88\n",
       "...           ...             ...      ...         ...\n",
       "42393       99823           46388       14           0\n",
       "42436       99923           46434       14          88\n",
       "42438       99934           46436       14          88\n",
       "42454       97004           46453       14          88\n",
       "42510       97157           46513       14          88\n",
       "\n",
       "[656 rows x 4 columns]"
      ]
     },
     "execution_count": 5,
     "metadata": {},
     "output_type": "execute_result"
    }
   ],
   "source": [
    "cluster_assignments[cluster_assignments['CLUSTER'] == 14] "
   ]
  },
  {
   "cell_type": "code",
   "execution_count": 6,
   "metadata": {},
   "outputs": [],
   "source": [
    "cp = ClusterProcessor(patient_icd_binary, icd9codes, icd9diag, cluster_assignments, k_neighbors,\n",
    "                        other_stopwords = [\"hypertension\", 'disorder'])"
   ]
  },
  {
   "cell_type": "code",
   "execution_count": 7,
   "metadata": {
    "scrolled": true
   },
   "outputs": [
    {
     "data": {
      "text/html": [
       "<div>\n",
       "<style scoped>\n",
       "    .dataframe tbody tr th:only-of-type {\n",
       "        vertical-align: middle;\n",
       "    }\n",
       "\n",
       "    .dataframe tbody tr th {\n",
       "        vertical-align: top;\n",
       "    }\n",
       "\n",
       "    .dataframe thead th {\n",
       "        text-align: right;\n",
       "    }\n",
       "</style>\n",
       "<table border=\"1\" class=\"dataframe\">\n",
       "  <thead>\n",
       "    <tr style=\"text-align: right;\">\n",
       "      <th></th>\n",
       "      <th>ICD9_CODE</th>\n",
       "      <th>LONG_TITLE</th>\n",
       "      <th>DISEASE_COUNT</th>\n",
       "    </tr>\n",
       "  </thead>\n",
       "  <tbody>\n",
       "    <tr>\n",
       "      <th>0</th>\n",
       "      <td>5990</td>\n",
       "      <td>Urinary tract infection, site not specified</td>\n",
       "      <td>230</td>\n",
       "    </tr>\n",
       "    <tr>\n",
       "      <th>1</th>\n",
       "      <td>5119</td>\n",
       "      <td>Unspecified pleural effusion</td>\n",
       "      <td>80</td>\n",
       "    </tr>\n",
       "    <tr>\n",
       "      <th>2</th>\n",
       "      <td>9974</td>\n",
       "      <td>9974</td>\n",
       "      <td>77</td>\n",
       "    </tr>\n",
       "    <tr>\n",
       "      <th>3</th>\n",
       "      <td>5601</td>\n",
       "      <td>Paralytic ileus</td>\n",
       "      <td>76</td>\n",
       "    </tr>\n",
       "    <tr>\n",
       "      <th>4</th>\n",
       "      <td>2875</td>\n",
       "      <td>Thrombocytopenia, unspecified</td>\n",
       "      <td>71</td>\n",
       "    </tr>\n",
       "    <tr>\n",
       "      <th>5</th>\n",
       "      <td>99859</td>\n",
       "      <td>Other postoperative infection</td>\n",
       "      <td>64</td>\n",
       "    </tr>\n",
       "    <tr>\n",
       "      <th>6</th>\n",
       "      <td>5185</td>\n",
       "      <td>5185</td>\n",
       "      <td>59</td>\n",
       "    </tr>\n",
       "    <tr>\n",
       "      <th>7</th>\n",
       "      <td>7907</td>\n",
       "      <td>Bacteremia</td>\n",
       "      <td>56</td>\n",
       "    </tr>\n",
       "    <tr>\n",
       "      <th>8</th>\n",
       "      <td>0414</td>\n",
       "      <td>0414</td>\n",
       "      <td>54</td>\n",
       "    </tr>\n",
       "    <tr>\n",
       "      <th>9</th>\n",
       "      <td>2768</td>\n",
       "      <td>Hypopotassemia</td>\n",
       "      <td>50</td>\n",
       "    </tr>\n",
       "  </tbody>\n",
       "</table>\n",
       "</div>"
      ],
      "text/plain": [
       "  ICD9_CODE                                   LONG_TITLE  DISEASE_COUNT\n",
       "0      5990  Urinary tract infection, site not specified            230\n",
       "1      5119                 Unspecified pleural effusion             80\n",
       "2      9974                                         9974             77\n",
       "3      5601                              Paralytic ileus             76\n",
       "4      2875                Thrombocytopenia, unspecified             71\n",
       "5     99859                Other postoperative infection             64\n",
       "6      5185                                         5185             59\n",
       "7      7907                                   Bacteremia             56\n",
       "8      0414                                         0414             54\n",
       "9      2768                               Hypopotassemia             50"
      ]
     },
     "execution_count": 7,
     "metadata": {},
     "output_type": "execute_result"
    }
   ],
   "source": [
    "cp.top_diseases_in_cluster(cluster=14, topk=10)"
   ]
  },
  {
   "cell_type": "code",
   "execution_count": 8,
   "metadata": {},
   "outputs": [],
   "source": [
    "diag = pd.read_csv(\"/Users/andrew/Documents/meng/spring/mimic/DIAGNOSES_ICD.csv.gz\")"
   ]
  },
  {
   "cell_type": "code",
   "execution_count": 9,
   "metadata": {},
   "outputs": [
    {
     "data": {
      "text/html": [
       "<div>\n",
       "<style scoped>\n",
       "    .dataframe tbody tr th:only-of-type {\n",
       "        vertical-align: middle;\n",
       "    }\n",
       "\n",
       "    .dataframe tbody tr th {\n",
       "        vertical-align: top;\n",
       "    }\n",
       "\n",
       "    .dataframe thead th {\n",
       "        text-align: right;\n",
       "    }\n",
       "</style>\n",
       "<table border=\"1\" class=\"dataframe\">\n",
       "  <thead>\n",
       "    <tr style=\"text-align: right;\">\n",
       "      <th></th>\n",
       "      <th>ROW_ID</th>\n",
       "      <th>SUBJECT_ID</th>\n",
       "      <th>HADM_ID</th>\n",
       "      <th>SEQ_NUM</th>\n",
       "      <th>ICD9_CODE</th>\n",
       "    </tr>\n",
       "  </thead>\n",
       "  <tbody>\n",
       "    <tr>\n",
       "      <th>919</th>\n",
       "      <td>312</td>\n",
       "      <td>38</td>\n",
       "      <td>185910</td>\n",
       "      <td>8.0</td>\n",
       "      <td>9974</td>\n",
       "    </tr>\n",
       "    <tr>\n",
       "      <th>3368</th>\n",
       "      <td>2872</td>\n",
       "      <td>236</td>\n",
       "      <td>151459</td>\n",
       "      <td>4.0</td>\n",
       "      <td>9974</td>\n",
       "    </tr>\n",
       "    <tr>\n",
       "      <th>3543</th>\n",
       "      <td>3210</td>\n",
       "      <td>267</td>\n",
       "      <td>163714</td>\n",
       "      <td>1.0</td>\n",
       "      <td>9974</td>\n",
       "    </tr>\n",
       "    <tr>\n",
       "      <th>3648</th>\n",
       "      <td>5351</td>\n",
       "      <td>440</td>\n",
       "      <td>156155</td>\n",
       "      <td>3.0</td>\n",
       "      <td>9974</td>\n",
       "    </tr>\n",
       "    <tr>\n",
       "      <th>5218</th>\n",
       "      <td>4996</td>\n",
       "      <td>413</td>\n",
       "      <td>156909</td>\n",
       "      <td>5.0</td>\n",
       "      <td>9974</td>\n",
       "    </tr>\n",
       "    <tr>\n",
       "      <th>...</th>\n",
       "      <td>...</td>\n",
       "      <td>...</td>\n",
       "      <td>...</td>\n",
       "      <td>...</td>\n",
       "      <td>...</td>\n",
       "    </tr>\n",
       "    <tr>\n",
       "      <th>648496</th>\n",
       "      <td>650197</td>\n",
       "      <td>99817</td>\n",
       "      <td>195557</td>\n",
       "      <td>5.0</td>\n",
       "      <td>9974</td>\n",
       "    </tr>\n",
       "    <tr>\n",
       "      <th>648620</th>\n",
       "      <td>650321</td>\n",
       "      <td>99832</td>\n",
       "      <td>192563</td>\n",
       "      <td>2.0</td>\n",
       "      <td>9974</td>\n",
       "    </tr>\n",
       "    <tr>\n",
       "      <th>648917</th>\n",
       "      <td>638825</td>\n",
       "      <td>97271</td>\n",
       "      <td>135659</td>\n",
       "      <td>7.0</td>\n",
       "      <td>9974</td>\n",
       "    </tr>\n",
       "    <tr>\n",
       "      <th>649578</th>\n",
       "      <td>650769</td>\n",
       "      <td>99923</td>\n",
       "      <td>192053</td>\n",
       "      <td>5.0</td>\n",
       "      <td>9974</td>\n",
       "    </tr>\n",
       "    <tr>\n",
       "      <th>650701</th>\n",
       "      <td>632591</td>\n",
       "      <td>96008</td>\n",
       "      <td>186366</td>\n",
       "      <td>10.0</td>\n",
       "      <td>9974</td>\n",
       "    </tr>\n",
       "  </tbody>\n",
       "</table>\n",
       "<p>760 rows × 5 columns</p>\n",
       "</div>"
      ],
      "text/plain": [
       "        ROW_ID  SUBJECT_ID  HADM_ID  SEQ_NUM ICD9_CODE\n",
       "919        312          38   185910      8.0      9974\n",
       "3368      2872         236   151459      4.0      9974\n",
       "3543      3210         267   163714      1.0      9974\n",
       "3648      5351         440   156155      3.0      9974\n",
       "5218      4996         413   156909      5.0      9974\n",
       "...        ...         ...      ...      ...       ...\n",
       "648496  650197       99817   195557      5.0      9974\n",
       "648620  650321       99832   192563      2.0      9974\n",
       "648917  638825       97271   135659      7.0      9974\n",
       "649578  650769       99923   192053      5.0      9974\n",
       "650701  632591       96008   186366     10.0      9974\n",
       "\n",
       "[760 rows x 5 columns]"
      ]
     },
     "execution_count": 9,
     "metadata": {},
     "output_type": "execute_result"
    }
   ],
   "source": [
    "diag[diag['ICD9_CODE'] =='9974']"
   ]
  },
  {
   "cell_type": "code",
   "execution_count": 10,
   "metadata": {},
   "outputs": [
    {
     "data": {
      "text/html": [
       "<div>\n",
       "<style scoped>\n",
       "    .dataframe tbody tr th:only-of-type {\n",
       "        vertical-align: middle;\n",
       "    }\n",
       "\n",
       "    .dataframe tbody tr th {\n",
       "        vertical-align: top;\n",
       "    }\n",
       "\n",
       "    .dataframe thead th {\n",
       "        text-align: right;\n",
       "    }\n",
       "</style>\n",
       "<table border=\"1\" class=\"dataframe\">\n",
       "  <thead>\n",
       "    <tr style=\"text-align: right;\">\n",
       "      <th></th>\n",
       "      <th>ROW_ID</th>\n",
       "      <th>ICD9_CODE</th>\n",
       "      <th>SHORT_TITLE</th>\n",
       "      <th>LONG_TITLE</th>\n",
       "    </tr>\n",
       "  </thead>\n",
       "  <tbody>\n",
       "  </tbody>\n",
       "</table>\n",
       "</div>"
      ],
      "text/plain": [
       "Empty DataFrame\n",
       "Columns: [ROW_ID, ICD9_CODE, SHORT_TITLE, LONG_TITLE]\n",
       "Index: []"
      ]
     },
     "execution_count": 10,
     "metadata": {},
     "output_type": "execute_result"
    }
   ],
   "source": [
    "icd9diag[icd9diag['ICD9_CODE'] =='9974']"
   ]
  },
  {
   "cell_type": "code",
   "execution_count": 11,
   "metadata": {},
   "outputs": [
    {
     "data": {
      "image/png": "[encoded data removed]",
      "text/plain": [
       "<Figure size 360x720 with 1 Axes>"
      ]
     },
     "metadata": {
      "needs_background": "light"
     },
     "output_type": "display_data"
    },
    {
     "data": {
      "text/plain": [
       "[('5990', 'Urinary tract infection, site not specified', 230),\n",
       " ('5119', 'Unspecified pleural effusion', 80),\n",
       " ('9974', '9974', 77),\n",
       " ('5601', 'Paralytic ileus', 76),\n",
       " ('2875', 'Thrombocytopenia, unspecified', 71),\n",
       " ('99859', 'Other postoperative infection', 64),\n",
       " ('5185', '5185', 59),\n",
       " ('7907', 'Bacteremia', 56),\n",
       " ('0414', '0414', 54),\n",
       " ('2768', 'Hypopotassemia', 50)]"
      ]
     },
     "execution_count": 11,
     "metadata": {},
     "output_type": "execute_result"
    }
   ],
   "source": [
    "cp.plot_disease_distribution(10, cluster=14)"
   ]
  },
  {
   "cell_type": "code",
   "execution_count": 12,
   "metadata": {},
   "outputs": [],
   "source": [
    "A_sorted = cp.sort_by_cluster_membership(A, mc_cluster=False)\n",
    "A_mc_sorted = cp.sort_by_cluster_membership(A, mc_cluster=False)\n",
    "# pickle.dump(A_sorted, open(\"./data/A_sorted_K{}.p\".format(k_neighbors),\"wb\"))\n",
    "# pickle.dump(A_mc_sorted, open(\"./data/A_mc_sorted_K{}.p\".format(k_neighbors),\"wb\"))"
   ]
  },
  {
   "cell_type": "code",
   "execution_count": 13,
   "metadata": {},
   "outputs": [],
   "source": [
    "K = cp.build_cluster_matrix(mc_cluster=False)\n",
    "K_mc = cp.build_cluster_matrix(mc_cluster=True)\n",
    "pickle.dump(K, open(\"./data/K_K{}_knn{}.p\".format(k_neighbors, knn_clusters), \"wb\"))\n",
    "pickle.dump(K_mc, open(\"./data/K_mc_K{}_knn{}.p\".format(k_neighbors, knn_clusters), \"wb\"))"
   ]
  },
  {
   "cell_type": "code",
   "execution_count": 14,
   "metadata": {},
   "outputs": [],
   "source": [
    "KA = K.T.dot(A_sorted)\n",
    "KA_mc = K_mc.T.dot(A_mc_sorted)\n",
    "\n",
    "KAK = K.T.dot(A_sorted).dot(K)\n",
    "KAK_mc = K_mc.T.dot(A_mc_sorted).dot(K_mc)"
   ]
  },
  {
   "cell_type": "code",
   "execution_count": 15,
   "metadata": {},
   "outputs": [
    {
     "data": {
      "text/plain": [
       "<matplotlib.axes._subplots.AxesSubplot at 0x1a256ca940>"
      ]
     },
     "execution_count": 15,
     "metadata": {},
     "output_type": "execute_result"
    },
    {
     "data": {
      "image/png": "[encoded data removed]",
      "text/plain": [
       "<Figure size 576x432 with 2 Axes>"
      ]
     },
     "metadata": {
      "needs_background": "light"
     },
     "output_type": "display_data"
    }
   ],
   "source": [
    "plt.figure(figsize=(8,6))\n",
    "sns.heatmap(KAK.toarray(), cmap=\"Blues\")"
   ]
  },
  {
   "cell_type": "code",
   "execution_count": 16,
   "metadata": {},
   "outputs": [
    {
     "name": "stderr",
     "output_type": "stream",
     "text": [
      "100%|██████████| 100/100 [00:00<00:00, 13313.56it/s]\n",
      "100%|██████████| 100/100 [00:00<00:00, 11262.30it/s]\n",
      "100%|██████████| 100/100 [00:00<00:00, 13522.60it/s]\n",
      "100%|██████████| 100/100 [00:00<00:00, 11764.57it/s]\n"
     ]
    }
   ],
   "source": [
    "lc=100\n",
    "\n",
    "Y_umap_2d = pickle.load(open(\"./data/Y_umap_2d_K{}_topkevecs{}_drop{}_lc{}.p\".format(k_neighbors, keep_k_evecs, drop_k_evecs, lc), 'rb'))\n",
    "Y_umap_3d = pickle.load(open(\"./data/Y_umap_3d_K{}_topkevecs{}_drop{}_lc{}.p\".format(k_neighbors, keep_k_evecs, drop_k_evecs, lc), 'rb'))\n",
    "\n",
    "Y_mc_umap_2d = pickle.load(open(\"./data/Y_umap_2d_mc_K{}_topkevecs{}_drop{}_lc{}.p\".format(k_neighbors, keep_k_evecs, drop_k_evecs, lc), 'rb'))\n",
    "Y_mc_umap_3d = pickle.load(open(\"./data/Y_umap_3d_mc_K{}_topkevecs{}_drop{}_lc{}.p\".format(k_neighbors, keep_k_evecs, drop_k_evecs, lc), 'rb'))\n",
    "\n",
    "Y_c_umap_2d = cp.compute_centroids(Y_umap_2d, mc_cluster=False)\n",
    "Y_c_umap_3d = cp.compute_centroids(Y_umap_3d, mc_cluster=False)\n",
    "Y_mc_c_umap_2d = cp.compute_centroids(Y_mc_umap_2d, mc_cluster=True)\n",
    "Y_mc_c_umap_3d = cp.compute_centroids(Y_mc_umap_3d, mc_cluster=True)"
   ]
  },
  {
   "cell_type": "code",
   "execution_count": 17,
   "metadata": {
    "scrolled": false
   },
   "outputs": [
    {
     "name": "stderr",
     "output_type": "stream",
     "text": [
      "100%|██████████| 100/100 [00:00<00:00, 12127.17it/s]\n",
      " 12%|█▏        | 12/100 [00:00<00:00, 116.37it/s]"
     ]
    },
    {
     "name": "stdout",
     "output_type": "stream",
     "text": [
      "[ 0  1  2  3  4  5  6  7  8  9 10 11 12 13 14 15 16 17 18 19 20 21 22 23\n",
      " 24 25 26 27 28 29 30 31 32 33 34 35 36 37 38 39 40 41 42 43 44 45 46 47\n",
      " 48 49 50 51 52 53 54 55 56 57 58 59 60 61 62 63 64 65 66 67 68 69 70 71\n",
      " 72 73 74 75 76 77 78 79 80 81 82 83 84 85 86 87 88 89 90 91 92 93 94 95\n",
      " 96 97 98 99]\n",
      "100\n"
     ]
    },
    {
     "name": "stderr",
     "output_type": "stream",
     "text": [
      " 25%|██▌       | 25/100 [00:22<01:06,  1.14it/s] \n"
     ]
    },
    {
     "ename": "KeyboardInterrupt",
     "evalue": "",
     "output_type": "error",
     "traceback": [
      "\u001b[0;31m---------------------------------------------------------------------------\u001b[0m",
      "\u001b[0;31mKeyboardInterrupt\u001b[0m                         Traceback (most recent call last)",
      "\u001b[0;32m<ipython-input-17-a35a87a22217>\u001b[0m in \u001b[0;36m<module>\u001b[0;34m\u001b[0m\n\u001b[1;32m     31\u001b[0m \u001b[0;34m\u001b[0m\u001b[0m\n\u001b[1;32m     32\u001b[0m \u001b[0;34m\u001b[0m\u001b[0m\n\u001b[0;32m---> 33\u001b[0;31m \u001b[0mY_2d_df\u001b[0m \u001b[0;34m=\u001b[0m \u001b[0mcreate_centroid_cluster_df\u001b[0m\u001b[0;34m(\u001b[0m\u001b[0mY_umap_2d\u001b[0m\u001b[0;34m,\u001b[0m \u001b[0mY_cluster_labels\u001b[0m\u001b[0;34m)\u001b[0m\u001b[0;34m\u001b[0m\u001b[0;34m\u001b[0m\u001b[0m\n\u001b[0m\u001b[1;32m     34\u001b[0m \u001b[0;34m\u001b[0m\u001b[0m\n\u001b[1;32m     35\u001b[0m \u001b[0mplt\u001b[0m\u001b[0;34m.\u001b[0m\u001b[0mfigure\u001b[0m\u001b[0;34m(\u001b[0m\u001b[0mfigsize\u001b[0m\u001b[0;34m=\u001b[0m\u001b[0;34m(\u001b[0m\u001b[0;36m15\u001b[0m\u001b[0;34m,\u001b[0m\u001b[0;36m15\u001b[0m\u001b[0;34m)\u001b[0m\u001b[0;34m)\u001b[0m\u001b[0;34m\u001b[0m\u001b[0;34m\u001b[0m\u001b[0m\n",
      "\u001b[0;32m<ipython-input-17-a35a87a22217>\u001b[0m in \u001b[0;36mcreate_centroid_cluster_df\u001b[0;34m(y, cluster_labels, topk)\u001b[0m\n\u001b[1;32m     11\u001b[0m         \u001b[0mtop_k_df\u001b[0m \u001b[0;34m=\u001b[0m \u001b[0mcp\u001b[0m\u001b[0;34m.\u001b[0m\u001b[0mtop_diseases_in_cluster\u001b[0m\u001b[0;34m(\u001b[0m\u001b[0mcluster\u001b[0m\u001b[0;34m=\u001b[0m\u001b[0mc\u001b[0m\u001b[0;34m,\u001b[0m \u001b[0mtopk\u001b[0m\u001b[0;34m=\u001b[0m\u001b[0;36m3\u001b[0m\u001b[0;34m)\u001b[0m\u001b[0;34m\u001b[0m\u001b[0;34m\u001b[0m\u001b[0m\n\u001b[1;32m     12\u001b[0m         \u001b[0mtop_k_titles\u001b[0m \u001b[0;34m=\u001b[0m \u001b[0mtop_k_df\u001b[0m\u001b[0;34m[\u001b[0m\u001b[0;34m\"LONG_TITLE\"\u001b[0m\u001b[0;34m]\u001b[0m\u001b[0;34m.\u001b[0m\u001b[0mvalues\u001b[0m\u001b[0;34m.\u001b[0m\u001b[0mtolist\u001b[0m\u001b[0;34m(\u001b[0m\u001b[0;34m)\u001b[0m\u001b[0;34m\u001b[0m\u001b[0;34m\u001b[0m\u001b[0m\n\u001b[0;32m---> 13\u001b[0;31m         \u001b[0mtop_k_titles_asstr\u001b[0m \u001b[0;34m=\u001b[0m \u001b[0;34m\"\\n\"\u001b[0m\u001b[0;34m.\u001b[0m\u001b[0mjoin\u001b[0m\u001b[0;34m(\u001b[0m\u001b[0mtitles\u001b[0m\u001b[0;34m)\u001b[0m\u001b[0;34m\u001b[0m\u001b[0;34m\u001b[0m\u001b[0m\n\u001b[0m\u001b[1;32m     14\u001b[0m         \u001b[0mtitles\u001b[0m\u001b[0;34m[\u001b[0m\u001b[0mc\u001b[0m\u001b[0;34m]\u001b[0m \u001b[0;34m=\u001b[0m \u001b[0mtop_k_titles_asstr\u001b[0m\u001b[0;34m\u001b[0m\u001b[0;34m\u001b[0m\u001b[0m\n\u001b[1;32m     15\u001b[0m \u001b[0;34m\u001b[0m\u001b[0m\n",
      "\u001b[0;31mKeyboardInterrupt\u001b[0m: "
     ]
    }
   ],
   "source": [
    "def create_centroid_cluster_df(y, cluster_labels, topk=3):\n",
    "    centroids = cp.compute_centroids(y, mc_cluster=False)\n",
    "    \n",
    "    x = centroids[:, 0].tolist()\n",
    "    y = centroids[:, 1].tolist()\n",
    "    cluster_sizes = np.unique(cluster_labels, return_counts=True)[1].tolist()\n",
    "        \n",
    "    titles = [\"\" for _ in range(centroids.shape[0])]\n",
    "    print(len(titles))\n",
    "    for c in tqdm(np.unique(cluster_labels)):\n",
    "        top_k_df = cp.top_diseases_in_cluster(cluster=c, topk=3)\n",
    "        top_k_titles = top_k_df[\"LONG_TITLE\"].values.tolist()\n",
    "        top_k_titles_asstr = \"\\n\".join(titles)\n",
    "        titles[c] = top_k_titles_asstr\n",
    "        \n",
    "        \n",
    "    centroid_dict = {\"x\": x,\n",
    "                     \"y\": y,\n",
    "                     \"cluster_size\": cluster_sizes,\n",
    "                     \"cluster\": np.unique(cluster_labels).tolist(),\n",
    "                     \"title\": titles\n",
    "                    }\n",
    "    \n",
    "    if centroids.shape[-1] == 3:\n",
    "        z = centroids[:, 2].tolist()\n",
    "        centroid_dict['z'] = z\n",
    "        \n",
    "    return pd.DataFrame(centroid_dict)\n",
    "\n",
    "print(np.unique(Y_cluster_labels))\n",
    "\n",
    "\n",
    "Y_2d_df = create_centroid_cluster_df(Y_umap_2d, Y_cluster_labels)\n",
    "\n",
    "plt.figure(figsize=(15,15))\n",
    "ax = sns.scatterplot(x=\"x\", y=\"y\", size=\"cluster_size\", hue=\"cluster\",\n",
    "            sizes=(300, 2000), alpha=.5, palette=\"muted\",\n",
    "            data=Y_2d_df)\n",
    "for line in tqdm(range(0,Y_2d_df.shape[0])):\n",
    "     ax.text(Y_2d_df.x[line], Y_2d_df.y[line], Y_2d_df.title[line])\n",
    "\n",
    "h,l = ax.get_legend_handles_labels()\n",
    "plt.legend(h[-5:], l[-5:], loc=\"upper right\")\n",
    "\n",
    "plt.savefig(\"./figures/CLUSTER_PLOT_TOP_WORDS.png\")"
   ]
  },
  {
   "cell_type": "code",
   "execution_count": null,
   "metadata": {},
   "outputs": [],
   "source": []
  },
  {
   "cell_type": "code",
   "execution_count": null,
   "metadata": {},
   "outputs": [],
   "source": []
  }
 ],
 "metadata": {
  "kernelspec": {
   "display_name": "mengp369",
   "language": "python",
   "name": "mengp369"
  }
 },
 "nbformat": 4,
 "nbformat_minor": 2
}
