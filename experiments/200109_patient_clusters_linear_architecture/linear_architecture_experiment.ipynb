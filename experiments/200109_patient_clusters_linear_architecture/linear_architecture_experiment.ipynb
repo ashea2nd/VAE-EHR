{
 "cells": [
  {
   "cell_type": "code",
   "execution_count": 1,
   "metadata": {},
   "outputs": [],
   "source": [
    "import sys\n",
    "sys.path.append(\"/data1/andrew/meng/mixehr/meng/VAE-EHR/src\")\n",
    "from importlib import reload\n",
    "\n",
    "import numpy as np \n",
    "import pandas as pd\n",
    "from tqdm import tqdm\n",
    "\n",
    "import torch\n",
    "from torch import nn, optim\n",
    "import matplotlib.pyplot as plt"
   ]
  },
  {
   "cell_type": "code",
   "execution_count": 2,
   "metadata": {},
   "outputs": [],
   "source": [
    "import vae\n",
    "reload(vae)\n",
    "\n",
    "from vae import VAE, VAETrainer"
   ]
  },
  {
   "cell_type": "code",
   "execution_count": 3,
   "metadata": {
    "scrolled": true
   },
   "outputs": [
    {
     "name": "stdout",
     "output_type": "stream",
     "text": [
      "torch.Size([46520, 6984])\n"
     ]
    }
   ],
   "source": [
    "patient_icd_file = \"/data1/andrew/meng/mixehr/data/Mimic/andrew_outputs/PATIENT_ICD_BINARY.csv\"\n",
    "patient_icd_df = pd.read_csv(patient_icd_file, sep=' ')\n",
    "\n",
    "patient_icd_data = patient_icd_df.drop('SUBJECT_ID', axis=1)\n",
    "\n",
    "data = torch.tensor(patient_icd_data.values).float()\n",
    "print(data.shape)"
   ]
  },
  {
   "cell_type": "code",
   "execution_count": 4,
   "metadata": {},
   "outputs": [
    {
     "name": "stdout",
     "output_type": "stream",
     "text": [
      "cuda\n",
      "Feature_dim: 6984\n",
      "<class 'torch.optim.adam.Adam'>\n"
     ]
    }
   ],
   "source": [
    "device = torch.device(\"cuda\" if torch.cuda.is_available() else \"cpu\")\n",
    "print((device))\n",
    "\n",
    "feature_dim = data.shape[1]\n",
    "print(\"Feature_dim: {}\".format(feature_dim))\n",
    "encoder_dim = [(250, 500), (500, 250), (250, 100)]\n",
    "latent_dim = 10\n",
    "decoder_dim = [(50, 100)]\n",
    "model = VAE(\n",
    "    feature_dim = feature_dim, \n",
    "    encoder_dim = encoder_dim,\n",
    "    latent_dim = latent_dim,\n",
    "    decoder_dim = decoder_dim,\n",
    "    use_relu=False\n",
    ")\n",
    "\n",
    "optimizer = optim.Adam(model.parameters(), lr=0.001)\n",
    "print(type(optimizer))"
   ]
  },
  {
   "cell_type": "code",
   "execution_count": 5,
   "metadata": {},
   "outputs": [],
   "source": [
    "date=\"200109\"\n",
    "experiment_name = \"{}_patient_clusters_linear_architecture\".format(date)\n",
    "trainer = VAETrainer(model = model, device = device, optimizer = optimizer, experiment_name=experiment_name)"
   ]
  },
  {
   "cell_type": "code",
   "execution_count": 6,
   "metadata": {
    "scrolled": false
   },
   "outputs": [
    {
     "name": "stderr",
     "output_type": "stream",
     "text": [
      "  0%|          | 0/1163 [00:00<?, ?it/s]/data1/andrew/meng/mixehr/meng/VAE-EHR/src/vae.py:181: UserWarning: torch.nn.utils.clip_grad_norm is now deprecated in favor of torch.nn.utils.clip_grad_norm_.\n",
      "  clip_grad_norm(self.model.parameters(), grad_norm_limit) #A value of 5 was shown to work\n",
      "100%|██████████| 1163/1163 [00:12<00:00, 91.59it/s] \n",
      "  1%|          | 9/1163 [00:00<00:13, 82.68it/s]"
     ]
    },
    {
     "name": "stdout",
     "output_type": "stream",
     "text": [
      "====> Epoch: 1 Average loss: 108254.9991\n"
     ]
    },
    {
     "name": "stderr",
     "output_type": "stream",
     "text": [
      "100%|██████████| 1163/1163 [00:14<00:00, 80.65it/s]\n",
      "  1%|          | 8/1163 [00:00<00:14, 77.81it/s]"
     ]
    },
    {
     "name": "stdout",
     "output_type": "stream",
     "text": [
      "====> Epoch: 2 Average loss: 2132.8910\n"
     ]
    },
    {
     "name": "stderr",
     "output_type": "stream",
     "text": [
      "100%|██████████| 1163/1163 [00:14<00:00, 83.04it/s]\n",
      "  1%|          | 9/1163 [00:00<00:13, 87.40it/s]"
     ]
    },
    {
     "name": "stdout",
     "output_type": "stream",
     "text": [
      "====> Epoch: 3 Average loss: 2082.5868\n"
     ]
    },
    {
     "name": "stderr",
     "output_type": "stream",
     "text": [
      "100%|██████████| 1163/1163 [00:12<00:00, 91.71it/s]\n",
      "  1%|          | 8/1163 [00:00<00:14, 79.87it/s]"
     ]
    },
    {
     "name": "stdout",
     "output_type": "stream",
     "text": [
      "====> Epoch: 4 Average loss: 2062.6020\n"
     ]
    },
    {
     "name": "stderr",
     "output_type": "stream",
     "text": [
      "100%|██████████| 1163/1163 [00:12<00:00, 89.49it/s]\n",
      "  1%|          | 10/1163 [00:00<00:11, 98.48it/s]"
     ]
    },
    {
     "name": "stdout",
     "output_type": "stream",
     "text": [
      "====> Epoch: 5 Average loss: 2043.8156\n"
     ]
    },
    {
     "name": "stderr",
     "output_type": "stream",
     "text": [
      "100%|██████████| 1163/1163 [00:13<00:00, 89.03it/s]\n",
      "  1%|          | 8/1163 [00:00<00:14, 77.76it/s]"
     ]
    },
    {
     "name": "stdout",
     "output_type": "stream",
     "text": [
      "====> Epoch: 6 Average loss: 2033.3827\n"
     ]
    },
    {
     "name": "stderr",
     "output_type": "stream",
     "text": [
      "100%|██████████| 1163/1163 [00:13<00:00, 83.08it/s]\n",
      "  1%|          | 10/1163 [00:00<00:12, 94.70it/s]"
     ]
    },
    {
     "name": "stdout",
     "output_type": "stream",
     "text": [
      "====> Epoch: 7 Average loss: 2025.9795\n"
     ]
    },
    {
     "name": "stderr",
     "output_type": "stream",
     "text": [
      "100%|██████████| 1163/1163 [00:12<00:00, 96.56it/s] \n",
      "  1%|          | 11/1163 [00:00<00:11, 103.76it/s]"
     ]
    },
    {
     "name": "stdout",
     "output_type": "stream",
     "text": [
      "====> Epoch: 8 Average loss: 2018.5232\n"
     ]
    },
    {
     "name": "stderr",
     "output_type": "stream",
     "text": [
      "100%|██████████| 1163/1163 [00:11<00:00, 102.35it/s]\n",
      "  1%|          | 11/1163 [00:00<00:10, 105.69it/s]"
     ]
    },
    {
     "name": "stdout",
     "output_type": "stream",
     "text": [
      "====> Epoch: 9 Average loss: 2012.8336\n"
     ]
    },
    {
     "name": "stderr",
     "output_type": "stream",
     "text": [
      "100%|██████████| 1163/1163 [00:11<00:00, 98.07it/s] "
     ]
    },
    {
     "name": "stdout",
     "output_type": "stream",
     "text": [
      "====> Epoch: 10 Average loss: 2007.8924\n"
     ]
    },
    {
     "name": "stderr",
     "output_type": "stream",
     "text": [
      "\n"
     ]
    }
   ],
   "source": [
    "trainer.train(\n",
    "    data=data, \n",
    "    epochs=10,\n",
    "    batch_size=40,\n",
    "    save_model_interval=5,\n",
    "    clip_gradients = True,\n",
    "    grad_norm_limit = 5\n",
    ")"
   ]
  },
  {
   "cell_type": "code",
   "execution_count": 7,
   "metadata": {},
   "outputs": [
    {
     "data": {
      "text/plain": [
       "<All keys matched successfully>"
      ]
     },
     "execution_count": 7,
     "metadata": {},
     "output_type": "execute_result"
    }
   ],
   "source": [
    "trainer.model.load_state_dict(torch.load(\"VAE_exp_{}_epoch_{}.pkl\".format(experiment_name, 10)))"
   ]
  },
  {
   "cell_type": "code",
   "execution_count": 8,
   "metadata": {},
   "outputs": [
    {
     "data": {
      "image/png": "[encoded data removed]",
      "text/plain": [
       "<Figure size 576x360 with 1 Axes>"
      ]
     },
     "metadata": {
      "needs_background": "light"
     },
     "output_type": "display_data"
    }
   ],
   "source": [
    "trainer.plot_elbo()"
   ]
  },
  {
   "cell_type": "code",
   "execution_count": null,
   "metadata": {},
   "outputs": [],
   "source": []
  }
 ],
 "metadata": {
  "kernelspec": {
   "display_name": "mengp375",
   "language": "python",
   "name": "mengp375"
  },
  "language_info": {
   "codemirror_mode": {
    "name": "ipython",
    "version": 3
   },
   "file_extension": ".py",
   "mimetype": "text/x-python",
   "name": "python",
   "nbconvert_exporter": "python",
   "pygments_lexer": "ipython3",
   "version": "3.7.5"
  }
 },
 "nbformat": 4,
 "nbformat_minor": 2
}
