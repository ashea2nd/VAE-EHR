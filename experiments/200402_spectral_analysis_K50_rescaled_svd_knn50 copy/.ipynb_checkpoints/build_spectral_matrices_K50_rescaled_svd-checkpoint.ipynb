{
 "cells": [
  {
   "cell_type": "code",
   "execution_count": 2,
   "metadata": {},
   "outputs": [],
   "source": [
    "import sys\n",
    "sys.path.append(\"./../../src\")\n",
    "from visualizer_helper import Visualizer\n",
    "\n",
    "import pandas as pd\n",
    "import numpy as np\n",
    "from tqdm import tqdm\n",
    "import matplotlib.pyplot as plt\n",
    "import numpy as np\n",
    "import seaborn as sns\n",
    "from sklearn.decomposition import PCA\n",
    "from sklearn.utils.extmath import randomized_svd\n",
    "from sklearn.cluster import KMeans\n",
    "from sklearn import preprocessing\n",
    "from scipy.sparse import csr_matrix, coo_matrix\n",
    "import scipy\n",
    "import pickle\n",
    "import os\n",
    "from annoy import AnnoyIndex\n",
    "from scipy.sparse.linalg import inv\n",
    "\n",
    "large_file_path = \"./../../../large_data_files\"\n",
    "k_neighbors = 50"
   ]
  },
  {
   "cell_type": "code",
   "execution_count": null,
   "metadata": {},
   "outputs": [],
   "source": [
    "patient_icd_sparse_path = \"./../../data/PATIENT_ICD_BINARY_SPARSE_CSR.p\"\n",
    "pdata = pickle.load(open(patient_icd_sparse_path, \"rb\"))\n",
    "pdata.shape"
   ]
  },
  {
   "cell_type": "code",
   "execution_count": 6,
   "metadata": {
    "scrolled": false
   },
   "outputs": [
    {
     "name": "stderr",
     "output_type": "stream",
     "text": [
      "  0%|          | 4/46520 [00:00<19:58, 38.81it/s]"
     ]
    },
    {
     "name": "stdout",
     "output_type": "stream",
     "text": [
      "Building dense data matrix with k=50 nn...\n"
     ]
    },
    {
     "name": "stderr",
     "output_type": "stream",
     "text": [
      "100%|██████████| 46520/46520 [09:58<00:00, 77.79it/s]\n"
     ]
    }
   ],
   "source": [
    "#Build L Matrix\n",
    "ANNOY_PATH = \"../../../large_data_files\"\n",
    "annoy_path = os.path.join(ANNOY_PATH, \"200214_patient_similarity_clusters_default.ann\")\n",
    "\n",
    "cos_knn_tree = AnnoyIndex(pdata.shape[1], \"angular\")\n",
    "cos_knn_tree.load(annoy_path)\n",
    "\n",
    "gamma = 2\n",
    "print(\"Building dense data matrix with k={} nn...\".format(k_neighbors))\n",
    "A = np.zeros((pdata.shape[0], pdata.shape[0]))\n",
    "for i in tqdm(range(pdata.shape[0])):\n",
    "    nn_idxs = cos_knn_tree.get_nns_by_item(i, k_neighbors + 1)[1:]\n",
    "    cos_distances = [cos_knn_tree.get_distance(i, nn) for nn in nn_idxs]\n",
    "    rbf_distances = [np.exp(-gamma*cos_dist**2) for cos_dist in cos_distances]\n",
    "    A[i, nn_idxs] = rbf_distances"
   ]
  },
  {
   "cell_type": "code",
   "execution_count": 7,
   "metadata": {},
   "outputs": [
    {
     "name": "stderr",
     "output_type": "stream",
     "text": [
      "100%|██████████| 46520/46520 [00:15<00:00, 3066.20it/s]\n",
      "100%|██████████| 46520/46520 [00:01<00:00, 25776.28it/s]\n"
     ]
    }
   ],
   "source": [
    "knn_adj = {}\n",
    "for i in tqdm(range(A.shape[0])):\n",
    "    nn_idx = set(np.nonzero(A[i])[0])\n",
    "    knn_adj[i] = nn_idx\n",
    "    \n",
    "for i in tqdm(range(A.shape[0])):\n",
    "    nns = knn_adj[i]\n",
    "    for nn in nns:\n",
    "        if i not in knn_adj[nn]:\n",
    "            A[i, nn] = 0\n",
    "\n",
    "pickle.dump(csr_matrix(A), open(\"./data/A_FULL_mknn_K{}_CSR.p\".format(k_neighbors), \"wb\"))"
   ]
  },
  {
   "cell_type": "code",
   "execution_count": 3,
   "metadata": {},
   "outputs": [
    {
     "data": {
      "text/plain": [
       "(46520, 46520)"
      ]
     },
     "execution_count": 3,
     "metadata": {},
     "output_type": "execute_result"
    }
   ],
   "source": [
    "A = pickle.load(open(\"./data/A_FULL_mknn_K{}_CSR.p\".format(k_neighbors), \"rb\"))\n",
    "A.shape"
   ]
  },
  {
   "cell_type": "markdown",
   "metadata": {},
   "source": [
    "# A loading"
   ]
  },
  {
   "cell_type": "code",
   "execution_count": 4,
   "metadata": {},
   "outputs": [
    {
     "data": {
      "image/png": "[encoded data removed]",
      "text/plain": [
       "<Figure size 576x360 with 1 Axes>"
      ]
     },
     "metadata": {
      "needs_background": "light"
     },
     "output_type": "display_data"
    }
   ],
   "source": [
    "k_neighbors = 50\n",
    "# A = pickle.load(open(\"./data/A_mknn_K{}_CSR.p\".format(k_neighbors), \"rb\"))\n",
    "\n",
    "plt.figure(figsize=(8,5))\n",
    "ax = sns.distplot(np.count_nonzero(A.toarray(), axis=0), kde=False)\n",
    "ax.set(xlabel=\"Degree\")\n",
    "plt.savefig(\"./figures/mknn_featdist_K{}_RAW.png\".format(k_neighbors))"
   ]
  },
  {
   "cell_type": "markdown",
   "metadata": {},
   "source": [
    "### A: remove empty patients and outliers"
   ]
  },
  {
   "cell_type": "code",
   "execution_count": 6,
   "metadata": {},
   "outputs": [
    {
     "name": "stdout",
     "output_type": "stream",
     "text": [
      "<class 'scipy.sparse.csr.csr_matrix'>\n",
      "(42970, 42970)\n"
     ]
    },
    {
     "data": {
      "text/plain": [
       "[Text(0.5, 0, 'Degree')]"
      ]
     },
     "execution_count": 6,
     "metadata": {},
     "output_type": "execute_result"
    },
    {
     "data": {
      "image/png": "[encoded data removed]",
      "text/plain": [
       "<Figure size 576x360 with 1 Axes>"
      ]
     },
     "metadata": {
      "needs_background": "light"
     },
     "output_type": "display_data"
    }
   ],
   "source": [
    "###Remove empty cols and rows\n",
    "rows_with_vals = np.unique(A.indices)\n",
    "\n",
    "A_nonempty = A[rows_with_vals][:, rows_with_vals]\n",
    "print(type(A_nonempty))\n",
    "print(A_nonempty.shape)\n",
    "\n",
    "plt.figure(figsize=(8,5))\n",
    "ax = sns.distplot(np.count_nonzero(A_nonempty.toarray(), axis=0), kde=False)\n",
    "ax.set(xlabel=\"Degree\")"
   ]
  },
  {
   "cell_type": "code",
   "execution_count": 7,
   "metadata": {},
   "outputs": [
    {
     "name": "stdout",
     "output_type": "stream",
     "text": [
      "(42970,)\n"
     ]
    }
   ],
   "source": [
    "###Remove outliers\n",
    "patient_degrees = np.count_nonzero(A_nonempty.toarray(), axis=0)\n",
    "print(patient_degrees.shape)"
   ]
  },
  {
   "cell_type": "code",
   "execution_count": 8,
   "metadata": {},
   "outputs": [
    {
     "name": "stdout",
     "output_type": "stream",
     "text": [
      "[    0     1     2 ... 42967 42968 42969]\n",
      "(42517,)\n"
     ]
    }
   ],
   "source": [
    "threshold = k_neighbors\n",
    "degree_threshold_idx = np.argwhere(patient_degrees < threshold)[:, 0]\n",
    "print(degree_threshold_idx)\n",
    "print(degree_threshold_idx.shape)"
   ]
  },
  {
   "cell_type": "code",
   "execution_count": 9,
   "metadata": {},
   "outputs": [
    {
     "name": "stdout",
     "output_type": "stream",
     "text": [
      "(42970, 42970) (42517, 42517)\n"
     ]
    },
    {
     "data": {
      "image/png": "[encoded data removed]",
      "text/plain": [
       "<Figure size 576x360 with 1 Axes>"
      ]
     },
     "metadata": {
      "needs_background": "light"
     },
     "output_type": "display_data"
    }
   ],
   "source": [
    "A_cleaned = A_nonempty[degree_threshold_idx][:, degree_threshold_idx]\n",
    "print(A_nonempty.shape, A_cleaned.shape)\n",
    "\n",
    "plt.figure(figsize=(8,5))\n",
    "ax = sns.distplot(np.count_nonzero(A_cleaned.toarray(), axis=0), kde=False)\n",
    "ax.set(xlabel=\"Degree\")\n",
    "plt.savefig(\"./figures/mknn_featdist_K{}_emptyandoutliersremoved.png\".format(k_neighbors))"
   ]
  },
  {
   "cell_type": "code",
   "execution_count": 10,
   "metadata": {},
   "outputs": [
    {
     "data": {
      "text/plain": [
       "<matplotlib.axes._subplots.AxesSubplot at 0x1ea8ab9a90>"
      ]
     },
     "execution_count": 10,
     "metadata": {},
     "output_type": "execute_result"
    },
    {
     "data": {
      "image/png": "[encoded data removed]",
      "text/plain": [
       "<Figure size 432x288 with 1 Axes>"
      ]
     },
     "metadata": {
      "needs_background": "light"
     },
     "output_type": "display_data"
    }
   ],
   "source": [
    "sns.distplot(A_cleaned.data, kde=False)"
   ]
  },
  {
   "cell_type": "code",
   "execution_count": 62,
   "metadata": {},
   "outputs": [
    {
     "data": {
      "text/plain": [
       "(42517, 2)"
      ]
     },
     "execution_count": 62,
     "metadata": {},
     "output_type": "execute_result"
    }
   ],
   "source": [
    "### Save cluster assignments\n",
    "remaining_subject_ids = pd.read_csv(\"../../data/PATIENT_ICD_SUBJECT_IDS.csv\")\n",
    "\n",
    "remaining_subject_ids_cleaned = remaining_subject_ids.iloc[rows_with_vals].iloc[degree_threshold_idx]\n",
    "remaining_subject_ids_cleaned[\"ORIGINAL_INDEX\"] = remaining_subject_ids_cleaned.index\n",
    "remaining_subject_ids_cleaned.to_csv(\"./data/REMAINING_SUBJECT_IDS.csv\", index=None)\n",
    "remaining_subject_ids = pd.read_csv(\"./data/REMAINING_SUBJECT_IDS.csv\")\n",
    "remaining_subject_ids.shape"
   ]
  },
  {
   "cell_type": "markdown",
   "metadata": {},
   "source": [
    "## A rescaling"
   ]
  },
  {
   "cell_type": "code",
   "execution_count": 41,
   "metadata": {},
   "outputs": [],
   "source": [
    "A = A_cleaned"
   ]
  },
  {
   "cell_type": "code",
   "execution_count": 42,
   "metadata": {},
   "outputs": [
    {
     "name": "stdout",
     "output_type": "stream",
     "text": [
      "[0.06656105 0.05220621 0.04366442 ... 0.06948346 0.05569175 0.06488823]\n",
      "(42517, 42517)\n"
     ]
    }
   ],
   "source": [
    "print(A.data)\n",
    "print(A.shape)\n",
    "nonzero_idx_A = np.nonzero(A.toarray())"
   ]
  },
  {
   "cell_type": "code",
   "execution_count": 43,
   "metadata": {},
   "outputs": [
    {
     "name": "stdout",
     "output_type": "stream",
     "text": [
      "[[1.14238949 1.11005817 1.09125547 ... 1.14908608 1.11782351 1.13857383]]\n",
      "1.0587944922327113 7.38905609893065\n"
     ]
    },
    {
     "data": {
      "image/png": "[encoded data removed]",
      "text/plain": [
       "<Figure size 432x288 with 1 Axes>"
      ]
     },
     "metadata": {
      "needs_background": "light"
     },
     "output_type": "display_data"
    }
   ],
   "source": [
    "rescaled_data = np.exp(2*A[nonzero_idx_A])\n",
    "sns.distplot(rescaled_data, kde=False)\n",
    "print(rescaled_data)\n",
    "print(np.min(rescaled_data), np.max(rescaled_data))"
   ]
  },
  {
   "cell_type": "code",
   "execution_count": 44,
   "metadata": {},
   "outputs": [
    {
     "name": "stdout",
     "output_type": "stream",
     "text": [
      "0.0 7.38905609893065\n"
     ]
    }
   ],
   "source": [
    "A_rescaled = A.copy().toarray()\n",
    "A_rescaled[nonzero_idx_A] = rescaled_data\n",
    "A_rescaled = csr_matrix(A_rescaled)\n",
    "print(A_rescaled.min(), A_rescaled.max())"
   ]
  },
  {
   "cell_type": "code",
   "execution_count": 45,
   "metadata": {},
   "outputs": [],
   "source": [
    "pickle.dump(csr_matrix(A_rescaled), open(\"./data/A_mknn_K{}_CSR.p\".format(k_neighbors), \"wb\"))"
   ]
  },
  {
   "cell_type": "code",
   "execution_count": 46,
   "metadata": {},
   "outputs": [
    {
     "name": "stdout",
     "output_type": "stream",
     "text": [
      "(42517, 42517)\n",
      "0.0 7.38905609893065\n"
     ]
    }
   ],
   "source": [
    "A = pickle.load(open(\"./data/A_mknn_K{}_CSR.p\".format(k_neighbors), \"rb\"))\n",
    "print(A.shape)\n",
    "print(A.min(), A.max())"
   ]
  },
  {
   "cell_type": "markdown",
   "metadata": {},
   "source": [
    "# D"
   ]
  },
  {
   "cell_type": "code",
   "execution_count": 47,
   "metadata": {
    "scrolled": true
   },
   "outputs": [
    {
     "name": "stderr",
     "output_type": "stream",
     "text": [
      "100%|██████████| 42517/42517 [00:09<00:00, 4278.44it/s]\n"
     ]
    }
   ],
   "source": [
    "D = np.zeros((A.shape[0], A.shape[0]))\n",
    "for i in tqdm(range(A.shape[0])):\n",
    "    D[i, i] = np.sum(A[i])\n",
    "    \n",
    "pickle.dump(csr_matrix(D), open(\"./data/D_mknn_K{}_CSR.p\".format(k_neighbors), \"wb\"))"
   ]
  },
  {
   "cell_type": "code",
   "execution_count": 48,
   "metadata": {},
   "outputs": [
    {
     "data": {
      "text/plain": [
       "<matplotlib.axes._subplots.AxesSubplot at 0x7ff7b148ecc0>"
      ]
     },
     "execution_count": 48,
     "metadata": {},
     "output_type": "execute_result"
    },
    {
     "data": {
      "image/png": "[encoded data removed]",
      "text/plain": [
       "<Figure size 432x288 with 2 Axes>"
      ]
     },
     "metadata": {
      "needs_background": "light"
     },
     "output_type": "display_data"
    }
   ],
   "source": [
    "D = pickle.load(open(\"./data/D_mknn_K{}_CSR.p\".format(k_neighbors), \"rb\"))\n",
    "sns.heatmap(D[:100, :100].toarray(), cmap=\"Reds\")"
   ]
  },
  {
   "cell_type": "markdown",
   "metadata": {},
   "source": [
    "# D_mc"
   ]
  },
  {
   "cell_type": "code",
   "execution_count": 49,
   "metadata": {},
   "outputs": [],
   "source": [
    "k_neighbors = 50"
   ]
  },
  {
   "cell_type": "code",
   "execution_count": 50,
   "metadata": {},
   "outputs": [
    {
     "name": "stdout",
     "output_type": "stream",
     "text": [
      "47.203751839879196 23.6018759199396\n"
     ]
    }
   ],
   "source": [
    "diag_idx = np.diag_indices(D.shape[0])\n",
    "D_mean = np.mean(D[diag_idx])\n",
    "\n",
    "D_mc = D.copy()\n",
    "D_mc[diag_idx] = D[diag_idx] + D_mean\n",
    "print(np.mean(D_mc[diag_idx]), np.mean(D[diag_idx]))"
   ]
  },
  {
   "cell_type": "code",
   "execution_count": 51,
   "metadata": {},
   "outputs": [],
   "source": [
    "pickle.dump(csr_matrix(D_mc), open(\"./data/D_mc_mknn_K{}_CSR.p\".format(k_neighbors), \"wb\"))"
   ]
  },
  {
   "cell_type": "markdown",
   "metadata": {},
   "source": [
    "# D_inv_sqrt"
   ]
  },
  {
   "cell_type": "code",
   "execution_count": 52,
   "metadata": {},
   "outputs": [],
   "source": [
    "k_neighbors = 50"
   ]
  },
  {
   "cell_type": "code",
   "execution_count": 53,
   "metadata": {},
   "outputs": [
    {
     "name": "stdout",
     "output_type": "stream",
     "text": [
      "(42517, 42517) (42517, 42517)\n",
      "23.6018759199396 47.203751839879196\n",
      "0.000555116210455573 0.0011102324209111463\n"
     ]
    }
   ],
   "source": [
    "D = pickle.load(open(\"./data/D_mknn_K{}_CSR.p\".format(k_neighbors), \"rb\"))\n",
    "D_mc = pickle.load(open(\"./data/D_mc_mknn_K{}_CSR.p\".format(k_neighbors), \"rb\"))\n",
    "print(D.shape, D_mc.shape)\n",
    "print(np.mean(D[diag_idx]), np.mean(D_mc[diag_idx]))\n",
    "print(np.mean(D), np.mean(D_mc))"
   ]
  },
  {
   "cell_type": "code",
   "execution_count": 54,
   "metadata": {},
   "outputs": [],
   "source": [
    "def get_inv_sqrt(d):\n",
    "    nonzero_idx = np.nonzero(d)\n",
    "    d_diag_sqrt_inv = 1.0/np.sqrt(d[nonzero_idx])\n",
    "    d_inv_sqrt = d.copy()\n",
    "    d_inv_sqrt[nonzero_idx] = d_diag_sqrt_inv\n",
    "    return d_inv_sqrt\n",
    "\n",
    "D_inv_sqrt = get_inv_sqrt(D)\n",
    "D_mc_inv_sqrt = get_inv_sqrt(D_mc)"
   ]
  },
  {
   "cell_type": "code",
   "execution_count": 55,
   "metadata": {},
   "outputs": [],
   "source": [
    "pickle.dump(D_inv_sqrt, open(\"./data/D_mknn_inv_sqrt_K{}_CSR.p\".format(k_neighbors), \"wb\"))\n",
    "pickle.dump(D_mc_inv_sqrt, open(\"./data/D_mc_mknn_inv_sqrt_K{}_CSR.p\".format(k_neighbors), \"wb\"))"
   ]
  },
  {
   "cell_type": "markdown",
   "metadata": {},
   "source": [
    "# Compute normalized L"
   ]
  },
  {
   "cell_type": "code",
   "execution_count": 56,
   "metadata": {},
   "outputs": [],
   "source": [
    "k_neighbors = 50"
   ]
  },
  {
   "cell_type": "code",
   "execution_count": 57,
   "metadata": {},
   "outputs": [
    {
     "name": "stdout",
     "output_type": "stream",
     "text": [
      "(42517, 42517) (42517, 42517) (42517, 42517)\n"
     ]
    }
   ],
   "source": [
    "A = pickle.load(open(\"./data/A_mknn_K{}_CSR.p\".format(k_neighbors), \"rb\"))\n",
    "D_inv_sqrt = pickle.load(open(\"./data/D_mknn_inv_sqrt_K{}_CSR.p\".format(k_neighbors), \"rb\"))\n",
    "D_mc_inv_sqrt = pickle.load(open(\"./data/D_mc_mknn_inv_sqrt_K{}_CSR.p\".format(k_neighbors), \"rb\"))\n",
    "print(A.shape, D.shape, D_mc.shape)\n",
    "\n",
    "L = D_inv_sqrt.dot(A.dot(D_inv_sqrt))\n",
    "L_mc = D_mc_inv_sqrt.dot(A.dot(D_mc_inv_sqrt))\n",
    "\n",
    "pickle.dump(csr_matrix(L), open(\"./data/L_mknn_K{}_CSR.p\".format(k_neighbors), \"wb\"))\n",
    "pickle.dump(csr_matrix(L_mc), open(\"./data/L_mc_mknn_K{}_CSR.p\".format(k_neighbors), \"wb\"))"
   ]
  },
  {
   "cell_type": "code",
   "execution_count": 58,
   "metadata": {},
   "outputs": [
    {
     "name": "stdout",
     "output_type": "stream",
     "text": [
      "(42517, 42517) (42517, 42517)\n",
      "0.0 1.0000000000000002\n",
      "0.0 0.23842639177264768\n"
     ]
    }
   ],
   "source": [
    "print(L.shape, L_mc.shape)\n",
    "print(np.min(L), np.max(L))\n",
    "print(np.min(L_mc), np.max(L_mc))"
   ]
  },
  {
   "cell_type": "markdown",
   "metadata": {},
   "source": [
    "\n",
    "# Eigen Decomposition"
   ]
  },
  {
   "cell_type": "code",
   "execution_count": 59,
   "metadata": {},
   "outputs": [],
   "source": [
    "L = pickle.load(open(\"./data/L_mknn_K{}_CSR.p\".format(k_neighbors), \"rb\"))\n",
    "L_mc = pickle.load(open(\"./data/L_mc_mknn_K{}_CSR.p\".format(k_neighbors), \"rb\"))\n",
    "\n",
    "evecs=50\n",
    "L_evecs, L_evals, _ = randomized_svd(L, n_components=evecs)\n",
    "L_mc_evecs, L_mc_evals, _ = randomized_svd(L_mc, n_components=evecs)\n",
    "pickle.dump(L_evecs, open(\"./data/L_evecs{}_K{}.p\".format(evecs, k_neighbors), 'wb'))\n",
    "pickle.dump(L_mc_evecs, open(\"./data/L_mc_evecs{}_K{}.p\".format(evecs, k_neighbors), \"wb\"))\n",
    "pickle.dump(L_evals, open(\"./data/L_evals{}_K{}.p\".format(evecs, k_neighbors), \"wb\"))\n",
    "pickle.dump(L_mc_evals, open(\"./data/L_mc_evals{}_K{}.p\".format(evecs, k_neighbors), \"wb\"))"
   ]
  },
  {
   "cell_type": "code",
   "execution_count": 60,
   "metadata": {},
   "outputs": [
    {
     "data": {
      "image/png": "[encoded data removed]",
      "text/plain": [
       "<Figure size 360x360 with 1 Axes>"
      ]
     },
     "metadata": {
      "needs_background": "light"
     },
     "output_type": "display_data"
    },
    {
     "data": {
      "image/png": "[encoded data removed]",
      "text/plain": [
       "<Figure size 360x360 with 1 Axes>"
      ]
     },
     "metadata": {
      "needs_background": "light"
     },
     "output_type": "display_data"
    }
   ],
   "source": [
    "#print(np.flip(L_evals_svd))\n",
    "plt.figure(figsize=(5,5))\n",
    "ax = sns.scatterplot(range(L_evals.shape[0]), L_evals)\n",
    "\n",
    "#print(np.flip(L_mc_evals_svd))\n",
    "plt.figure(figsize=(5,5))\n",
    "ax = sns.scatterplot(range(L_mc_evals.shape[0]), L_mc_evals)"
   ]
  },
  {
   "cell_type": "code",
   "execution_count": 61,
   "metadata": {},
   "outputs": [
    {
     "name": "stdout",
     "output_type": "stream",
     "text": [
      "             Evec_0        Evec_1        Evec_2        Evec_3        Evec_4  \\\n",
      "count  42517.000000  42517.000000  42517.000000  42517.000000  42517.000000   \n",
      "mean       0.000164      0.000051      0.000480     -0.000257     -0.000085   \n",
      "std        0.004847      0.004850      0.004826      0.004843      0.004849   \n",
      "min       -0.134232     -0.190371     -0.164643     -0.162099     -0.182411   \n",
      "25%       -0.000254     -0.000187      0.000147     -0.000459     -0.000430   \n",
      "50%        0.000021      0.000119      0.000431      0.000100     -0.000159   \n",
      "75%        0.000322      0.000428      0.000884      0.000528      0.000059   \n",
      "max        0.177969      0.215234      0.219077      0.193335      0.186981   \n",
      "\n",
      "             Evec_5        Evec_6        Evec_7        Evec_8        Evec_9  \\\n",
      "count  42517.000000  42517.000000  42517.000000  42517.000000  42517.000000   \n",
      "mean      -0.000119     -0.000113     -0.000028     -0.000107      0.000281   \n",
      "std        0.004848      0.004848      0.004850      0.004849      0.004842   \n",
      "min       -0.167166     -0.140836     -0.140463     -0.149404     -0.163774   \n",
      "25%       -0.000486     -0.000274     -0.000538     -0.000422     -0.000355   \n",
      "50%       -0.000053      0.000029      0.000056     -0.000129      0.000061   \n",
      "75%        0.000347      0.000288      0.000508      0.000133      0.000508   \n",
      "max        0.171100      0.166732      0.164634      0.188677      0.183736   \n",
      "\n",
      "            Evec_10       Evec_11       Evec_12       Evec_13       Evec_14  \\\n",
      "count  42517.000000  42517.000000  42517.000000  42517.000000  42517.000000   \n",
      "mean       0.000562      0.000454     -0.000113      0.000247      0.000376   \n",
      "std        0.004817      0.004829      0.004848      0.004843      0.004835   \n",
      "min       -0.135546     -0.168677     -0.158560     -0.145590     -0.150573   \n",
      "25%        0.000146     -0.000177     -0.000413     -0.000580     -0.000159   \n",
      "50%        0.000381      0.000457     -0.000105      0.000223      0.000379   \n",
      "75%        0.000906      0.001191      0.000214      0.001176      0.000788   \n",
      "max        0.139190      0.176983      0.160468      0.185128      0.212436   \n",
      "\n",
      "            Evec_15       Evec_16       Evec_17       Evec_18       Evec_19  \n",
      "count  42517.000000  42517.000000  42517.000000  42517.000000  42517.000000  \n",
      "mean       0.000479      0.000208      0.000050      0.000033     -0.000014  \n",
      "std        0.004826      0.004845      0.004850      0.004850      0.004850  \n",
      "min       -0.132841     -0.169137     -0.144877     -0.181937     -0.158880  \n",
      "25%        0.000018     -0.000309     -0.000669     -0.000512     -0.000417  \n",
      "50%        0.000281      0.000244     -0.000005      0.000177     -0.000063  \n",
      "75%        0.000716      0.000696      0.000683      0.000727      0.000405  \n",
      "max        0.160687      0.172878      0.209306      0.194606      0.160411  \n",
      "             Evec_0        Evec_1        Evec_2        Evec_3        Evec_4  \\\n",
      "count  4.251700e+04  4.251700e+04  4.251700e+04  4.251700e+04  42517.000000   \n",
      "mean   2.356381e-04  1.356084e-04  8.831512e-05  5.152282e-04     -0.000254   \n",
      "std    4.844072e-03  4.847903e-03  4.848995e-03  4.822353e-03      0.004843   \n",
      "min   -7.591517e-02 -2.419755e-02 -7.727736e-02 -7.863871e-02     -0.129979   \n",
      "25%   -6.168292e-06 -2.042747e-05 -1.673056e-05  3.435256e-07     -0.000084   \n",
      "50%    1.570406e-07 -7.462396e-08  2.013755e-07  9.883552e-06     -0.000015   \n",
      "75%    1.690857e-05  4.657574e-06  1.552652e-05  7.641059e-05     -0.000002   \n",
      "max    1.117988e-01  1.978935e-01  2.733428e-01  1.422023e-01      0.206369   \n",
      "\n",
      "             Evec_5        Evec_6        Evec_7        Evec_8        Evec_9  \\\n",
      "count  4.251700e+04  42517.000000  4.251700e+04  42517.000000  42517.000000   \n",
      "mean   1.148098e-04      0.000236 -2.153178e-04      0.000074      0.000270   \n",
      "std    4.848441e-03      0.004844  4.845017e-03      0.004849      0.004842   \n",
      "min   -4.604060e-02     -0.068699 -6.568482e-02     -0.105186     -0.027024   \n",
      "25%   -9.252924e-07      0.000001  6.635964e-07     -0.000002     -0.000044   \n",
      "50%    1.021625e-05      0.000022  1.561208e-05      0.000005     -0.000002   \n",
      "75%    7.297738e-05      0.000105  6.997204e-05      0.000038      0.000049   \n",
      "max    1.904822e-01      0.161466  1.011341e-01      0.261975      0.214677   \n",
      "\n",
      "            Evec_10       Evec_11       Evec_12       Evec_13       Evec_14  \\\n",
      "count  4.251700e+04  4.251700e+04  42517.000000  42517.000000  42517.000000   \n",
      "mean  -8.710236e-05 -1.628581e-04     -0.000090      0.000339      0.000329   \n",
      "std    4.849017e-03  4.847064e-03      0.004849      0.004838      0.004839   \n",
      "min   -7.942195e-02 -8.299045e-02     -0.090334     -0.064832     -0.047628   \n",
      "25%   -1.604500e-05 -6.671336e-05     -0.000102     -0.000030     -0.000005   \n",
      "50%    5.174580e-08 -6.688952e-07     -0.000004     -0.000001      0.000010   \n",
      "75%    3.040804e-05  3.053653e-05      0.000007      0.000031      0.000091   \n",
      "max    2.095930e-01  9.893837e-02      0.165413      0.153590      0.062732   \n",
      "\n",
      "            Evec_15       Evec_16       Evec_17       Evec_18       Evec_19  \n",
      "count  42517.000000  4.251700e+04  42517.000000  42517.000000  42517.000000  \n",
      "mean      -0.000125  3.554029e-05     -0.000036      0.000100      0.000050  \n",
      "std        0.004848  4.849669e-03      0.004850      0.004849      0.004850  \n",
      "min       -0.054084 -1.228676e-01     -0.119416     -0.116836     -0.071241  \n",
      "25%       -0.000022  7.495534e-08     -0.000080     -0.000048     -0.000024  \n",
      "50%        0.000007  1.561383e-05     -0.000007     -0.000006      0.000011  \n",
      "75%        0.000084  1.014228e-04      0.000010      0.000019      0.000092  \n",
      "max        0.178980  1.560313e-01      0.209305      0.141592      0.092426  \n"
     ]
    }
   ],
   "source": [
    "evecs_to_plot=20\n",
    "L_k_evecs = L_evecs[:, -evecs_to_plot:]\n",
    "L_mc_k_evecs = L_mc_evecs[:, -evecs_to_plot:]\n",
    "\n",
    "evec_cols = [\"Evec_{}\".format(i) for i in range(evecs_to_plot)]\n",
    "\n",
    "L_evec_df = pd.DataFrame(L_k_evecs, columns=evec_cols)\n",
    "L_mc_evec_df = pd.DataFrame(L_mc_k_evecs, columns=evec_cols)\n",
    "print(L_evec_df.describe())\n",
    "print(L_mc_evec_df.describe())"
   ]
  }
 ],
 "metadata": {
  "kernelspec": {
   "display_name": "mengp369",
   "language": "python",
   "name": "mengp369"
  },
  "language_info": {
   "codemirror_mode": {
    "name": "ipython",
    "version": 3
   },
   "file_extension": ".py",
   "mimetype": "text/x-python",
   "name": "python",
   "nbconvert_exporter": "python",
   "pygments_lexer": "ipython3",
   "version": "3.6.9"
  }
 },
 "nbformat": 4,
 "nbformat_minor": 2
}
