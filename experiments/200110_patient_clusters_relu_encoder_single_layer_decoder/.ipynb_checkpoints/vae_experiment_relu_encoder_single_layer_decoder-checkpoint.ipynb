{
 "cells": [
  {
   "cell_type": "code",
   "execution_count": 1,
   "metadata": {},
   "outputs": [],
   "source": [
    "import sys\n",
    "sys.path.append(\"/data1/andrew/meng/mixehr/meng/VAE-EHR/src\")\n",
    "from importlib import reload\n",
    "\n",
    "import numpy as np \n",
    "import pandas as pd\n",
    "from tqdm import tqdm\n",
    "\n",
    "import torch\n",
    "from torch import nn, optim"
   ]
  },
  {
   "cell_type": "code",
   "execution_count": 2,
   "metadata": {},
   "outputs": [],
   "source": [
    "import vae\n",
    "reload(vae)\n",
    "\n",
    "from vae import VAE, VAETrainer"
   ]
  },
  {
   "cell_type": "code",
   "execution_count": 3,
   "metadata": {
    "scrolled": true
   },
   "outputs": [
    {
     "name": "stdout",
     "output_type": "stream",
     "text": [
      "torch.Size([46520, 6984])\n"
     ]
    }
   ],
   "source": [
    "patient_icd_file = \"/data1/andrew/meng/mixehr/data/Mimic/andrew_outputs/PATIENT_ICD_BINARY.csv\"\n",
    "patient_icd_df = pd.read_csv(patient_icd_file, sep=' ')\n",
    "\n",
    "patient_icd_data = patient_icd_df.drop('SUBJECT_ID', axis=1)\n",
    "\n",
    "data = torch.tensor(patient_icd_data.values).float()\n",
    "print(data.shape)"
   ]
  },
  {
   "cell_type": "code",
   "execution_count": 4,
   "metadata": {},
   "outputs": [
    {
     "name": "stdout",
     "output_type": "stream",
     "text": [
      "cuda\n",
      "Feature_dim: 6984\n",
      "<class 'torch.optim.adam.Adam'>\n"
     ]
    }
   ],
   "source": [
    "device = torch.device(\"cuda\" if torch.cuda.is_available() else \"cpu\")\n",
    "print((device))\n",
    "\n",
    "print(\"Feature_dim: {}\".format(data.shape[1]))\n",
    "model = VAE(\n",
    "    feature_dim = data.shape[1], \n",
    "    encoder_dim = [(250, 500), (500, 250), (250, 100)],\n",
    "    latent_dim = 10,\n",
    "    decoder_dim = [],\n",
    "    use_relu=True\n",
    ")\n",
    "\n",
    "optimizer = optim.Adam(model.parameters(), lr=0.001)\n",
    "print(type(optimizer))"
   ]
  },
  {
   "cell_type": "code",
   "execution_count": 5,
   "metadata": {},
   "outputs": [],
   "source": [
    "date=\"200108\"\n",
    "experiment_name = \"{}_patient_clusters_relu_encoder_single_layer_decoder\".format(date)\n",
    "trainer = VAETrainer(\n",
    "    model=model, \n",
    "    device=device, \n",
    "    optimizer=optimizer,\n",
    "    experiment_name=experiment_name\n",
    ")"
   ]
  },
  {
   "cell_type": "code",
   "execution_count": 6,
   "metadata": {
    "scrolled": false
   },
   "outputs": [
    {
     "name": "stderr",
     "output_type": "stream",
     "text": [
      "100%|██████████| 1163/1163 [00:11<00:00, 104.72it/s]\n",
      "  1%|▏         | 17/1163 [00:00<00:06, 164.23it/s]"
     ]
    },
    {
     "name": "stdout",
     "output_type": "stream",
     "text": [
      "====> Epoch: 1 Average loss: 16745.9782\n"
     ]
    },
    {
     "name": "stderr",
     "output_type": "stream",
     "text": [
      "100%|██████████| 1163/1163 [00:10<00:00, 108.32it/s]\n",
      "  1%|          | 13/1163 [00:00<00:09, 122.92it/s]"
     ]
    },
    {
     "name": "stdout",
     "output_type": "stream",
     "text": [
      "====> Epoch: 2 Average loss: 4113.6616\n"
     ]
    },
    {
     "name": "stderr",
     "output_type": "stream",
     "text": [
      "100%|██████████| 1163/1163 [00:11<00:00, 105.40it/s]\n",
      "  1%|          | 9/1163 [00:00<00:13, 87.47it/s]"
     ]
    },
    {
     "name": "stdout",
     "output_type": "stream",
     "text": [
      "====> Epoch: 3 Average loss: 3383.6830\n"
     ]
    },
    {
     "name": "stderr",
     "output_type": "stream",
     "text": [
      "100%|██████████| 1163/1163 [00:09<00:00, 118.11it/s]\n",
      "  1%|          | 10/1163 [00:00<00:12, 91.16it/s]"
     ]
    },
    {
     "name": "stdout",
     "output_type": "stream",
     "text": [
      "====> Epoch: 4 Average loss: 3000.8007\n"
     ]
    },
    {
     "name": "stderr",
     "output_type": "stream",
     "text": [
      "100%|██████████| 1163/1163 [00:10<00:00, 113.63it/s]\n",
      "  1%|          | 11/1163 [00:00<00:10, 105.67it/s]"
     ]
    },
    {
     "name": "stdout",
     "output_type": "stream",
     "text": [
      "====> Epoch: 5 Average loss: 2748.7928\n"
     ]
    },
    {
     "name": "stderr",
     "output_type": "stream",
     "text": [
      "100%|██████████| 1163/1163 [00:10<00:00, 109.58it/s]\n",
      "  1%|          | 9/1163 [00:00<00:13, 83.08it/s]"
     ]
    },
    {
     "name": "stdout",
     "output_type": "stream",
     "text": [
      "====> Epoch: 6 Average loss: 2561.5842\n"
     ]
    },
    {
     "name": "stderr",
     "output_type": "stream",
     "text": [
      "100%|██████████| 1163/1163 [00:10<00:00, 107.13it/s]\n",
      "  1%|          | 11/1163 [00:00<00:11, 99.22it/s]"
     ]
    },
    {
     "name": "stdout",
     "output_type": "stream",
     "text": [
      "====> Epoch: 7 Average loss: 2415.0875\n"
     ]
    },
    {
     "name": "stderr",
     "output_type": "stream",
     "text": [
      "100%|██████████| 1163/1163 [00:11<00:00, 98.66it/s]\n",
      "  1%|          | 9/1163 [00:00<00:12, 89.55it/s]"
     ]
    },
    {
     "name": "stdout",
     "output_type": "stream",
     "text": [
      "====> Epoch: 8 Average loss: 2300.0270\n"
     ]
    },
    {
     "name": "stderr",
     "output_type": "stream",
     "text": [
      "100%|██████████| 1163/1163 [00:10<00:00, 112.13it/s]\n",
      "  1%|          | 13/1163 [00:00<00:09, 123.20it/s]"
     ]
    },
    {
     "name": "stdout",
     "output_type": "stream",
     "text": [
      "====> Epoch: 9 Average loss: 2211.6136\n"
     ]
    },
    {
     "name": "stderr",
     "output_type": "stream",
     "text": [
      "100%|██████████| 1163/1163 [00:07<00:00, 164.65it/s]\n",
      "  1%|          | 14/1163 [00:00<00:08, 134.25it/s]"
     ]
    },
    {
     "name": "stdout",
     "output_type": "stream",
     "text": [
      "====> Epoch: 10 Average loss: 2143.5158\n"
     ]
    },
    {
     "name": "stderr",
     "output_type": "stream",
     "text": [
      "100%|██████████| 1163/1163 [00:08<00:00, 141.77it/s]\n",
      "  1%|▏         | 17/1163 [00:00<00:06, 164.78it/s]"
     ]
    },
    {
     "name": "stdout",
     "output_type": "stream",
     "text": [
      "====> Epoch: 11 Average loss: 2090.4554\n"
     ]
    },
    {
     "name": "stderr",
     "output_type": "stream",
     "text": [
      "100%|██████████| 1163/1163 [00:07<00:00, 153.97it/s]\n",
      "  1%|▏         | 16/1163 [00:00<00:07, 154.17it/s]"
     ]
    },
    {
     "name": "stdout",
     "output_type": "stream",
     "text": [
      "====> Epoch: 12 Average loss: 2049.1550\n"
     ]
    },
    {
     "name": "stderr",
     "output_type": "stream",
     "text": [
      "100%|██████████| 1163/1163 [00:07<00:00, 147.23it/s]\n",
      "  1%|▏         | 17/1163 [00:00<00:06, 165.48it/s]"
     ]
    },
    {
     "name": "stdout",
     "output_type": "stream",
     "text": [
      "====> Epoch: 13 Average loss: 2015.3134\n"
     ]
    },
    {
     "name": "stderr",
     "output_type": "stream",
     "text": [
      "100%|██████████| 1163/1163 [00:10<00:00, 108.91it/s]\n",
      "  1%|          | 11/1163 [00:00<00:10, 106.63it/s]"
     ]
    },
    {
     "name": "stdout",
     "output_type": "stream",
     "text": [
      "====> Epoch: 14 Average loss: 1987.5362\n"
     ]
    },
    {
     "name": "stderr",
     "output_type": "stream",
     "text": [
      "100%|██████████| 1163/1163 [00:10<00:00, 111.59it/s]\n",
      "  1%|          | 14/1163 [00:00<00:08, 133.49it/s]"
     ]
    },
    {
     "name": "stdout",
     "output_type": "stream",
     "text": [
      "====> Epoch: 15 Average loss: 1964.2258\n"
     ]
    },
    {
     "name": "stderr",
     "output_type": "stream",
     "text": [
      "100%|██████████| 1163/1163 [00:08<00:00, 133.77it/s]\n",
      "  1%|          | 12/1163 [00:00<00:10, 113.92it/s]"
     ]
    },
    {
     "name": "stdout",
     "output_type": "stream",
     "text": [
      "====> Epoch: 16 Average loss: 1944.4351\n"
     ]
    },
    {
     "name": "stderr",
     "output_type": "stream",
     "text": [
      "100%|██████████| 1163/1163 [00:11<00:00, 103.50it/s]\n",
      "  1%|          | 13/1163 [00:00<00:09, 124.03it/s]"
     ]
    },
    {
     "name": "stdout",
     "output_type": "stream",
     "text": [
      "====> Epoch: 17 Average loss: 1927.3827\n"
     ]
    },
    {
     "name": "stderr",
     "output_type": "stream",
     "text": [
      "100%|██████████| 1163/1163 [00:10<00:00, 106.71it/s]\n",
      "  1%|▏         | 15/1163 [00:00<00:07, 144.54it/s]"
     ]
    },
    {
     "name": "stdout",
     "output_type": "stream",
     "text": [
      "====> Epoch: 18 Average loss: 1912.5313\n"
     ]
    },
    {
     "name": "stderr",
     "output_type": "stream",
     "text": [
      "100%|██████████| 1163/1163 [00:07<00:00, 146.21it/s]\n",
      "  1%|          | 14/1163 [00:00<00:08, 131.04it/s]"
     ]
    },
    {
     "name": "stdout",
     "output_type": "stream",
     "text": [
      "====> Epoch: 19 Average loss: 1898.4298\n"
     ]
    },
    {
     "name": "stderr",
     "output_type": "stream",
     "text": [
      "100%|██████████| 1163/1163 [00:07<00:00, 149.26it/s]\n",
      "  1%|          | 14/1163 [00:00<00:08, 132.38it/s]"
     ]
    },
    {
     "name": "stdout",
     "output_type": "stream",
     "text": [
      "====> Epoch: 20 Average loss: 1885.8464\n"
     ]
    },
    {
     "name": "stderr",
     "output_type": "stream",
     "text": [
      "100%|██████████| 1163/1163 [00:08<00:00, 143.18it/s]\n",
      "  1%|▏         | 16/1163 [00:00<00:07, 151.15it/s]"
     ]
    },
    {
     "name": "stdout",
     "output_type": "stream",
     "text": [
      "====> Epoch: 21 Average loss: 1875.1337\n"
     ]
    },
    {
     "name": "stderr",
     "output_type": "stream",
     "text": [
      "100%|██████████| 1163/1163 [00:07<00:00, 152.78it/s]\n",
      "  1%|▏         | 17/1163 [00:00<00:06, 163.95it/s]"
     ]
    },
    {
     "name": "stdout",
     "output_type": "stream",
     "text": [
      "====> Epoch: 22 Average loss: 1865.3251\n"
     ]
    },
    {
     "name": "stderr",
     "output_type": "stream",
     "text": [
      "100%|██████████| 1163/1163 [00:08<00:00, 133.78it/s]\n",
      "  1%|          | 8/1163 [00:00<00:14, 79.12it/s]"
     ]
    },
    {
     "name": "stdout",
     "output_type": "stream",
     "text": [
      "====> Epoch: 23 Average loss: 1856.6082\n"
     ]
    },
    {
     "name": "stderr",
     "output_type": "stream",
     "text": [
      "100%|██████████| 1163/1163 [00:09<00:00, 125.46it/s]\n",
      "  1%|▏         | 17/1163 [00:00<00:06, 165.92it/s]"
     ]
    },
    {
     "name": "stdout",
     "output_type": "stream",
     "text": [
      "====> Epoch: 24 Average loss: 1848.4085\n"
     ]
    },
    {
     "name": "stderr",
     "output_type": "stream",
     "text": [
      "100%|██████████| 1163/1163 [00:07<00:00, 147.86it/s]\n",
      "  1%|          | 9/1163 [00:00<00:13, 84.16it/s]"
     ]
    },
    {
     "name": "stdout",
     "output_type": "stream",
     "text": [
      "====> Epoch: 25 Average loss: 1841.1624\n"
     ]
    },
    {
     "name": "stderr",
     "output_type": "stream",
     "text": [
      "100%|██████████| 1163/1163 [00:09<00:00, 125.27it/s]\n",
      "  1%|▏         | 17/1163 [00:00<00:06, 167.25it/s]"
     ]
    },
    {
     "name": "stdout",
     "output_type": "stream",
     "text": [
      "====> Epoch: 26 Average loss: 1834.2070\n"
     ]
    },
    {
     "name": "stderr",
     "output_type": "stream",
     "text": [
      "100%|██████████| 1163/1163 [00:09<00:00, 117.54it/s]\n",
      "  1%|          | 11/1163 [00:00<00:10, 109.87it/s]"
     ]
    },
    {
     "name": "stdout",
     "output_type": "stream",
     "text": [
      "====> Epoch: 27 Average loss: 1828.0534\n"
     ]
    },
    {
     "name": "stderr",
     "output_type": "stream",
     "text": [
      "100%|██████████| 1163/1163 [00:10<00:00, 109.97it/s]\n",
      "  1%|          | 10/1163 [00:00<00:12, 95.37it/s]"
     ]
    },
    {
     "name": "stdout",
     "output_type": "stream",
     "text": [
      "====> Epoch: 28 Average loss: 1821.7981\n"
     ]
    },
    {
     "name": "stderr",
     "output_type": "stream",
     "text": [
      "100%|██████████| 1163/1163 [00:08<00:00, 135.16it/s]\n",
      "  1%|          | 12/1163 [00:00<00:09, 117.52it/s]"
     ]
    },
    {
     "name": "stdout",
     "output_type": "stream",
     "text": [
      "====> Epoch: 29 Average loss: 1816.7711\n"
     ]
    },
    {
     "name": "stderr",
     "output_type": "stream",
     "text": [
      "100%|██████████| 1163/1163 [00:09<00:00, 117.09it/s]\n",
      "  1%|▏         | 17/1163 [00:00<00:06, 163.93it/s]"
     ]
    },
    {
     "name": "stdout",
     "output_type": "stream",
     "text": [
      "====> Epoch: 30 Average loss: 1811.7208\n"
     ]
    },
    {
     "name": "stderr",
     "output_type": "stream",
     "text": [
      "100%|██████████| 1163/1163 [00:09<00:00, 122.17it/s]\n",
      "  1%|          | 8/1163 [00:00<00:14, 77.89it/s]"
     ]
    },
    {
     "name": "stdout",
     "output_type": "stream",
     "text": [
      "====> Epoch: 31 Average loss: 1807.3805\n"
     ]
    },
    {
     "name": "stderr",
     "output_type": "stream",
     "text": [
      "100%|██████████| 1163/1163 [00:11<00:00, 98.37it/s] \n",
      "  1%|          | 9/1163 [00:00<00:14, 79.64it/s]"
     ]
    },
    {
     "name": "stdout",
     "output_type": "stream",
     "text": [
      "====> Epoch: 32 Average loss: 1802.9667\n"
     ]
    },
    {
     "name": "stderr",
     "output_type": "stream",
     "text": [
      "100%|██████████| 1163/1163 [00:09<00:00, 122.98it/s]\n",
      "  1%|▏         | 17/1163 [00:00<00:06, 167.65it/s]"
     ]
    },
    {
     "name": "stdout",
     "output_type": "stream",
     "text": [
      "====> Epoch: 33 Average loss: 1798.6870\n"
     ]
    },
    {
     "name": "stderr",
     "output_type": "stream",
     "text": [
      "100%|██████████| 1163/1163 [00:08<00:00, 142.90it/s]\n",
      "  1%|          | 11/1163 [00:00<00:10, 108.38it/s]"
     ]
    },
    {
     "name": "stdout",
     "output_type": "stream",
     "text": [
      "====> Epoch: 34 Average loss: 1794.1610\n"
     ]
    },
    {
     "name": "stderr",
     "output_type": "stream",
     "text": [
      "100%|██████████| 1163/1163 [00:09<00:00, 118.81it/s]\n",
      "  1%|          | 13/1163 [00:00<00:09, 125.43it/s]"
     ]
    },
    {
     "name": "stdout",
     "output_type": "stream",
     "text": [
      "====> Epoch: 35 Average loss: 1789.9266\n"
     ]
    },
    {
     "name": "stderr",
     "output_type": "stream",
     "text": [
      "100%|██████████| 1163/1163 [00:09<00:00, 121.97it/s]\n",
      "  1%|          | 13/1163 [00:00<00:09, 121.25it/s]"
     ]
    },
    {
     "name": "stdout",
     "output_type": "stream",
     "text": [
      "====> Epoch: 36 Average loss: 1785.7241\n"
     ]
    },
    {
     "name": "stderr",
     "output_type": "stream",
     "text": [
      "100%|██████████| 1163/1163 [00:10<00:00, 106.21it/s]\n",
      "  1%|          | 13/1163 [00:00<00:09, 121.18it/s]"
     ]
    },
    {
     "name": "stdout",
     "output_type": "stream",
     "text": [
      "====> Epoch: 37 Average loss: 1781.9101\n"
     ]
    },
    {
     "name": "stderr",
     "output_type": "stream",
     "text": [
      "100%|██████████| 1163/1163 [00:09<00:00, 124.14it/s]\n",
      "  1%|▏         | 16/1163 [00:00<00:07, 152.85it/s]"
     ]
    },
    {
     "name": "stdout",
     "output_type": "stream",
     "text": [
      "====> Epoch: 38 Average loss: 1778.7276\n"
     ]
    },
    {
     "name": "stderr",
     "output_type": "stream",
     "text": [
      "100%|██████████| 1163/1163 [00:09<00:00, 119.61it/s]\n",
      "  1%|▏         | 15/1163 [00:00<00:07, 147.64it/s]"
     ]
    },
    {
     "name": "stdout",
     "output_type": "stream",
     "text": [
      "====> Epoch: 39 Average loss: 1775.2487\n"
     ]
    },
    {
     "name": "stderr",
     "output_type": "stream",
     "text": [
      "100%|██████████| 1163/1163 [00:07<00:00, 160.76it/s]"
     ]
    },
    {
     "name": "stdout",
     "output_type": "stream",
     "text": [
      "====> Epoch: 40 Average loss: 1772.1638\n"
     ]
    },
    {
     "name": "stderr",
     "output_type": "stream",
     "text": [
      "\n"
     ]
    }
   ],
   "source": [
    "trainer.train(\n",
    "    data=data, \n",
    "    epochs=40,\n",
    "    batch_size=40,\n",
    "    save_model_interval=5,\n",
    "    clip_gradients=False\n",
    ")"
   ]
  },
  {
   "cell_type": "code",
   "execution_count": null,
   "metadata": {},
   "outputs": [],
   "source": [
    "#model.load_state_dict(torch.load(\"VAE_epoch_450.pkl\"))"
   ]
  }
 ],
 "metadata": {
  "kernelspec": {
   "display_name": "mengp375",
   "language": "python",
   "name": "mengp375"
  },
  "language_info": {
   "codemirror_mode": {
    "name": "ipython",
    "version": 3
   },
   "file_extension": ".py",
   "mimetype": "text/x-python",
   "name": "python",
   "nbconvert_exporter": "python",
   "pygments_lexer": "ipython3",
   "version": "3.7.5"
  }
 },
 "nbformat": 4,
 "nbformat_minor": 2
}
