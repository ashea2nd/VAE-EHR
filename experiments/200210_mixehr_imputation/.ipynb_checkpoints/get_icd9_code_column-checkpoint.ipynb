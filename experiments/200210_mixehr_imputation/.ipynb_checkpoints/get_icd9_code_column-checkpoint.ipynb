{
 "cells": [
  {
   "cell_type": "code",
   "execution_count": 6,
   "metadata": {},
   "outputs": [],
   "source": [
    "import sys\n",
    "sys.path.append(\"./../../src\")\n",
    "import pandas as pd\n",
    "import numpy as np\n",
    "\n",
    "import torch\n",
    "from torch import nn, optim\n",
    "import pickle\n",
    "\n",
    "from vae_with_dataloader import VAE, VAETrainerWithDataLoader\n",
    "# from icd_analysis_helper import ICDAnalysisHelper\n",
    "from dataloader import MixehrICDImputationDataset\n",
    "from visualizer_helper import Visualizer\n",
    "\n",
    "from config_reader import Config\n",
    "import os\n",
    "import math\n",
    "from sklearn.model_selection import train_test_split"
   ]
  },
  {
   "cell_type": "code",
   "execution_count": 7,
   "metadata": {},
   "outputs": [],
   "source": [
    "config = Config('./config.ini', date=\"200211\")\n",
    "experiment_name=config.experiment_name\n",
    "config.__dict__\n",
    "\n",
    "local_icd_path = \"/Users/andrew/Documents/meng/mimic-iii-clinical-database-1.4/D_ICD_DIAGNOSES.csv.gz\"\n",
    "local_patient_path = \"/Users/andrew/Documents/meng/spring/PATIENT_ICD_BINARY.csv\""
   ]
  },
  {
   "cell_type": "code",
   "execution_count": 16,
   "metadata": {},
   "outputs": [],
   "source": [
    "icd9codes = pd.read_csv(local_icd_path)\n",
    "patient_icd_df=pd.read_csv(local_patient_path, sep=' ', nrows=1)\n",
    "icd_columns = pd.DataFrame(patient_icd_df.columns[1:], columns=[\"ICD9_CODE\"])"
   ]
  },
  {
   "cell_type": "code",
   "execution_count": 17,
   "metadata": {},
   "outputs": [
    {
     "data": {
      "text/html": [
       "<div>\n",
       "<style scoped>\n",
       "    .dataframe tbody tr th:only-of-type {\n",
       "        vertical-align: middle;\n",
       "    }\n",
       "\n",
       "    .dataframe tbody tr th {\n",
       "        vertical-align: top;\n",
       "    }\n",
       "\n",
       "    .dataframe thead th {\n",
       "        text-align: right;\n",
       "    }\n",
       "</style>\n",
       "<table border=\"1\" class=\"dataframe\">\n",
       "  <thead>\n",
       "    <tr style=\"text-align: right;\">\n",
       "      <th></th>\n",
       "      <th>ICD9_CODE</th>\n",
       "    </tr>\n",
       "  </thead>\n",
       "  <tbody>\n",
       "    <tr>\n",
       "      <th>0</th>\n",
       "      <td>0030</td>\n",
       "    </tr>\n",
       "    <tr>\n",
       "      <th>1</th>\n",
       "      <td>0031</td>\n",
       "    </tr>\n",
       "    <tr>\n",
       "      <th>2</th>\n",
       "      <td>0038</td>\n",
       "    </tr>\n",
       "    <tr>\n",
       "      <th>3</th>\n",
       "      <td>0039</td>\n",
       "    </tr>\n",
       "    <tr>\n",
       "      <th>4</th>\n",
       "      <td>0041</td>\n",
       "    </tr>\n",
       "    <tr>\n",
       "      <th>...</th>\n",
       "      <td>...</td>\n",
       "    </tr>\n",
       "    <tr>\n",
       "      <th>6979</th>\n",
       "      <td>V902</td>\n",
       "    </tr>\n",
       "    <tr>\n",
       "      <th>6980</th>\n",
       "      <td>V9039</td>\n",
       "    </tr>\n",
       "    <tr>\n",
       "      <th>6981</th>\n",
       "      <td>V9081</td>\n",
       "    </tr>\n",
       "    <tr>\n",
       "      <th>6982</th>\n",
       "      <td>V9089</td>\n",
       "    </tr>\n",
       "    <tr>\n",
       "      <th>6983</th>\n",
       "      <td>V9103</td>\n",
       "    </tr>\n",
       "  </tbody>\n",
       "</table>\n",
       "<p>6984 rows × 1 columns</p>\n",
       "</div>"
      ],
      "text/plain": [
       "     ICD9_CODE\n",
       "0         0030\n",
       "1         0031\n",
       "2         0038\n",
       "3         0039\n",
       "4         0041\n",
       "...        ...\n",
       "6979      V902\n",
       "6980     V9039\n",
       "6981     V9081\n",
       "6982     V9089\n",
       "6983     V9103\n",
       "\n",
       "[6984 rows x 1 columns]"
      ]
     },
     "execution_count": 17,
     "metadata": {},
     "output_type": "execute_result"
    }
   ],
   "source": [
    "icd_columns.to_csv(\"\")"
   ]
  },
  {
   "cell_type": "code",
   "execution_count": null,
   "metadata": {},
   "outputs": [],
   "source": []
  }
 ],
 "metadata": {
  "kernelspec": {
   "display_name": "mengp369",
   "language": "python",
   "name": "mengp369"
  },
  "language_info": {
   "codemirror_mode": {
    "name": "ipython",
    "version": 3
   },
   "file_extension": ".py",
   "mimetype": "text/x-python",
   "name": "python",
   "nbconvert_exporter": "python",
   "pygments_lexer": "ipython3",
   "version": "3.6.9"
  }
 },
 "nbformat": 4,
 "nbformat_minor": 2
}
