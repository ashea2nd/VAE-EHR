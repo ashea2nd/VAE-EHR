{
 "cells": [
  {
   "cell_type": "code",
   "execution_count": 1,
   "metadata": {},
   "outputs": [],
   "source": [
    "import sys\n",
    "sys.path.append(\"./../../src\")\n",
    "import pandas as pd\n",
    "import numpy as np\n",
    "\n",
    "import torch\n",
    "from torch import nn, optim"
   ]
  },
  {
   "cell_type": "code",
   "execution_count": 2,
   "metadata": {},
   "outputs": [],
   "source": [
    "from vae_with_dataloader import VAE, VAETrainerWithDataLoader\n",
    "from icd_analysis_helper import ICDAnalysisHelper\n",
    "from dataloader import MixehrICDImputationDataset\n",
    "# from visualizer_helper import Visualizer\n",
    "\n",
    "from config_reader import Config\n",
    "import os\n",
    "import math\n",
    "from sklearn.model_selection import train_test_split"
   ]
  },
  {
   "cell_type": "code",
   "execution_count": 3,
   "metadata": {},
   "outputs": [
    {
     "data": {
      "text/plain": [
       "{'patient_icd_path': '/data1/andrew/meng/mixehr/data/Mimic/andrew_outputs/PATIENT_ICD_BINARY.csv',\n",
       " 'icd9codes_path': '/data1/andrew/meng/mixehr/data/Mimic/mimic-iii-clinical-database-1.4/D_ICD_DIAGNOSES.csv.gz',\n",
       " 'subject_ids_path': '/Users/andrew/Documents/meng/spring/PATIENT_ICD_SUBJECT_IDS.csv',\n",
       " 'experiment_name': '200211_mixehr_imputation_icd9codes',\n",
       " 'encoder_dim': [(250, 500), (500, 250), (250, 100)],\n",
       " 'latent_dim': 25,\n",
       " 'decoder_dim': [(250, 500), (500, 250), (250, 100)],\n",
       " 'use_relu_encoder': True,\n",
       " 'use_relu_decoder': True,\n",
       " 'kld_beta': 1.0}"
      ]
     },
     "execution_count": 3,
     "metadata": {},
     "output_type": "execute_result"
    }
   ],
   "source": [
    "###Load Configuration file\n",
    "config = Config('./config.ini')\n",
    "experiment_name=config.experiment_name\n",
    "config.__dict__"
   ]
  },
  {
   "cell_type": "code",
   "execution_count": 4,
   "metadata": {},
   "outputs": [],
   "source": [
    "###Load Matrices\n",
    "# metaphe_path = \"/Users/andrew/Documents/meng/mixEHR/data/precomputed_results/mixmimic/mimic_trainData_mimic_trainData_JCVB0_nmar_K75_iter5497_metaphe.csv\"\n",
    "metaphe_path = \"/data1/andrew/meng/mixehr/data/precomputed_results/mixmimic/mimic_trainData_mimic_trainData_JCVB0_nmar_K75_iter5497_metaphe.csv\"\n",
    "icd_topic_distribution_path = \"../../mixehr_analysis/imputed_data/mixehr_topics_normalized_FROM_ICD_DISTRIBUTION_with_phenames_icd_only.csv\"\n",
    "\n",
    "mixehr_icd_imputation_dataset = MixehrICDImputationDataset(patient_topic_distribution_path = metaphe_path, \n",
    "                                                           icd_topic_feature_distribution_path = icd_topic_distribution_path)"
   ]
  },
  {
   "cell_type": "code",
   "execution_count": 5,
   "metadata": {},
   "outputs": [],
   "source": [
    "params = {'batch_size': 64,\n",
    "          'shuffle': True}\n",
    "\n",
    "mixehr_training_generator = torch.utils.data.DataLoader(mixehr_icd_imputation_dataset, **params)"
   ]
  },
  {
   "cell_type": "code",
   "execution_count": 6,
   "metadata": {},
   "outputs": [
    {
     "name": "stdout",
     "output_type": "stream",
     "text": [
      "Feature_dim: 7985\n",
      "<class 'torch.optim.adam.Adam'>\n"
     ]
    }
   ],
   "source": [
    "###Load Model\n",
    "print(\"Feature_dim: {}\".format(mixehr_icd_imputation_dataset.get_feat_dim()))\n",
    "model = VAE(\n",
    "    feature_dim = mixehr_icd_imputation_dataset.get_feat_dim(),\n",
    "    encoder_dim = config.encoder_dim,\n",
    "    latent_dim = config.latent_dim,\n",
    "    decoder_dim = config.decoder_dim,\n",
    "    use_relu_encoder= config.use_relu_encoder,\n",
    "    use_relu_decoder= config.use_relu_decoder\n",
    ")\n",
    "\n",
    "model = model.double()\n",
    "\n",
    "optimizer = optim.Adam(model.parameters(), lr=0.001)\n",
    "print(type(optimizer))"
   ]
  },
  {
   "cell_type": "code",
   "execution_count": 7,
   "metadata": {},
   "outputs": [],
   "source": [
    "###Load Trainer\n",
    "trainer = VAETrainerWithDataLoader(\n",
    "    model=model, \n",
    "    optimizer=optimizer,\n",
    "    experiment_name=experiment_name,\n",
    "    kld_beta=config.kld_beta\n",
    ")"
   ]
  },
  {
   "cell_type": "code",
   "execution_count": 8,
   "metadata": {
    "scrolled": false
   },
   "outputs": [
    {
     "name": "stderr",
     "output_type": "stream",
     "text": [
      "\r",
      "  0%|          | 0/595 [00:00<?, ?it/s]"
     ]
    },
    {
     "name": "stdout",
     "output_type": "stream",
     "text": [
      "Training with KLD Beta weight of 1.0\n"
     ]
    },
    {
     "name": "stderr",
     "output_type": "stream",
     "text": [
      "100%|██████████| 595/595 [00:11<00:00, 51.97it/s]\n",
      "  1%|          | 6/595 [00:00<00:11, 53.04it/s]"
     ]
    },
    {
     "name": "stdout",
     "output_type": "stream",
     "text": [
      "====> Epoch: 1 Average Training Loss: 23571.4242\n"
     ]
    },
    {
     "name": "stderr",
     "output_type": "stream",
     "text": [
      "100%|██████████| 595/595 [00:10<00:00, 58.14it/s]\n",
      "  1%|          | 7/595 [00:00<00:09, 62.24it/s]"
     ]
    },
    {
     "name": "stdout",
     "output_type": "stream",
     "text": [
      "====> Epoch: 2 Average Training Loss: 970.9936\n"
     ]
    },
    {
     "name": "stderr",
     "output_type": "stream",
     "text": [
      "100%|██████████| 595/595 [00:10<00:00, 57.94it/s]\n",
      "  1%|          | 6/595 [00:00<00:10, 57.58it/s]"
     ]
    },
    {
     "name": "stdout",
     "output_type": "stream",
     "text": [
      "====> Epoch: 3 Average Training Loss: 706.4343\n"
     ]
    },
    {
     "name": "stderr",
     "output_type": "stream",
     "text": [
      "100%|██████████| 595/595 [00:10<00:00, 55.88it/s]\n",
      "  1%|          | 6/595 [00:00<00:10, 57.83it/s]"
     ]
    },
    {
     "name": "stdout",
     "output_type": "stream",
     "text": [
      "====> Epoch: 4 Average Training Loss: 634.1569\n"
     ]
    },
    {
     "name": "stderr",
     "output_type": "stream",
     "text": [
      "100%|██████████| 595/595 [00:10<00:00, 57.24it/s]\n",
      "  1%|          | 6/595 [00:00<00:10, 53.57it/s]"
     ]
    },
    {
     "name": "stdout",
     "output_type": "stream",
     "text": [
      "====> Epoch: 5 Average Training Loss: 605.4102\n"
     ]
    },
    {
     "name": "stderr",
     "output_type": "stream",
     "text": [
      "100%|██████████| 595/595 [00:10<00:00, 58.85it/s]\n",
      "  1%|          | 7/595 [00:00<00:09, 63.63it/s]"
     ]
    },
    {
     "name": "stdout",
     "output_type": "stream",
     "text": [
      "====> Epoch: 6 Average Training Loss: 591.8640\n"
     ]
    },
    {
     "name": "stderr",
     "output_type": "stream",
     "text": [
      " 23%|██▎       | 135/595 [00:02<00:08, 56.85it/s]\n"
     ]
    },
    {
     "ename": "KeyboardInterrupt",
     "evalue": "",
     "output_type": "error",
     "traceback": [
      "\u001b[0;31m---------------------------------------------------------------------------\u001b[0m",
      "\u001b[0;31mKeyboardInterrupt\u001b[0m                         Traceback (most recent call last)",
      "\u001b[0;32m<ipython-input-8-2cc3cab0b347>\u001b[0m in \u001b[0;36m<module>\u001b[0;34m\u001b[0m\n\u001b[1;32m      6\u001b[0m     \u001b[0mbatch_size\u001b[0m\u001b[0;34m=\u001b[0m\u001b[0;36m40\u001b[0m\u001b[0;34m,\u001b[0m\u001b[0;34m\u001b[0m\u001b[0;34m\u001b[0m\u001b[0m\n\u001b[1;32m      7\u001b[0m     \u001b[0msave_model_interval\u001b[0m\u001b[0;34m=\u001b[0m\u001b[0;36m5\u001b[0m\u001b[0;34m,\u001b[0m\u001b[0;34m\u001b[0m\u001b[0;34m\u001b[0m\u001b[0m\n\u001b[0;32m----> 8\u001b[0;31m     \u001b[0mclip_gradients\u001b[0m\u001b[0;34m=\u001b[0m\u001b[0;32mFalse\u001b[0m\u001b[0;34m\u001b[0m\u001b[0;34m\u001b[0m\u001b[0m\n\u001b[0m\u001b[1;32m      9\u001b[0m )\n",
      "\u001b[0;32m/data1/andrew/meng/mixehr/meng/VAE-EHR/src/vae_with_dataloader.py\u001b[0m in \u001b[0;36mtrain\u001b[0;34m(self, training_generator, validation_generator, epochs, batch_size, kld_beta, save_model_interval, log_interval, clip_gradients, grad_norm_limit)\u001b[0m\n\u001b[1;32m    209\u001b[0m                 \u001b[0mrecon_batch\u001b[0m\u001b[0;34m,\u001b[0m \u001b[0mmu\u001b[0m\u001b[0;34m,\u001b[0m \u001b[0mlogvar\u001b[0m \u001b[0;34m=\u001b[0m \u001b[0mself\u001b[0m\u001b[0;34m.\u001b[0m\u001b[0mmodel\u001b[0m\u001b[0;34m(\u001b[0m\u001b[0mbatch\u001b[0m\u001b[0;34m)\u001b[0m\u001b[0;34m\u001b[0m\u001b[0;34m\u001b[0m\u001b[0m\n\u001b[1;32m    210\u001b[0m                 \u001b[0mloss\u001b[0m\u001b[0;34m,\u001b[0m \u001b[0mbce\u001b[0m\u001b[0;34m,\u001b[0m \u001b[0mkld\u001b[0m \u001b[0;34m=\u001b[0m \u001b[0mself\u001b[0m\u001b[0;34m.\u001b[0m\u001b[0mbce_kld_loss_function\u001b[0m\u001b[0;34m(\u001b[0m\u001b[0mrecon_batch\u001b[0m\u001b[0;34m,\u001b[0m \u001b[0mbatch\u001b[0m\u001b[0;34m,\u001b[0m \u001b[0mmu\u001b[0m\u001b[0;34m,\u001b[0m \u001b[0mlogvar\u001b[0m\u001b[0;34m)\u001b[0m\u001b[0;34m\u001b[0m\u001b[0;34m\u001b[0m\u001b[0m\n\u001b[0;32m--> 211\u001b[0;31m                 \u001b[0mloss\u001b[0m\u001b[0;34m.\u001b[0m\u001b[0mbackward\u001b[0m\u001b[0;34m(\u001b[0m\u001b[0;34m)\u001b[0m\u001b[0;34m\u001b[0m\u001b[0;34m\u001b[0m\u001b[0m\n\u001b[0m\u001b[1;32m    212\u001b[0m \u001b[0;34m\u001b[0m\u001b[0m\n\u001b[1;32m    213\u001b[0m                 \u001b[0;31m# train_loss.append(loss.item() / batch.shape[0])\u001b[0m\u001b[0;34m\u001b[0m\u001b[0;34m\u001b[0m\u001b[0;34m\u001b[0m\u001b[0m\n",
      "\u001b[0;32m/data1/andrew/anaconda2/envs/mengp369/lib/python3.6/site-packages/torch/tensor.py\u001b[0m in \u001b[0;36mbackward\u001b[0;34m(self, gradient, retain_graph, create_graph)\u001b[0m\n\u001b[1;32m    164\u001b[0m                 \u001b[0mproducts\u001b[0m\u001b[0;34m.\u001b[0m \u001b[0mDefaults\u001b[0m \u001b[0mto\u001b[0m\u001b[0;31m \u001b[0m\u001b[0;31m`\u001b[0m\u001b[0;31m`\u001b[0m\u001b[0;32mFalse\u001b[0m\u001b[0;31m`\u001b[0m\u001b[0;31m`\u001b[0m\u001b[0;34m.\u001b[0m\u001b[0;34m\u001b[0m\u001b[0;34m\u001b[0m\u001b[0m\n\u001b[1;32m    165\u001b[0m         \"\"\"\n\u001b[0;32m--> 166\u001b[0;31m         \u001b[0mtorch\u001b[0m\u001b[0;34m.\u001b[0m\u001b[0mautograd\u001b[0m\u001b[0;34m.\u001b[0m\u001b[0mbackward\u001b[0m\u001b[0;34m(\u001b[0m\u001b[0mself\u001b[0m\u001b[0;34m,\u001b[0m \u001b[0mgradient\u001b[0m\u001b[0;34m,\u001b[0m \u001b[0mretain_graph\u001b[0m\u001b[0;34m,\u001b[0m \u001b[0mcreate_graph\u001b[0m\u001b[0;34m)\u001b[0m\u001b[0;34m\u001b[0m\u001b[0;34m\u001b[0m\u001b[0m\n\u001b[0m\u001b[1;32m    167\u001b[0m \u001b[0;34m\u001b[0m\u001b[0m\n\u001b[1;32m    168\u001b[0m     \u001b[0;32mdef\u001b[0m \u001b[0mregister_hook\u001b[0m\u001b[0;34m(\u001b[0m\u001b[0mself\u001b[0m\u001b[0;34m,\u001b[0m \u001b[0mhook\u001b[0m\u001b[0;34m)\u001b[0m\u001b[0;34m:\u001b[0m\u001b[0;34m\u001b[0m\u001b[0;34m\u001b[0m\u001b[0m\n",
      "\u001b[0;32m/data1/andrew/anaconda2/envs/mengp369/lib/python3.6/site-packages/torch/autograd/__init__.py\u001b[0m in \u001b[0;36mbackward\u001b[0;34m(tensors, grad_tensors, retain_graph, create_graph, grad_variables)\u001b[0m\n\u001b[1;32m     97\u001b[0m     Variable._execution_engine.run_backward(\n\u001b[1;32m     98\u001b[0m         \u001b[0mtensors\u001b[0m\u001b[0;34m,\u001b[0m \u001b[0mgrad_tensors\u001b[0m\u001b[0;34m,\u001b[0m \u001b[0mretain_graph\u001b[0m\u001b[0;34m,\u001b[0m \u001b[0mcreate_graph\u001b[0m\u001b[0;34m,\u001b[0m\u001b[0;34m\u001b[0m\u001b[0;34m\u001b[0m\u001b[0m\n\u001b[0;32m---> 99\u001b[0;31m         allow_unreachable=True)  # allow_unreachable flag\n\u001b[0m\u001b[1;32m    100\u001b[0m \u001b[0;34m\u001b[0m\u001b[0m\n\u001b[1;32m    101\u001b[0m \u001b[0;34m\u001b[0m\u001b[0m\n",
      "\u001b[0;31mKeyboardInterrupt\u001b[0m: "
     ]
    }
   ],
   "source": [
    "###Train Model\n",
    "trainer.train(\n",
    "    training_generator=mixehr_training_generator,\n",
    "    validation_generator=None,\n",
    "    epochs=80,\n",
    "    batch_size=40,\n",
    "    save_model_interval=5,\n",
    "    clip_gradients=False\n",
    ")"
   ]
  },
  {
   "cell_type": "code",
   "execution_count": 9,
   "metadata": {},
   "outputs": [
    {
     "data": {
      "image/png": "[encoded data removed]",
      "text/plain": [
       "<Figure size 576x360 with 1 Axes>"
      ]
     },
     "metadata": {
      "needs_background": "light"
     },
     "output_type": "display_data"
    },
    {
     "data": {
      "image/png": "[encoded data removed]",
      "text/plain": [
       "<Figure size 576x360 with 1 Axes>"
      ]
     },
     "metadata": {
      "needs_background": "light"
     },
     "output_type": "display_data"
    },
    {
     "data": {
      "image/png": "[encoded data removed]",
      "text/plain": [
       "<Figure size 576x360 with 1 Axes>"
      ]
     },
     "metadata": {
      "needs_background": "light"
     },
     "output_type": "display_data"
    }
   ],
   "source": [
    "trainer.plot_elbo()\n",
    "trainer.plot_bce()\n",
    "trainer.plot_kld()"
   ]
  },
  {
   "cell_type": "code",
   "execution_count": null,
   "metadata": {},
   "outputs": [],
   "source": [
    "# icd9codes = pd.read_csv(config.icd9codes_path)\n",
    "# icd_analyzer = ICDAnalysisHelper(icd9codes_df = icd9codes, patient_icd_df = patient_icd_df)\n",
    "# #icd_analyzer.lookup_icds(icd9codes, [\"4019\", \"41401\"])\n",
    "\n",
    "# visualizer = Visualizer()"
   ]
  },
  {
   "cell_type": "code",
   "execution_count": 13,
   "metadata": {},
   "outputs": [],
   "source": [
    "##Load pre-trained model\n",
    "epoch = 5\n",
    "model.load_state_dict(torch.load(\"./VAE_exp_{}_epoch_{}.pkl\".format(experiment_name, epoch)))\n",
    "trainer.model = model"
   ]
  },
  {
   "cell_type": "code",
   "execution_count": null,
   "metadata": {},
   "outputs": [],
   "source": [
    "###Encode data\n",
    "encoding_params = {'batch_size': 64, 'shuffle': False}\n",
    "mixehr_encoding_generator = torch.utils.data.DataLoader(mixehr_icd_imputation_dataset, **encoding_params)\n",
    "\n",
    "latent, means, var = trainer.encode_data(data)"
   ]
  },
  {
   "cell_type": "code",
   "execution_count": null,
   "metadata": {},
   "outputs": [],
   "source": [
    "# ###Get UMAP representations\n",
    "# X_umap = visualizer.umap_embedding(latent.cpu().detach().numpy())\n",
    "# X_umap_means = visualizer.umap_embedding(means.cpu().detach().numpy())\n",
    "# X_umap_vars = visualizer.umap_embedding(var.cpu().detach().numpy())\n",
    "\n",
    "# ###Get UMAP representations TRAINING\n",
    "# X_umap_tr = visualizer.umap_embedding(latent_train.cpu().detach().numpy())\n",
    "# X_umap_means_tr = visualizer.umap_embedding(means_train.cpu().detach().numpy())\n",
    "# X_umap_vars_tr = visualizer.umap_embedding(vars_train.cpu().detach().numpy())\n",
    "\n",
    "# ###Get UMAP representations VALIDATION\n",
    "# X_umap_val = visualizer.umap_embedding(latent_val.cpu().detach().numpy())\n",
    "# X_umap_means_val = visualizer.umap_embedding(means_val.cpu().detach().numpy())\n",
    "# X_umap_vars_val = visualizer.umap_embedding(vars_val.cpu().detach().numpy())"
   ]
  },
  {
   "cell_type": "code",
   "execution_count": null,
   "metadata": {
    "scrolled": false
   },
   "outputs": [],
   "source": [
    "# ###Additional Visualizations\n",
    "# baby_keywords = ['congenital', 'infant', 'newborn', 'neonatal', 'born', 'birth']\n",
    "# heart_keywords = ['heart', 'atrial', 'coronary', 'hypertension', 'vascular']\n",
    "\n",
    "\n",
    "# heart_patient_idxs_tr = icd_analyzer.get_patients_idxs_with_disease_keywords(patient_df=train_df, \n",
    "#                                                                              substrings=heart_keywords, \n",
    "#                                                                              case_sensitive=False\n",
    "#                                                                             )\n",
    "# baby_patient_idxs_tr = icd_analyzer.get_patients_idxs_with_disease_keywords(patient_df=train_df,\n",
    "#                                                                             substrings=baby_keywords,\n",
    "#                                                                             case_sensitive=False\n",
    "#                                                                            )\n",
    "\n",
    "# baby_heart_colors_tr = np.array([0 for i in range(X_umap_tr.shape[0])])\n",
    "# baby_heart_colors_tr[heart_patient_idxs_tr] = 100\n",
    "# baby_heart_colors_tr[baby_patient_idxs_tr] = 50\n",
    "\n",
    "# visualizer.plot2d(\n",
    "#     X=X_umap_tr, \n",
    "#     filename=\"Patient_Clusters_exp_{}_epoch_{}{}\".format(experiment_name, epoch, \"_baby_heart_umap_train\"), \n",
    "#     colors=baby_heart_colors_tr)\n",
    "\n",
    "\n",
    "# heart_patient_idxs_val = icd_analyzer.get_patients_idxs_with_disease_keywords(patient_df=val_df, \n",
    "#                                                                               substrings=heart_keywords,\n",
    "#                                                                               case_sensitive=False)\n",
    "# baby_patient_idxs_val = icd_analyzer.get_patients_idxs_with_disease_keywords(patient_df=val_df,\n",
    "#                                                                              substrings=baby_keywords,\n",
    "#                                                                              case_sensitive=False)\n",
    "\n",
    "# baby_heart_colors_val = np.array([0 for i in range(X_umap_val.shape[0])])\n",
    "# baby_heart_colors_val[heart_patient_idxs_val] = 100\n",
    "# baby_heart_colors_val[baby_patient_idxs_val] = 50\n",
    "# visualizer.plot2d(\n",
    "#     X=X_umap_val, \n",
    "#     filename=\"Patient_Clusters_exp_{}_epoch_{}{}\".format(experiment_name, epoch, \"_baby_heart_umap_val\"), \n",
    "#     colors=baby_heart_colors_val)"
   ]
  },
  {
   "cell_type": "code",
   "execution_count": null,
   "metadata": {},
   "outputs": [],
   "source": [
    "# X_umap_3d_tr = visualizer.umap_embedding(latent_train.cpu().detach().numpy(), n_components=3)\n",
    "\n",
    "# visualizer.plot3d(\n",
    "#     X=X_umap_3d_tr, \n",
    "#     filename=\"Patient_Clusters_exp_{}_epoch_{}{}\".format(experiment_name, epoch, \"_heart_umap_3D_train\"), \n",
    "#     colors=baby_heart_colors_tr,\n",
    "# )"
   ]
  },
  {
   "cell_type": "code",
   "execution_count": null,
   "metadata": {},
   "outputs": [],
   "source": [
    "# ###Plot UMAP representations\n",
    "# heart_patient_idxs = icd_analyzer.get_patients_idxs_with_disease_keywords(substrings=heart_keywords, case_sensitive=False)\n",
    "# heart_colors = np.array([0 for i in range(X_umap.shape[0])])\n",
    "# heart_colors[heart_patient_idxs] = 100\n",
    "\n",
    "# visualizer.plot2d(\n",
    "#     X=X_umap_tr, \n",
    "#     filename=\"Patient_Clusters_exp_{}_epoch_{}{}\".format(experiment_name, epoch, \"_heart_umap_train\"), \n",
    "#     colors=heart_colors,\n",
    "# )\n",
    "# visualizer.plot2d(\n",
    "#     X=X_umap_means_tr, \n",
    "#     filename=\"Patient_Clusters_exp_{}_epoch_{}{}\".format(experiment_name, epoch, \"_heart_umap_means_train\"), \n",
    "#     colors=heart_colors,\n",
    "# )\n",
    "# visualizer.plot2d(\n",
    "#     X=X_umap_vars_tr, \n",
    "#     filename=\"Patient_Clusters_exp_{}_epoch_{}{}\".format(experiment_name, epoch, \"_heart_umap_vars_train\"), \n",
    "#     colors=heart_colors,\n",
    "# )"
   ]
  },
  {
   "cell_type": "code",
   "execution_count": null,
   "metadata": {},
   "outputs": [],
   "source": []
  }
 ],
 "metadata": {
  "kernelspec": {
   "display_name": "mengp369",
   "language": "python",
   "name": "mengp369"
  },
  "language_info": {
   "codemirror_mode": {
    "name": "ipython",
    "version": 3
   },
   "file_extension": ".py",
   "mimetype": "text/x-python",
   "name": "python",
   "nbconvert_exporter": "python",
   "pygments_lexer": "ipython3",
   "version": "3.6.9"
  }
 },
 "nbformat": 4,
 "nbformat_minor": 2
}
