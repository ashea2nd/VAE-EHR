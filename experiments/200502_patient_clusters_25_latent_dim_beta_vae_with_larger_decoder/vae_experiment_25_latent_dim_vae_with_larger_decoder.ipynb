{
 "cells": [
  {
   "cell_type": "code",
   "execution_count": 1,
   "metadata": {},
   "outputs": [],
   "source": [
    "import sys\n",
    "sys.path.append(\"./../../src\")\n",
    "import pandas as pd\n",
    "import numpy as np\n",
    "\n",
    "import torch\n",
    "from torch import nn, optim"
   ]
  },
  {
   "cell_type": "code",
   "execution_count": 2,
   "metadata": {},
   "outputs": [],
   "source": [
    "from vae_with_dataloader import VAE, VAETrainerWithDataLoader\n",
    "from icd_analysis_helper import ICDAnalysisHelper\n",
    "from dataloader import PatientICDSparseVanillaDataset\n",
    "from visualizer_helper import Visualizer\n",
    "import pickle\n",
    "\n",
    "from config_reader import Config\n",
    "import os\n",
    "import math\n",
    "from sklearn.model_selection import train_test_split"
   ]
  },
  {
   "cell_type": "code",
   "execution_count": 3,
   "metadata": {},
   "outputs": [
    {
     "data": {
      "text/plain": [
       "{'patient_icd_path': '/Users/andrew/Documents/meng/spring/PATIENT_ICD_BINARY_SPARSE_CSR.p',\n",
       " 'icd9codes_path': '/data1/andrew/meng/mixehr/data/Mimic/mimic-iii-clinical-database-1.4/D_ICD_DIAGNOSES.csv.gz',\n",
       " 'subject_ids_path': '.',\n",
       " 'experiment_name': '200213_patient_clusters_25_latent_dim_vae_with_larger_decoder',\n",
       " 'encoder_dim': [(250, 500), (500, 250), (250, 100)],\n",
       " 'latent_dim': 25,\n",
       " 'decoder_dim': [(250, 500), (500, 250), (250, 100)],\n",
       " 'use_relu_encoder': True,\n",
       " 'use_relu_decoder': True,\n",
       " 'kld_beta': 1.0}"
      ]
     },
     "execution_count": 3,
     "metadata": {},
     "output_type": "execute_result"
    }
   ],
   "source": [
    "###Load Configuration file\n",
    "config = Config('./config.ini')\n",
    "experiment_name=config.experiment_name\n",
    "config.__dict__"
   ]
  },
  {
   "cell_type": "code",
   "execution_count": 4,
   "metadata": {
    "scrolled": true
   },
   "outputs": [
    {
     "name": "stdout",
     "output_type": "stream",
     "text": [
      "Loaded CSR Dataset w/ dim (46520, 6984)\n"
     ]
    }
   ],
   "source": [
    "###Load Data\n",
    "patient_icd_dataset = PatientICDSparseVanillaDataset(csr_data_path = \"./../../data/PATIENT_ICD_BINARY_SPARSE_CSR.p\")"
   ]
  },
  {
   "cell_type": "code",
   "execution_count": 5,
   "metadata": {},
   "outputs": [],
   "source": [
    "# icd9codes = pd.read_csv(config.icd9codes_path)\n",
    "# icd_analyzer = ICDAnalysisHelper(icd9codes_df = icd9codes, patient_icd_df = patient_icd_df)\n",
    "#icd_analyzer.lookup_icds(icd9codes, [\"4019\", \"41401\"])\n",
    "visualizer = Visualizer()"
   ]
  },
  {
   "cell_type": "code",
   "execution_count": 6,
   "metadata": {},
   "outputs": [],
   "source": [
    "###Load Model\n",
    "model = VAE(\n",
    "    feature_dim = patient_icd_dataset.get_feat_dim(), \n",
    "    encoder_dim = config.encoder_dim,\n",
    "    latent_dim = config.latent_dim,\n",
    "    decoder_dim = config.decoder_dim,\n",
    "    use_relu_encoder= config.use_relu_encoder,\n",
    "    use_relu_decoder= config.use_relu_decoder\n",
    ")\n",
    "\n",
    "model = model.double()\n",
    "\n",
    "optimizer = optim.Adam(model.parameters(), lr=0.001)\n",
    "\n",
    "###Load Trainer\n",
    "trainer = VAETrainerWithDataLoader(\n",
    "    model=model, \n",
    "    optimizer=optimizer,\n",
    "    experiment_name=experiment_name,\n",
    "    kld_beta=config.kld_beta\n",
    ")"
   ]
  },
  {
   "cell_type": "code",
   "execution_count": 7,
   "metadata": {},
   "outputs": [],
   "source": [
    "training_params = {'batch_size':64, 'shuffle': True}\n",
    "training_generator = torch.utils.data.DataLoader(patient_icd_dataset, **training_params)"
   ]
  },
  {
   "cell_type": "code",
   "execution_count": 8,
   "metadata": {
    "scrolled": false
   },
   "outputs": [
    {
     "name": "stderr",
     "output_type": "stream",
     "text": [
      "\r",
      "  0%|          | 0/727 [00:00<?, ?it/s]"
     ]
    },
    {
     "name": "stdout",
     "output_type": "stream",
     "text": [
      "Training with KLD Beta weight of 1.0\n"
     ]
    },
    {
     "name": "stderr",
     "output_type": "stream",
     "text": [
      "100%|██████████| 727/727 [00:20<00:00, 35.27it/s]\n",
      "  1%|          | 5/727 [00:00<00:16, 43.64it/s]"
     ]
    },
    {
     "name": "stdout",
     "output_type": "stream",
     "text": [
      "====> Epoch: 1 Average Training Loss: 19525.6187\n"
     ]
    },
    {
     "name": "stderr",
     "output_type": "stream",
     "text": [
      "100%|██████████| 727/727 [00:15<00:00, 46.03it/s]\n",
      "  1%|          | 4/727 [00:00<00:20, 35.96it/s]"
     ]
    },
    {
     "name": "stdout",
     "output_type": "stream",
     "text": [
      "====> Epoch: 2 Average Training Loss: 3987.3399\n"
     ]
    },
    {
     "name": "stderr",
     "output_type": "stream",
     "text": [
      "100%|██████████| 727/727 [00:16<00:00, 45.32it/s]\n",
      "  1%|          | 5/727 [00:00<00:15, 47.13it/s]"
     ]
    },
    {
     "name": "stdout",
     "output_type": "stream",
     "text": [
      "====> Epoch: 3 Average Training Loss: 3698.3506\n"
     ]
    },
    {
     "name": "stderr",
     "output_type": "stream",
     "text": [
      "100%|██████████| 727/727 [00:14<00:00, 48.91it/s]\n",
      "  1%|          | 4/727 [00:00<00:20, 34.87it/s]"
     ]
    },
    {
     "name": "stdout",
     "output_type": "stream",
     "text": [
      "====> Epoch: 4 Average Training Loss: 3493.1942\n"
     ]
    },
    {
     "name": "stderr",
     "output_type": "stream",
     "text": [
      "100%|██████████| 727/727 [00:15<00:00, 47.62it/s]\n",
      "  1%|          | 4/727 [00:00<00:23, 31.43it/s]"
     ]
    },
    {
     "name": "stdout",
     "output_type": "stream",
     "text": [
      "====> Epoch: 5 Average Training Loss: 3348.3294\n"
     ]
    },
    {
     "name": "stderr",
     "output_type": "stream",
     "text": [
      "100%|██████████| 727/727 [00:15<00:00, 46.26it/s]\n",
      "  1%|          | 4/727 [00:00<00:22, 31.48it/s]"
     ]
    },
    {
     "name": "stdout",
     "output_type": "stream",
     "text": [
      "====> Epoch: 6 Average Training Loss: 3210.7559\n"
     ]
    },
    {
     "name": "stderr",
     "output_type": "stream",
     "text": [
      "100%|██████████| 727/727 [00:15<00:00, 46.59it/s]\n",
      "  1%|          | 5/727 [00:00<00:14, 48.55it/s]"
     ]
    },
    {
     "name": "stdout",
     "output_type": "stream",
     "text": [
      "====> Epoch: 7 Average Training Loss: 3105.7800\n"
     ]
    },
    {
     "name": "stderr",
     "output_type": "stream",
     "text": [
      "100%|██████████| 727/727 [00:15<00:00, 47.13it/s]\n",
      "  0%|          | 3/727 [00:00<00:25, 28.81it/s]"
     ]
    },
    {
     "name": "stdout",
     "output_type": "stream",
     "text": [
      "====> Epoch: 8 Average Training Loss: 3010.1904\n"
     ]
    },
    {
     "name": "stderr",
     "output_type": "stream",
     "text": [
      "100%|██████████| 727/727 [00:15<00:00, 46.86it/s]\n",
      "  1%|          | 4/727 [00:00<00:20, 35.00it/s]"
     ]
    },
    {
     "name": "stdout",
     "output_type": "stream",
     "text": [
      "====> Epoch: 9 Average Training Loss: 2936.0392\n"
     ]
    },
    {
     "name": "stderr",
     "output_type": "stream",
     "text": [
      "100%|██████████| 727/727 [00:15<00:00, 46.86it/s]\n",
      "  1%|          | 4/727 [00:00<00:20, 36.09it/s]"
     ]
    },
    {
     "name": "stdout",
     "output_type": "stream",
     "text": [
      "====> Epoch: 10 Average Training Loss: 2875.9888\n"
     ]
    },
    {
     "name": "stderr",
     "output_type": "stream",
     "text": [
      "100%|██████████| 727/727 [00:15<00:00, 47.59it/s]\n",
      "  1%|          | 5/727 [00:00<00:14, 48.47it/s]"
     ]
    },
    {
     "name": "stdout",
     "output_type": "stream",
     "text": [
      "====> Epoch: 11 Average Training Loss: 2835.4270\n"
     ]
    },
    {
     "name": "stderr",
     "output_type": "stream",
     "text": [
      "100%|██████████| 727/727 [00:14<00:00, 49.07it/s]\n",
      "  1%|          | 5/727 [00:00<00:15, 45.60it/s]"
     ]
    },
    {
     "name": "stdout",
     "output_type": "stream",
     "text": [
      "====> Epoch: 12 Average Training Loss: 2797.9329\n"
     ]
    },
    {
     "name": "stderr",
     "output_type": "stream",
     "text": [
      "100%|██████████| 727/727 [00:15<00:00, 48.41it/s]\n",
      "  1%|          | 5/727 [00:00<00:14, 48.58it/s]"
     ]
    },
    {
     "name": "stdout",
     "output_type": "stream",
     "text": [
      "====> Epoch: 13 Average Training Loss: 2765.5960\n"
     ]
    },
    {
     "name": "stderr",
     "output_type": "stream",
     "text": [
      "100%|██████████| 727/727 [00:16<00:00, 45.43it/s]\n",
      "  1%|          | 5/727 [00:00<00:14, 48.45it/s]"
     ]
    },
    {
     "name": "stdout",
     "output_type": "stream",
     "text": [
      "====> Epoch: 14 Average Training Loss: 2736.1937\n"
     ]
    },
    {
     "name": "stderr",
     "output_type": "stream",
     "text": [
      "100%|██████████| 727/727 [00:16<00:00, 45.10it/s]\n",
      "  0%|          | 3/727 [00:00<00:30, 23.48it/s]"
     ]
    },
    {
     "name": "stdout",
     "output_type": "stream",
     "text": [
      "====> Epoch: 15 Average Training Loss: 2712.4270\n"
     ]
    },
    {
     "name": "stderr",
     "output_type": "stream",
     "text": [
      "100%|██████████| 727/727 [00:16<00:00, 44.80it/s]\n",
      "  1%|          | 5/727 [00:00<00:16, 44.91it/s]"
     ]
    },
    {
     "name": "stdout",
     "output_type": "stream",
     "text": [
      "====> Epoch: 16 Average Training Loss: 2687.7031\n"
     ]
    },
    {
     "name": "stderr",
     "output_type": "stream",
     "text": [
      "100%|██████████| 727/727 [00:15<00:00, 46.62it/s]\n",
      "  1%|          | 4/727 [00:00<00:19, 36.92it/s]"
     ]
    },
    {
     "name": "stdout",
     "output_type": "stream",
     "text": [
      "====> Epoch: 17 Average Training Loss: 2669.6499\n"
     ]
    },
    {
     "name": "stderr",
     "output_type": "stream",
     "text": [
      "100%|██████████| 727/727 [00:15<00:00, 46.82it/s]\n",
      "  1%|          | 5/727 [00:00<00:16, 44.64it/s]"
     ]
    },
    {
     "name": "stdout",
     "output_type": "stream",
     "text": [
      "====> Epoch: 18 Average Training Loss: 2651.3519\n"
     ]
    },
    {
     "name": "stderr",
     "output_type": "stream",
     "text": [
      "100%|██████████| 727/727 [00:15<00:00, 46.76it/s]\n",
      "  1%|          | 4/727 [00:00<00:20, 36.15it/s]"
     ]
    },
    {
     "name": "stdout",
     "output_type": "stream",
     "text": [
      "====> Epoch: 19 Average Training Loss: 2630.1921\n"
     ]
    },
    {
     "name": "stderr",
     "output_type": "stream",
     "text": [
      "100%|██████████| 727/727 [00:15<00:00, 45.90it/s]\n",
      "  1%|          | 4/727 [00:00<00:18, 39.84it/s]"
     ]
    },
    {
     "name": "stdout",
     "output_type": "stream",
     "text": [
      "====> Epoch: 20 Average Training Loss: 2616.9358\n"
     ]
    },
    {
     "name": "stderr",
     "output_type": "stream",
     "text": [
      "100%|██████████| 727/727 [00:15<00:00, 46.53it/s]\n",
      "  1%|          | 5/727 [00:00<00:17, 41.64it/s]"
     ]
    },
    {
     "name": "stdout",
     "output_type": "stream",
     "text": [
      "====> Epoch: 21 Average Training Loss: 2598.6067\n"
     ]
    },
    {
     "name": "stderr",
     "output_type": "stream",
     "text": [
      "100%|██████████| 727/727 [00:16<00:00, 44.46it/s]\n",
      "  1%|          | 4/727 [00:00<00:19, 37.15it/s]"
     ]
    },
    {
     "name": "stdout",
     "output_type": "stream",
     "text": [
      "====> Epoch: 22 Average Training Loss: 2584.2433\n"
     ]
    },
    {
     "name": "stderr",
     "output_type": "stream",
     "text": [
      "100%|██████████| 727/727 [00:15<00:00, 47.33it/s]\n",
      "  1%|          | 4/727 [00:00<00:21, 33.15it/s]"
     ]
    },
    {
     "name": "stdout",
     "output_type": "stream",
     "text": [
      "====> Epoch: 23 Average Training Loss: 2566.1506\n"
     ]
    },
    {
     "name": "stderr",
     "output_type": "stream",
     "text": [
      "100%|██████████| 727/727 [00:15<00:00, 47.62it/s]\n",
      "  1%|          | 5/727 [00:00<00:16, 43.60it/s]"
     ]
    },
    {
     "name": "stdout",
     "output_type": "stream",
     "text": [
      "====> Epoch: 24 Average Training Loss: 2551.6330\n"
     ]
    },
    {
     "name": "stderr",
     "output_type": "stream",
     "text": [
      "100%|██████████| 727/727 [00:15<00:00, 45.54it/s]\n",
      "  1%|          | 4/727 [00:00<00:21, 33.38it/s]"
     ]
    },
    {
     "name": "stdout",
     "output_type": "stream",
     "text": [
      "====> Epoch: 25 Average Training Loss: 2538.5254\n"
     ]
    },
    {
     "name": "stderr",
     "output_type": "stream",
     "text": [
      "100%|██████████| 727/727 [00:15<00:00, 45.83it/s]\n",
      "  1%|          | 5/727 [00:00<00:14, 48.13it/s]"
     ]
    },
    {
     "name": "stdout",
     "output_type": "stream",
     "text": [
      "====> Epoch: 26 Average Training Loss: 2526.9694\n"
     ]
    },
    {
     "name": "stderr",
     "output_type": "stream",
     "text": [
      "100%|██████████| 727/727 [00:15<00:00, 46.66it/s]\n",
      "  1%|          | 5/727 [00:00<00:15, 46.62it/s]"
     ]
    },
    {
     "name": "stdout",
     "output_type": "stream",
     "text": [
      "====> Epoch: 27 Average Training Loss: 2516.4903\n"
     ]
    },
    {
     "name": "stderr",
     "output_type": "stream",
     "text": [
      "100%|██████████| 727/727 [00:15<00:00, 46.17it/s]\n",
      "  1%|          | 4/727 [00:00<00:20, 35.72it/s]"
     ]
    },
    {
     "name": "stdout",
     "output_type": "stream",
     "text": [
      "====> Epoch: 28 Average Training Loss: 2508.3200\n"
     ]
    },
    {
     "name": "stderr",
     "output_type": "stream",
     "text": [
      " 28%|██▊       | 204/727 [00:04<00:12, 42.42it/s]"
     ]
    },
    {
     "ename": "KeyboardInterrupt",
     "evalue": "",
     "output_type": "error",
     "traceback": [
      "\u001b[0;31m---------------------------------------------------------------------------\u001b[0m",
      "\u001b[0;31mKeyboardInterrupt\u001b[0m                         Traceback (most recent call last)",
      "\u001b[0;32m<ipython-input-8-8f7b45bdc7ad>\u001b[0m in \u001b[0;36m<module>\u001b[0;34m\u001b[0m\n\u001b[1;32m      5\u001b[0m     \u001b[0mbatch_size\u001b[0m\u001b[0;34m=\u001b[0m\u001b[0;36m40\u001b[0m\u001b[0;34m,\u001b[0m\u001b[0;34m\u001b[0m\u001b[0;34m\u001b[0m\u001b[0m\n\u001b[1;32m      6\u001b[0m     \u001b[0msave_model_interval\u001b[0m\u001b[0;34m=\u001b[0m\u001b[0;36m5\u001b[0m\u001b[0;34m,\u001b[0m\u001b[0;34m\u001b[0m\u001b[0;34m\u001b[0m\u001b[0m\n\u001b[0;32m----> 7\u001b[0;31m     \u001b[0mclip_gradients\u001b[0m\u001b[0;34m=\u001b[0m\u001b[0;32mFalse\u001b[0m\u001b[0;34m\u001b[0m\u001b[0;34m\u001b[0m\u001b[0m\n\u001b[0m\u001b[1;32m      8\u001b[0m )\n",
      "\u001b[0;32m/data1/andrew/meng/mixehr/meng/VAE-EHR/src/vae_with_dataloader.py\u001b[0m in \u001b[0;36mtrain\u001b[0;34m(self, training_generator, validation_generator, epochs, batch_size, kld_beta, save_model_interval, log_interval, clip_gradients, grad_norm_limit)\u001b[0m\n\u001b[1;32m    203\u001b[0m             \u001b[0;31m# for i in tqdm(range(0, training_data_length, batch_size)):\u001b[0m\u001b[0;34m\u001b[0m\u001b[0;34m\u001b[0m\u001b[0;34m\u001b[0m\u001b[0m\n\u001b[1;32m    204\u001b[0m                 \u001b[0;31m# batch = training_data[i:i + batch_size]\u001b[0m\u001b[0;34m\u001b[0m\u001b[0;34m\u001b[0m\u001b[0;34m\u001b[0m\u001b[0m\n\u001b[0;32m--> 205\u001b[0;31m             \u001b[0;32mfor\u001b[0m \u001b[0mbatch\u001b[0m \u001b[0;32min\u001b[0m \u001b[0mtqdm\u001b[0m\u001b[0;34m(\u001b[0m\u001b[0mtraining_generator\u001b[0m\u001b[0;34m)\u001b[0m\u001b[0;34m:\u001b[0m\u001b[0;34m\u001b[0m\u001b[0;34m\u001b[0m\u001b[0m\n\u001b[0m\u001b[1;32m    206\u001b[0m                 \u001b[0mbatch\u001b[0m \u001b[0;34m=\u001b[0m \u001b[0mbatch\u001b[0m\u001b[0;34m.\u001b[0m\u001b[0mto\u001b[0m\u001b[0;34m(\u001b[0m\u001b[0mself\u001b[0m\u001b[0;34m.\u001b[0m\u001b[0mdevice\u001b[0m\u001b[0;34m)\u001b[0m\u001b[0;34m\u001b[0m\u001b[0;34m\u001b[0m\u001b[0m\n\u001b[1;32m    207\u001b[0m \u001b[0;34m\u001b[0m\u001b[0m\n",
      "\u001b[0;32m/data1/andrew/anaconda2/envs/mengp369/lib/python3.6/site-packages/tqdm/std.py\u001b[0m in \u001b[0;36m__iter__\u001b[0;34m(self)\u001b[0m\n\u001b[1;32m   1102\u001b[0m                 fp_write=getattr(self.fp, 'write', sys.stderr.write))\n\u001b[1;32m   1103\u001b[0m \u001b[0;34m\u001b[0m\u001b[0m\n\u001b[0;32m-> 1104\u001b[0;31m         \u001b[0;32mfor\u001b[0m \u001b[0mobj\u001b[0m \u001b[0;32min\u001b[0m \u001b[0miterable\u001b[0m\u001b[0;34m:\u001b[0m\u001b[0;34m\u001b[0m\u001b[0;34m\u001b[0m\u001b[0m\n\u001b[0m\u001b[1;32m   1105\u001b[0m             \u001b[0;32myield\u001b[0m \u001b[0mobj\u001b[0m\u001b[0;34m\u001b[0m\u001b[0;34m\u001b[0m\u001b[0m\n\u001b[1;32m   1106\u001b[0m             \u001b[0;31m# Update and possibly print the progressbar.\u001b[0m\u001b[0;34m\u001b[0m\u001b[0;34m\u001b[0m\u001b[0;34m\u001b[0m\u001b[0m\n",
      "\u001b[0;32m/data1/andrew/anaconda2/envs/mengp369/lib/python3.6/site-packages/torch/utils/data/dataloader.py\u001b[0m in \u001b[0;36m__next__\u001b[0;34m(self)\u001b[0m\n\u001b[1;32m    344\u001b[0m     \u001b[0;32mdef\u001b[0m \u001b[0m__next__\u001b[0m\u001b[0;34m(\u001b[0m\u001b[0mself\u001b[0m\u001b[0;34m)\u001b[0m\u001b[0;34m:\u001b[0m\u001b[0;34m\u001b[0m\u001b[0;34m\u001b[0m\u001b[0m\n\u001b[1;32m    345\u001b[0m         \u001b[0mindex\u001b[0m \u001b[0;34m=\u001b[0m \u001b[0mself\u001b[0m\u001b[0;34m.\u001b[0m\u001b[0m_next_index\u001b[0m\u001b[0;34m(\u001b[0m\u001b[0;34m)\u001b[0m  \u001b[0;31m# may raise StopIteration\u001b[0m\u001b[0;34m\u001b[0m\u001b[0;34m\u001b[0m\u001b[0m\n\u001b[0;32m--> 346\u001b[0;31m         \u001b[0mdata\u001b[0m \u001b[0;34m=\u001b[0m \u001b[0mself\u001b[0m\u001b[0;34m.\u001b[0m\u001b[0m_dataset_fetcher\u001b[0m\u001b[0;34m.\u001b[0m\u001b[0mfetch\u001b[0m\u001b[0;34m(\u001b[0m\u001b[0mindex\u001b[0m\u001b[0;34m)\u001b[0m  \u001b[0;31m# may raise StopIteration\u001b[0m\u001b[0;34m\u001b[0m\u001b[0;34m\u001b[0m\u001b[0m\n\u001b[0m\u001b[1;32m    347\u001b[0m         \u001b[0;32mif\u001b[0m \u001b[0mself\u001b[0m\u001b[0;34m.\u001b[0m\u001b[0m_pin_memory\u001b[0m\u001b[0;34m:\u001b[0m\u001b[0;34m\u001b[0m\u001b[0;34m\u001b[0m\u001b[0m\n\u001b[1;32m    348\u001b[0m             \u001b[0mdata\u001b[0m \u001b[0;34m=\u001b[0m \u001b[0m_utils\u001b[0m\u001b[0;34m.\u001b[0m\u001b[0mpin_memory\u001b[0m\u001b[0;34m.\u001b[0m\u001b[0mpin_memory\u001b[0m\u001b[0;34m(\u001b[0m\u001b[0mdata\u001b[0m\u001b[0;34m)\u001b[0m\u001b[0;34m\u001b[0m\u001b[0;34m\u001b[0m\u001b[0m\n",
      "\u001b[0;32m/data1/andrew/anaconda2/envs/mengp369/lib/python3.6/site-packages/torch/utils/data/_utils/fetch.py\u001b[0m in \u001b[0;36mfetch\u001b[0;34m(self, possibly_batched_index)\u001b[0m\n\u001b[1;32m     45\u001b[0m         \u001b[0;32melse\u001b[0m\u001b[0;34m:\u001b[0m\u001b[0;34m\u001b[0m\u001b[0;34m\u001b[0m\u001b[0m\n\u001b[1;32m     46\u001b[0m             \u001b[0mdata\u001b[0m \u001b[0;34m=\u001b[0m \u001b[0mself\u001b[0m\u001b[0;34m.\u001b[0m\u001b[0mdataset\u001b[0m\u001b[0;34m[\u001b[0m\u001b[0mpossibly_batched_index\u001b[0m\u001b[0;34m]\u001b[0m\u001b[0;34m\u001b[0m\u001b[0;34m\u001b[0m\u001b[0m\n\u001b[0;32m---> 47\u001b[0;31m         \u001b[0;32mreturn\u001b[0m \u001b[0mself\u001b[0m\u001b[0;34m.\u001b[0m\u001b[0mcollate_fn\u001b[0m\u001b[0;34m(\u001b[0m\u001b[0mdata\u001b[0m\u001b[0;34m)\u001b[0m\u001b[0;34m\u001b[0m\u001b[0;34m\u001b[0m\u001b[0m\n\u001b[0m",
      "\u001b[0;32m/data1/andrew/anaconda2/envs/mengp369/lib/python3.6/site-packages/torch/utils/data/_utils/collate.py\u001b[0m in \u001b[0;36mdefault_collate\u001b[0;34m(batch)\u001b[0m\n\u001b[1;32m     54\u001b[0m             \u001b[0mout\u001b[0m \u001b[0;34m=\u001b[0m \u001b[0melem\u001b[0m\u001b[0;34m.\u001b[0m\u001b[0mnew\u001b[0m\u001b[0;34m(\u001b[0m\u001b[0mstorage\u001b[0m\u001b[0;34m)\u001b[0m\u001b[0;34m\u001b[0m\u001b[0;34m\u001b[0m\u001b[0m\n\u001b[1;32m     55\u001b[0m         \u001b[0;32mreturn\u001b[0m \u001b[0mtorch\u001b[0m\u001b[0;34m.\u001b[0m\u001b[0mstack\u001b[0m\u001b[0;34m(\u001b[0m\u001b[0mbatch\u001b[0m\u001b[0;34m,\u001b[0m \u001b[0;36m0\u001b[0m\u001b[0;34m,\u001b[0m \u001b[0mout\u001b[0m\u001b[0;34m=\u001b[0m\u001b[0mout\u001b[0m\u001b[0;34m)\u001b[0m\u001b[0;34m\u001b[0m\u001b[0;34m\u001b[0m\u001b[0m\n\u001b[0;32m---> 56\u001b[0;31m     \u001b[0;32melif\u001b[0m \u001b[0melem_type\u001b[0m\u001b[0;34m.\u001b[0m\u001b[0m__module__\u001b[0m \u001b[0;34m==\u001b[0m \u001b[0;34m'numpy'\u001b[0m \u001b[0;32mand\u001b[0m \u001b[0melem_type\u001b[0m\u001b[0;34m.\u001b[0m\u001b[0m__name__\u001b[0m \u001b[0;34m!=\u001b[0m \u001b[0;34m'str_'\u001b[0m\u001b[0;31m \u001b[0m\u001b[0;31m\\\u001b[0m\u001b[0;34m\u001b[0m\u001b[0;34m\u001b[0m\u001b[0m\n\u001b[0m\u001b[1;32m     57\u001b[0m             \u001b[0;32mand\u001b[0m \u001b[0melem_type\u001b[0m\u001b[0;34m.\u001b[0m\u001b[0m__name__\u001b[0m \u001b[0;34m!=\u001b[0m \u001b[0;34m'string_'\u001b[0m\u001b[0;34m:\u001b[0m\u001b[0;34m\u001b[0m\u001b[0;34m\u001b[0m\u001b[0m\n\u001b[1;32m     58\u001b[0m         \u001b[0melem\u001b[0m \u001b[0;34m=\u001b[0m \u001b[0mbatch\u001b[0m\u001b[0;34m[\u001b[0m\u001b[0;36m0\u001b[0m\u001b[0;34m]\u001b[0m\u001b[0;34m\u001b[0m\u001b[0;34m\u001b[0m\u001b[0m\n",
      "\u001b[0;31mKeyboardInterrupt\u001b[0m: "
     ]
    }
   ],
   "source": [
    "###Train Model\n",
    "trainer.train(\n",
    "    training_generator=training_generator,\n",
    "    epochs=80,\n",
    "    batch_size=40,\n",
    "    save_model_interval=5,\n",
    "    clip_gradients=False\n",
    ")"
   ]
  },
  {
   "cell_type": "code",
   "execution_count": 9,
   "metadata": {},
   "outputs": [
    {
     "data": {
      "image/png": "[encoded data removed]",
      "text/plain": [
       "<Figure size 576x360 with 1 Axes>"
      ]
     },
     "metadata": {
      "needs_background": "light"
     },
     "output_type": "display_data"
    },
    {
     "data": {
      "image/png": "[encoded data removed]",
      "text/plain": [
       "<Figure size 576x360 with 1 Axes>"
      ]
     },
     "metadata": {
      "needs_background": "light"
     },
     "output_type": "display_data"
    },
    {
     "data": {
      "image/png": "[encoded data removed]",
      "text/plain": [
       "<Figure size 576x360 with 1 Axes>"
      ]
     },
     "metadata": {
      "needs_background": "light"
     },
     "output_type": "display_data"
    }
   ],
   "source": [
    "trainer.plot_elbo()\n",
    "trainer.plot_bce()\n",
    "trainer.plot_kld()"
   ]
  },
  {
   "cell_type": "code",
   "execution_count": 10,
   "metadata": {},
   "outputs": [],
   "source": [
    "###Load pre-trained model\n",
    "epoch = 25\n",
    "model.load_state_dict(torch.load(\"./VAE_exp_{}_epoch_{}.pkl\".format(experiment_name, epoch)))\n",
    "trainer.model = model"
   ]
  },
  {
   "cell_type": "code",
   "execution_count": 11,
   "metadata": {},
   "outputs": [
    {
     "name": "stderr",
     "output_type": "stream",
     "text": [
      "\r",
      " 28%|██▊       | 204/727 [00:20<00:12, 42.42it/s]"
     ]
    }
   ],
   "source": [
    "###Encode data\n",
    "encoding_params = {'batch_size':64, 'shuffle': False}\n",
    "encoding_generator = torch.utils.data.DataLoader(patient_icd_dataset, **encoding_params)\n",
    "\n",
    "latent, means, var = trainer.encode_data(encoding_generator)\n",
    "pickle.dump(latent, open(\"latent_epochs_{}.p\".format(epoch), 'wb'))\n",
    "pickle.dump(means, open(\"means_epochs_{}.p\".format(epoch), 'wb'))\n",
    "pickle.dump(var, open(\"vars_epochs_{}.p\".format(epoch), 'wb'))"
   ]
  },
  {
   "cell_type": "code",
   "execution_count": 12,
   "metadata": {},
   "outputs": [
    {
     "name": "stderr",
     "output_type": "stream",
     "text": [
      "./../../src/visualizer_helper.py:21: UserWarning: Parameter should_downcast is deprecated, use convert_dtype in fit, fit_transform and transform  methods instead. \n",
      "  return UMAP(n_components=n_components).fit_transform(X)\n",
      "./../../src/visualizer_helper.py:21: UserWarning: Parameter should_downcast is deprecated, use convert_dtype in fit, fit_transform and transform  methods instead. \n",
      "  return UMAP(n_components=n_components).fit_transform(X)\n"
     ]
    }
   ],
   "source": [
    "###Get UMAP representations\n",
    "X_umap = visualizer.umap_embedding(latent.cpu().detach().numpy(), n_components=3)\n",
    "mean_umap = visualizer.umap_embedding(means.cpu().detach().numpy(), n_components=3)\n",
    "var_umap = visualizer.umap_embedding(var.cpu().detach().numpy(), n_components=3)\n",
    "\n",
    "pickle.dump(X_umap, open(\"X_umap_3d.p\", 'wb'))\n",
    "pickle.dump(mean_umap, open(\"mean_umap_3d.p\", 'wb'))\n",
    "pickle.dump(var_umap, open(\"var_umap_3d.p\", 'wb'))"
   ]
  },
  {
   "cell_type": "code",
   "execution_count": null,
   "metadata": {
    "scrolled": false
   },
   "outputs": [],
   "source": [
    "# ###Additional Visualizations\n",
    "# baby_keywords = ['congenital', 'infant', 'newborn', 'neonatal', 'born', 'birth']\n",
    "# heart_keywords = ['heart', 'atrial', 'coronary', 'hypertension', 'vascular']\n",
    "\n",
    "\n",
    "# heart_patient_idxs_tr = icd_analyzer.get_patients_idxs_with_disease_keywords(patient_df=train_df, \n",
    "#                                                                              substrings=heart_keywords, \n",
    "#                                                                              case_sensitive=False\n",
    "#                                                                             )\n",
    "# baby_patient_idxs_tr = icd_analyzer.get_patients_idxs_with_disease_keywords(patient_df=train_df,\n",
    "#                                                                             substrings=baby_keywords,\n",
    "#                                                                             case_sensitive=False\n",
    "#                                                                            )\n",
    "\n",
    "# baby_heart_colors_tr = np.array([0 for i in range(X_umap_tr.shape[0])])\n",
    "# baby_heart_colors_tr[heart_patient_idxs_tr] = 100\n",
    "# baby_heart_colors_tr[baby_patient_idxs_tr] = 50\n",
    "\n",
    "# visualizer.plot2d(\n",
    "#     X=X_umap_tr, \n",
    "#     filename=\"Patient_Clusters_exp_{}_epoch_{}{}\".format(experiment_name, epoch, \"_baby_heart_umap_train\"), \n",
    "#     colors=baby_heart_colors_tr)\n",
    "\n",
    "\n",
    "# heart_patient_idxs_val = icd_analyzer.get_patients_idxs_with_disease_keywords(patient_df=val_df, \n",
    "#                                                                               substrings=heart_keywords,\n",
    "#                                                                               case_sensitive=False)\n",
    "# baby_patient_idxs_val = icd_analyzer.get_patients_idxs_with_disease_keywords(patient_df=val_df,\n",
    "#                                                                              substrings=baby_keywords,\n",
    "#                                                                              case_sensitive=False)\n",
    "\n",
    "# baby_heart_colors_val = np.array([0 for i in range(X_umap_val.shape[0])])\n",
    "# baby_heart_colors_val[heart_patient_idxs_val] = 100\n",
    "# baby_heart_colors_val[baby_patient_idxs_val] = 50\n",
    "# visualizer.plot2d(\n",
    "#     X=X_umap_val, \n",
    "#     filename=\"Patient_Clusters_exp_{}_epoch_{}{}\".format(experiment_name, epoch, \"_baby_heart_umap_val\"), \n",
    "#     colors=baby_heart_colors_val)"
   ]
  },
  {
   "cell_type": "code",
   "execution_count": null,
   "metadata": {},
   "outputs": [],
   "source": [
    "# X_umap_3d_tr = visualizer.umap_embedding(latent_train.cpu().detach().numpy(), n_components=3)\n",
    "\n",
    "# visualizer.plot3d(\n",
    "#     X=X_umap_3d_tr, \n",
    "#     filename=\"Patient_Clusters_exp_{}_epoch_{}{}\".format(experiment_name, epoch, \"_heart_umap_3D_train\"), \n",
    "#     colors=baby_heart_colors_tr,\n",
    "# )"
   ]
  },
  {
   "cell_type": "code",
   "execution_count": null,
   "metadata": {},
   "outputs": [],
   "source": [
    "# ###Plot UMAP representations\n",
    "# heart_patient_idxs = icd_analyzer.get_patients_idxs_with_disease_keywords(substrings=heart_keywords, case_sensitive=False)\n",
    "# heart_colors = np.array([0 for i in range(X_umap.shape[0])])\n",
    "# heart_colors[heart_patient_idxs] = 100\n",
    "\n",
    "# visualizer.plot2d(\n",
    "#     X=X_umap_tr, \n",
    "#     filename=\"Patient_Clusters_exp_{}_epoch_{}{}\".format(experiment_name, epoch, \"_heart_umap_train\"), \n",
    "#     colors=heart_colors,\n",
    "# )\n",
    "# visualizer.plot2d(\n",
    "#     X=X_umap_means_tr, \n",
    "#     filename=\"Patient_Clusters_exp_{}_epoch_{}{}\".format(experiment_name, epoch, \"_heart_umap_means_train\"), \n",
    "#     colors=heart_colors,\n",
    "# )\n",
    "# visualizer.plot2d(\n",
    "#     X=X_umap_vars_tr, \n",
    "#     filename=\"Patient_Clusters_exp_{}_epoch_{}{}\".format(experiment_name, epoch, \"_heart_umap_vars_train\"), \n",
    "#     colors=heart_colors,\n",
    "# )"
   ]
  },
  {
   "cell_type": "code",
   "execution_count": null,
   "metadata": {},
   "outputs": [],
   "source": []
  }
 ],
 "metadata": {
  "kernelspec": {
   "display_name": "mengp369",
   "language": "python",
   "name": "mengp369"
  },
  "language_info": {
   "codemirror_mode": {
    "name": "ipython",
    "version": 3
   },
   "file_extension": ".py",
   "mimetype": "text/x-python",
   "name": "python",
   "nbconvert_exporter": "python",
   "pygments_lexer": "ipython3",
   "version": "3.6.9"
  }
 },
 "nbformat": 4,
 "nbformat_minor": 2
}
