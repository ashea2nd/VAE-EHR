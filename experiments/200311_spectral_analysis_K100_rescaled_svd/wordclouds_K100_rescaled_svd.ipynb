{
 "cells": [
  {
   "cell_type": "code",
   "execution_count": 4,
   "metadata": {},
   "outputs": [],
   "source": [
    "import sys\n",
    "sys.path.append(\"./../../src\")\n",
    "from visualizer_helper import Visualizer\n",
    "\n",
    "import pandas as pd\n",
    "import numpy as np\n",
    "from tqdm import tqdm\n",
    "import matplotlib.pyplot as plt\n",
    "import numpy as np\n",
    "import seaborn as sns\n",
    "from sklearn.decomposition import PCA\n",
    "from sklearn.cluster import KMeans\n",
    "from sklearn import preprocessing\n",
    "from scipy.sparse import csr_matrix\n",
    "import scipy\n",
    "import pickle\n",
    "import os\n",
    "from annoy import AnnoyIndex\n",
    "from scipy.sparse.linalg import inv\n",
    "\n",
    "from collections import Counter\n",
    "from wordcloud import WordCloud"
   ]
  },
  {
   "cell_type": "code",
   "execution_count": 12,
   "metadata": {},
   "outputs": [],
   "source": [
    "subject_ids = pd.read_csv(\"../../data/PATIENT_ICD_SUBJECT_IDS.csv\")\n",
    "icd9codes = pd.read_csv(\"../../data/PATIENT_ICD_ICD9_CODES.csv\")\n",
    "patient_icd_binary = pickle.load(open(\"../../data/PATIENT_ICD_BINARY_SPARSE_CSR.p\", 'rb'))"
   ]
  },
  {
   "cell_type": "code",
   "execution_count": 14,
   "metadata": {},
   "outputs": [
    {
     "name": "stdout",
     "output_type": "stream",
     "text": [
      "       SUBJECT_ID\n",
      "0             109\n",
      "1             112\n",
      "2             113\n",
      "3             114\n",
      "4             115\n",
      "...           ...\n",
      "46515       97164\n",
      "46516       97484\n",
      "46517       97488\n",
      "46518       97492\n",
      "46519       97497\n",
      "\n",
      "[46520 rows x 1 columns]\n",
      "     ICD9_CODE\n",
      "0         0030\n",
      "1         0031\n",
      "2         0038\n",
      "3         0039\n",
      "4         0041\n",
      "...        ...\n",
      "6979      V902\n",
      "6980     V9039\n",
      "6981     V9081\n",
      "6982     V9089\n",
      "6983     V9103\n",
      "\n",
      "[6984 rows x 1 columns]\n",
      "(46520, 6984)\n"
     ]
    }
   ],
   "source": [
    "print(subject_ids)\n",
    "print(patient_icd9codes)\n",
    "print(patient_icd_binary.shape)"
   ]
  },
  {
   "cell_type": "code",
   "execution_count": null,
   "metadata": {},
   "outputs": [],
   "source": []
  }
 ],
 "metadata": {
  "kernelspec": {
   "display_name": "mengp369",
   "language": "python",
   "name": "mengp369"
  },
  "language_info": {
   "codemirror_mode": {
    "name": "ipython",
    "version": 3
   },
   "file_extension": ".py",
   "mimetype": "text/x-python",
   "name": "python",
   "nbconvert_exporter": "python",
   "pygments_lexer": "ipython3",
   "version": "3.6.9"
  }
 },
 "nbformat": 4,
 "nbformat_minor": 2
}
