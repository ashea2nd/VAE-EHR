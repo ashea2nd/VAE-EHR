{
 "cells": [
  {
   "cell_type": "code",
   "execution_count": 2,
   "metadata": {},
   "outputs": [],
   "source": [
    "import sys\n",
    "sys.path.append(\"./../../src\")\n",
    "from visualizer_helper import Visualizer\n",
    "\n",
    "import pandas as pd\n",
    "import numpy as np\n",
    "from tqdm import tqdm\n",
    "import matplotlib.pyplot as plt\n",
    "import numpy as np\n",
    "import seaborn as sns\n",
    "from sklearn.decomposition import PCA\n",
    "from sklearn.utils.extmath import randomized_svd\n",
    "from sklearn.cluster import KMeans\n",
    "from sklearn import preprocessing\n",
    "from scipy.sparse import csr_matrix, coo_matrix\n",
    "import scipy\n",
    "import pickle\n",
    "import os\n",
    "from annoy import AnnoyIndex\n",
    "from scipy.sparse.linalg import inv\n",
    "import hdbscan\n",
    "\n",
    "large_file_path = \"./../../../large_data_files\"\n",
    "k_neighbors = 100"
   ]
  },
  {
   "cell_type": "code",
   "execution_count": null,
   "metadata": {},
   "outputs": [],
   "source": [
    "patient_icd_sparse_path = \"./../../data/PATIENT_ICD_BINARY_SPARSE_CSR.p\"\n",
    "pdata = pickle.load(open(patient_icd_sparse_path, \"rb\"))\n",
    "pdata.shape"
   ]
  },
  {
   "cell_type": "code",
   "execution_count": null,
   "metadata": {
    "scrolled": false
   },
   "outputs": [],
   "source": [
    "#Build L Matrix\n",
    "ANNOY_PATH = \"../../../large_data_files\"\n",
    "annoy_path = os.path.join(ANNOY_PATH, \"200214_patient_similarity_clusters_default.ann\")\n",
    "\n",
    "cos_knn_tree = AnnoyIndex(pdata.shape[1], \"angular\")\n",
    "cos_knn_tree.load(annoy_path)\n",
    "\n",
    "gamma = 2\n",
    "print(\"Building dense data matrix with k={} nn...\".format(k_neighbors))\n",
    "A = np.zeros((pdata.shape[0], pdata.shape[0]))\n",
    "for i in tqdm(range(pdata.shape[0])):\n",
    "    nn_idxs = cos_knn_tree.get_nns_by_item(i, k_neighbors)[1:]\n",
    "    cos_distances = [cos_knn_tree.get_distance(i, nn) for nn in nn_idxs]\n",
    "    rbf_distances = [np.exp(-gamma*cos_dist**2) for cos_dist in cos_distances]\n",
    "    A[i, nn_idxs] = rbf_distances"
   ]
  },
  {
   "cell_type": "code",
   "execution_count": null,
   "metadata": {},
   "outputs": [],
   "source": [
    "knn_adj = {}\n",
    "for i in tqdm(range(A.shape[0])):\n",
    "    nn_idx = set(np.nonzero(A[i])[0])\n",
    "    knn_adj[i] = nn_idx\n",
    "    \n",
    "for i in tqdm(range(A.shape[0])):\n",
    "    nns = knn_adj[i]\n",
    "    for nn in nns:\n",
    "        if i not in knn_adj[nn]:\n",
    "            A[i, nn] = 0\n",
    "\n",
    "pickle.dump(csr_matrix(A), open(\"./data/A_mknn_K{}_CSR.p\".format(k_neighbors - 1), \"wb\"))"
   ]
  },
  {
   "cell_type": "markdown",
   "metadata": {},
   "source": [
    "# A loading"
   ]
  },
  {
   "cell_type": "code",
   "execution_count": 5,
   "metadata": {},
   "outputs": [
    {
     "data": {
      "image/png": "[encoded data removed]",
      "text/plain": [
       "<Figure size 576x360 with 1 Axes>"
      ]
     },
     "metadata": {
      "needs_background": "light"
     },
     "output_type": "display_data"
    }
   ],
   "source": [
    "k_neighbors = 100\n",
    "A = pickle.load(open(\"./data/A_mknn_K{}_CSR.p\".format(k_neighbors), \"rb\"))\n",
    "\n",
    "plt.figure(figsize=(8,5))\n",
    "ax = sns.distplot(np.count_nonzero(A.toarray(), axis=0), kde=False)\n",
    "ax.set(xlabel=\"Degree\")\n",
    "plt.savefig(\"./figures/mknn_featdist_K{}_RAW.png\".format(k_neighbors))"
   ]
  },
  {
   "cell_type": "markdown",
   "metadata": {},
   "source": [
    "### A: remove empty patients and outliers"
   ]
  },
  {
   "cell_type": "code",
   "execution_count": 7,
   "metadata": {},
   "outputs": [
    {
     "name": "stdout",
     "output_type": "stream",
     "text": [
      "<class 'scipy.sparse.csr.csr_matrix'>\n",
      "(44083, 44083)\n"
     ]
    },
    {
     "data": {
      "text/plain": [
       "[Text(0.5,0,'Degree')]"
      ]
     },
     "execution_count": 7,
     "metadata": {},
     "output_type": "execute_result"
    },
    {
     "data": {
      "image/png": "[encoded data removed]",
      "text/plain": [
       "<Figure size 576x360 with 1 Axes>"
      ]
     },
     "metadata": {
      "needs_background": "light"
     },
     "output_type": "display_data"
    }
   ],
   "source": [
    "###Remove empty cols and rows\n",
    "rows_with_vals = np.unique(A.indices)\n",
    "\n",
    "A_nonempty = A[rows_with_vals][:, rows_with_vals]\n",
    "print(type(A_nonempty))\n",
    "print(A_nonempty.shape)\n",
    "\n",
    "plt.figure(figsize=(8,5))\n",
    "ax = sns.distplot(np.count_nonzero(A_nonempty.toarray(), axis=0), kde=False)\n",
    "ax.set(xlabel=\"Degree\")"
   ]
  },
  {
   "cell_type": "code",
   "execution_count": 8,
   "metadata": {},
   "outputs": [
    {
     "name": "stdout",
     "output_type": "stream",
     "text": [
      "(44083,)\n"
     ]
    }
   ],
   "source": [
    "###Remove outliers\n",
    "patient_degrees = np.count_nonzero(A_nonempty.toarray(), axis=0)\n",
    "print(patient_degrees.shape)"
   ]
  },
  {
   "cell_type": "code",
   "execution_count": 9,
   "metadata": {},
   "outputs": [
    {
     "name": "stdout",
     "output_type": "stream",
     "text": [
      "[    0     1     2 ... 44080 44081 44082]\n",
      "(44083,)\n"
     ]
    }
   ],
   "source": [
    "threshold = k_neighbors\n",
    "degree_threshold_idx = np.argwhere(patient_degrees < threshold)[:, 0]\n",
    "print(degree_threshold_idx)\n",
    "print(degree_threshold_idx.shape)"
   ]
  },
  {
   "cell_type": "code",
   "execution_count": 10,
   "metadata": {},
   "outputs": [
    {
     "name": "stdout",
     "output_type": "stream",
     "text": [
      "(44083, 44083) (44083, 44083)\n"
     ]
    },
    {
     "data": {
      "image/png": "[encoded data removed]",
      "text/plain": [
       "<Figure size 576x360 with 1 Axes>"
      ]
     },
     "metadata": {
      "needs_background": "light"
     },
     "output_type": "display_data"
    }
   ],
   "source": [
    "A_cleaned = A_nonempty[degree_threshold_idx][:, degree_threshold_idx]\n",
    "print(A_nonempty.shape, A_cleaned.shape)\n",
    "\n",
    "plt.figure(figsize=(8,5))\n",
    "ax = sns.distplot(np.count_nonzero(A_cleaned.toarray(), axis=0), kde=False)\n",
    "ax.set(xlabel=\"Degree\")\n",
    "plt.savefig(\"./figures/mknn_featdist_K{}_emptyandoutliersremoved.png\".format(k_neighbors))"
   ]
  },
  {
   "cell_type": "code",
   "execution_count": 15,
   "metadata": {},
   "outputs": [
    {
     "data": {
      "text/plain": [
       "<matplotlib.axes._subplots.AxesSubplot at 0x7f161e775a58>"
      ]
     },
     "execution_count": 15,
     "metadata": {},
     "output_type": "execute_result"
    },
    {
     "data": {
      "image/png": "[encoded data removed]",
      "text/plain": [
       "<Figure size 432x288 with 1 Axes>"
      ]
     },
     "metadata": {
      "needs_background": "light"
     },
     "output_type": "display_data"
    }
   ],
   "source": [
    "sns.distplot(A_cleaned.data, kde=False)"
   ]
  },
  {
   "cell_type": "markdown",
   "metadata": {},
   "source": [
    "## A rescaling"
   ]
  },
  {
   "cell_type": "code",
   "execution_count": 20,
   "metadata": {},
   "outputs": [
    {
     "name": "stdout",
     "output_type": "stream",
     "text": [
      "[0.05283419 0.06656105 0.05220621 ... 0.06488823 0.06948346 0.05144693]\n"
     ]
    }
   ],
   "source": [
    "print(A.data)\n",
    "nonzero_idx_A = np.nonzero(A.toarray())"
   ]
  },
  {
   "cell_type": "code",
   "execution_count": 46,
   "metadata": {},
   "outputs": [
    {
     "name": "stdout",
     "output_type": "stream",
     "text": [
      "[[8.23595759 8.47950807 8.22506302 ... 8.4492654  8.53272403 8.21191891]]\n",
      "7.667332742905069 229.65166408352405\n"
     ]
    },
    {
     "data": {
      "image/png": "[encoded data removed]",
      "text/plain": [
       "<Figure size 432x288 with 1 Axes>"
      ]
     },
     "metadata": {
      "needs_background": "light"
     },
     "output_type": "display_data"
    }
   ],
   "source": [
    "rescaled_data = np.exp(2*A[nonzero_idx_A])\n",
    "sns.distplot(rescaled_data, kde=False)\n",
    "print(rescaled_data)\n",
    "print(np.min(rescaled_data), np.max(rescaled_data))"
   ]
  },
  {
   "cell_type": "code",
   "execution_count": 47,
   "metadata": {},
   "outputs": [
    {
     "name": "stdout",
     "output_type": "stream",
     "text": [
      "0.0 229.65166408352405\n"
     ]
    }
   ],
   "source": [
    "A_rescaled = A.copy().toarray()\n",
    "A_rescaled[nonzero_idx_A] = rescaled_data\n",
    "A_rescaled = csr_matrix(A_rescaled)\n",
    "print(A_rescaled.min(), A_rescaled.max())"
   ]
  },
  {
   "cell_type": "code",
   "execution_count": 48,
   "metadata": {},
   "outputs": [],
   "source": [
    "pickle.dump(csr_matrix(A_rescaled), open(\"./data/A_mknn_K{}_CSR.p\".format(k_neighbors), \"wb\"))"
   ]
  },
  {
   "cell_type": "code",
   "execution_count": 49,
   "metadata": {},
   "outputs": [
    {
     "name": "stdout",
     "output_type": "stream",
     "text": [
      "(44083, 44083)\n",
      "0.0 229.65166408352405\n"
     ]
    }
   ],
   "source": [
    "A = pickle.load(open(\"./data/A_mknn_K{}_CSR.p\".format(k_neighbors), \"rb\"))\n",
    "print(A.shape)\n",
    "print(A.min(), A.max())"
   ]
  },
  {
   "cell_type": "markdown",
   "metadata": {},
   "source": [
    "# D"
   ]
  },
  {
   "cell_type": "code",
   "execution_count": 50,
   "metadata": {
    "scrolled": true
   },
   "outputs": [
    {
     "name": "stderr",
     "output_type": "stream",
     "text": [
      "100%|██████████| 44083/44083 [00:10<00:00, 4227.05it/s]\n"
     ]
    }
   ],
   "source": [
    "D = np.zeros((A.shape[0], A.shape[0]))\n",
    "for i in tqdm(range(A.shape[0])):\n",
    "    D[i, i] = np.sum(A[i])\n",
    "    \n",
    "pickle.dump(csr_matrix(D), open(\"./data/D_mknn_K{}_CSR.p\".format(k_neighbors), \"wb\"))"
   ]
  },
  {
   "cell_type": "code",
   "execution_count": 52,
   "metadata": {},
   "outputs": [
    {
     "data": {
      "text/plain": [
       "<matplotlib.axes._subplots.AxesSubplot at 0x7f19bb16a908>"
      ]
     },
     "execution_count": 52,
     "metadata": {},
     "output_type": "execute_result"
    },
    {
     "data": {
      "image/png": "[encoded data removed]",
      "text/plain": [
       "<Figure size 432x288 with 2 Axes>"
      ]
     },
     "metadata": {
      "needs_background": "light"
     },
     "output_type": "display_data"
    }
   ],
   "source": [
    "D = pickle.load(open(\"./data/D_mknn_K{}_CSR.p\".format(k_neighbors), \"rb\"))\n",
    "sns.heatmap(D[:100, :100].toarray(), cmap=\"Reds\")"
   ]
  },
  {
   "cell_type": "markdown",
   "metadata": {},
   "source": [
    "# D_mc"
   ]
  },
  {
   "cell_type": "code",
   "execution_count": 53,
   "metadata": {},
   "outputs": [],
   "source": [
    "k_neighbors = 100"
   ]
  },
  {
   "cell_type": "code",
   "execution_count": 54,
   "metadata": {},
   "outputs": [
    {
     "name": "stdout",
     "output_type": "stream",
     "text": [
      "967.4897196258016 483.7448598129009\n"
     ]
    }
   ],
   "source": [
    "diag_idx = np.diag_indices(D.shape[0])\n",
    "D_mean = np.mean(D[diag_idx])\n",
    "\n",
    "D_mc = D.copy()\n",
    "D_mc[diag_idx] = D[diag_idx] + D_mean\n",
    "print(np.mean(D_mc[diag_idx]), np.mean(D[diag_idx]))"
   ]
  },
  {
   "cell_type": "code",
   "execution_count": 55,
   "metadata": {},
   "outputs": [],
   "source": [
    "pickle.dump(csr_matrix(D_mc), open(\"./data/D_mc_mknn_K{}_CSR.p\".format(k_neighbors), \"wb\"))"
   ]
  },
  {
   "cell_type": "markdown",
   "metadata": {},
   "source": [
    "# D_inv_sqrt"
   ]
  },
  {
   "cell_type": "code",
   "execution_count": 56,
   "metadata": {},
   "outputs": [],
   "source": [
    "k_neighbors = 100"
   ]
  },
  {
   "cell_type": "code",
   "execution_count": 58,
   "metadata": {},
   "outputs": [
    {
     "name": "stdout",
     "output_type": "stream",
     "text": [
      "(44083, 44083) (44083, 44083)\n",
      "483.7448598129009 967.4897196258016\n",
      "0.010973501345482407 0.02194700269096481\n"
     ]
    }
   ],
   "source": [
    "D = pickle.load(open(\"./data/D_mknn_K{}_CSR.p\".format(k_neighbors), \"rb\"))\n",
    "D_mc = pickle.load(open(\"./data/D_mc_mknn_K{}_CSR.p\".format(k_neighbors), \"rb\"))\n",
    "print(D.shape, D_mc.shape)\n",
    "print(np.mean(D[diag_idx]), np.mean(D_mc[diag_idx]))\n",
    "print(np.mean(D), np.mean(D_mc))"
   ]
  },
  {
   "cell_type": "code",
   "execution_count": 59,
   "metadata": {},
   "outputs": [],
   "source": [
    "def get_inv_sqrt(d):\n",
    "    nonzero_idx = np.nonzero(d)\n",
    "    d_diag_sqrt_inv = 1.0/np.sqrt(d[nonzero_idx])\n",
    "    d_inv_sqrt = d.copy()\n",
    "    d_inv_sqrt[nonzero_idx] = d_diag_sqrt_inv\n",
    "    return d_inv_sqrt\n",
    "\n",
    "D_inv_sqrt = get_inv_sqrt(D)\n",
    "D_mc_inv_sqrt = get_inv_sqrt(D_mc)"
   ]
  },
  {
   "cell_type": "code",
   "execution_count": 60,
   "metadata": {},
   "outputs": [],
   "source": [
    "pickle.dump(D_inv_sqrt, open(\"./data/D_mknn_inv_sqrt_K{}_CSR.p\".format(k_neighbors), \"wb\"))\n",
    "pickle.dump(D_mc_inv_sqrt, open(\"./data/D_mc_mknn_inv_sqrt_K{}_CSR.p\".format(k_neighbors), \"wb\"))"
   ]
  },
  {
   "cell_type": "markdown",
   "metadata": {},
   "source": [
    "# Compute normalized L"
   ]
  },
  {
   "cell_type": "code",
   "execution_count": 61,
   "metadata": {},
   "outputs": [],
   "source": [
    "k_neighbors = 100"
   ]
  },
  {
   "cell_type": "code",
   "execution_count": 62,
   "metadata": {},
   "outputs": [
    {
     "name": "stdout",
     "output_type": "stream",
     "text": [
      "(44083, 44083) (44083, 44083) (44083, 44083)\n"
     ]
    }
   ],
   "source": [
    "A = pickle.load(open(\"./data/A_mknn_K{}_CSR.p\".format(k_neighbors), \"rb\"))\n",
    "D_inv_sqrt = pickle.load(open(\"./data/D_mknn_inv_sqrt_K{}_CSR.p\".format(k_neighbors), \"rb\"))\n",
    "D_mc_inv_sqrt = pickle.load(open(\"./data/D_mc_mknn_inv_sqrt_K{}_CSR.p\".format(k_neighbors), \"rb\"))\n",
    "print(A.shape, D.shape, D_mc.shape)\n",
    "\n",
    "L = D_inv_sqrt.dot(A.dot(D_inv_sqrt))\n",
    "L_mc = D_mc_inv_sqrt.dot(A.dot(D_mc_inv_sqrt))\n",
    "\n",
    "pickle.dump(csr_matrix(L), open(\"./data/L_mknn_K{}_CSR.p\".format(k_neighbors), \"wb\"))\n",
    "pickle.dump(csr_matrix(L_mc), open(\"./data/L_mc_mknn_K{}_CSR.p\".format(k_neighbors), \"wb\"))"
   ]
  },
  {
   "cell_type": "code",
   "execution_count": 63,
   "metadata": {},
   "outputs": [
    {
     "name": "stdout",
     "output_type": "stream",
     "text": [
      "(44083, 44083) (44083, 44083)\n"
     ]
    }
   ],
   "source": [
    "print(L.shape, L_mc.shape)"
   ]
  },
  {
   "cell_type": "markdown",
   "metadata": {},
   "source": [
    "# Eigen Decomposition"
   ]
  },
  {
   "cell_type": "code",
   "execution_count": 3,
   "metadata": {},
   "outputs": [],
   "source": [
    "L = pickle.load(open(\"./data/L_mknn_K{}_CSR.p\".format(k_neighbors), \"rb\"))\n",
    "L_mc = pickle.load(open(\"./data/L_mc_mknn_K{}_CSR.p\".format(k_neighbors), \"rb\"))\n",
    "\n",
    "evecs=50\n",
    "L_evecs, L_evals, _ = randomized_svd(L, n_components=evecs)\n",
    "L_mc_evecs, L_mc_evals, _ = randomized_svd(L_mc, n_components=evecs)\n",
    "pickle.dump(L_evecs, open(\"./data/L_evecs{}_K{}.p\".format(evecs, k_neighbors), 'wb'))\n",
    "pickle.dump(L_mc_evecs, open(\"./data/L_mc_evecs{}_K{}.p\".format(evecs, k_neighbors), \"wb\"))\n",
    "pickle.dump(L_evals, open(\"./data/L_evals{}_K{}.p\".format(evecs, k_neighbors), \"wb\"))\n",
    "pickle.dump(L_mc_evals, open(\"./data/L_mc_evals{}_K{}.p\".format(evecs, k_neighbors), \"wb\"))"
   ]
  },
  {
   "cell_type": "code",
   "execution_count": 5,
   "metadata": {},
   "outputs": [
    {
     "data": {
      "image/png": "[encoded data removed]",
      "text/plain": [
       "<Figure size 360x360 with 1 Axes>"
      ]
     },
     "metadata": {
      "needs_background": "light"
     },
     "output_type": "display_data"
    },
    {
     "data": {
      "image/png": "[encoded data removed]",
      "text/plain": [
       "<Figure size 360x360 with 1 Axes>"
      ]
     },
     "metadata": {
      "needs_background": "light"
     },
     "output_type": "display_data"
    }
   ],
   "source": [
    "#print(np.flip(L_evals_svd))\n",
    "plt.figure(figsize=(5,5))\n",
    "ax = sns.scatterplot(range(L_evals.shape[0]), L_evals)\n",
    "\n",
    "#print(np.flip(L_mc_evals_svd))\n",
    "plt.figure(figsize=(5,5))\n",
    "ax = sns.scatterplot(range(L_mc_evals.shape[0]), L_mc_evals)"
   ]
  },
  {
   "cell_type": "code",
   "execution_count": 6,
   "metadata": {},
   "outputs": [
    {
     "name": "stdout",
     "output_type": "stream",
     "text": [
      "             Evec_0        Evec_1        Evec_2        Evec_3        Evec_4  \\\n",
      "count  44083.000000  44083.000000  44083.000000  44083.000000  44083.000000   \n",
      "mean       0.000591     -0.000366      0.000644      0.000045     -0.000802   \n",
      "std        0.004726      0.004749      0.004719      0.004763      0.004695   \n",
      "min       -0.262111     -0.212169     -0.185962     -0.249279     -0.191752   \n",
      "25%        0.000171     -0.000719     -0.000108     -0.000329     -0.001440   \n",
      "50%        0.000735     -0.000428      0.000409      0.000011     -0.000800   \n",
      "75%        0.001349     -0.000186      0.001105      0.000296     -0.000251   \n",
      "max        0.304289      0.289878      0.197128      0.279790      0.314646   \n",
      "\n",
      "             Evec_5        Evec_6        Evec_7        Evec_8        Evec_9  \\\n",
      "count  44083.000000  44083.000000  44083.000000  44083.000000  44083.000000   \n",
      "mean       0.000284     -0.000387      0.000550     -0.000279      0.000371   \n",
      "std        0.004754      0.004747      0.004731      0.004755      0.004748   \n",
      "min       -0.220010     -0.176084     -0.177056     -0.180418     -0.172571   \n",
      "25%       -0.000614     -0.000919     -0.000124     -0.000733     -0.000232   \n",
      "50%        0.000210     -0.000427      0.000449     -0.000161      0.000231   \n",
      "75%        0.001092     -0.000098      0.001235      0.000200      0.000937   \n",
      "max        0.260516      0.179098      0.219455      0.212175      0.220194   \n",
      "\n",
      "            Evec_10       Evec_11       Evec_12       Evec_13       Evec_14  \\\n",
      "count  44083.000000  44083.000000  44083.000000  44083.000000  44083.000000   \n",
      "mean      -0.000400      0.000857     -0.000217      0.000080     -0.000299   \n",
      "std        0.004746      0.004685      0.004758      0.004762      0.004754   \n",
      "min       -0.214902     -0.186395     -0.217146     -0.198026     -0.176989   \n",
      "25%       -0.000894     -0.000123     -0.001065     -0.000721     -0.000609   \n",
      "50%       -0.000191      0.000608     -0.000315      0.000164     -0.000212   \n",
      "75%        0.000462      0.001600      0.000308      0.000917      0.000183   \n",
      "max        0.218200      0.202910      0.263139      0.275889      0.203997   \n",
      "\n",
      "            Evec_15       Evec_16       Evec_17       Evec_18       Evec_19  \n",
      "count  44083.000000  44083.000000  44083.000000  44083.000000  44083.000000  \n",
      "mean       0.000096     -0.000137     -0.000827      0.000098     -0.000677  \n",
      "std        0.004762      0.004761      0.004691      0.004762      0.004715  \n",
      "min       -0.123161     -0.171955     -0.163317     -0.173731     -0.151149  \n",
      "25%       -0.000832     -0.000688     -0.001372      0.000049     -0.001164  \n",
      "50%        0.000369     -0.000332     -0.000793      0.000382     -0.000496  \n",
      "75%        0.001356      0.000096     -0.000310      0.000770     -0.000077  \n",
      "max        0.146827      0.194638      0.179721      0.180252      0.206247  \n",
      "             Evec_0        Evec_1        Evec_2        Evec_3        Evec_4  \\\n",
      "count  4.408300e+04  4.408300e+04  4.408300e+04  4.408300e+04  4.408300e+04   \n",
      "mean   9.995037e-05  5.829086e-05  1.199415e-04  6.017314e-04  2.057172e-05   \n",
      "std    4.761828e-03  4.762520e-03  4.761366e-03  4.724712e-03  4.762832e-03   \n",
      "min   -1.039344e-02 -1.427535e-01 -9.988258e-03 -4.310863e-02 -4.033400e-02   \n",
      "25%   -2.523053e-06 -3.293410e-06 -1.318296e-06 -2.972630e-06 -1.377123e-05   \n",
      "50%   -4.013061e-07  1.133634e-07  3.153778e-07 -4.802203e-08 -1.595110e-06   \n",
      "75%    6.046053e-07  1.968026e-06  9.704695e-06  2.132081e-06  5.978985e-08   \n",
      "max    3.378945e-01  1.848466e-01  2.874317e-01  9.310178e-02  2.573560e-01   \n",
      "\n",
      "             Evec_5        Evec_6        Evec_7        Evec_8        Evec_9  \\\n",
      "count  4.408300e+04  4.408300e+04  4.408300e+04  4.408300e+04  4.408300e+04   \n",
      "mean   1.696880e-04 -9.447959e-05  1.476985e-04  1.268884e-04  1.132166e-04   \n",
      "std    4.759853e-03  4.761940e-03  4.760586e-03  4.761186e-03  4.761531e-03   \n",
      "min   -4.896181e-02 -1.722343e-01 -7.982567e-03 -1.690107e-02 -1.152784e-01   \n",
      "25%   -1.375028e-06 -7.181789e-06 -3.827477e-06 -3.377662e-06 -3.765329e-06   \n",
      "50%    1.948042e-07 -1.742865e-07  2.236295e-07  7.957472e-08 -2.510525e-08   \n",
      "75%    4.540172e-06  3.003395e-06  7.989760e-06  6.813902e-06  3.405550e-06   \n",
      "max    2.767010e-01  1.868054e-01  2.921950e-01  3.511381e-01  1.833104e-01   \n",
      "\n",
      "            Evec_10       Evec_11       Evec_12       Evec_13       Evec_14  \\\n",
      "count  4.408300e+04  4.408300e+04  4.408300e+04  4.408300e+04  44083.000000   \n",
      "mean   2.360448e-06  4.477854e-04 -6.775528e-06  1.079313e-04     -0.000007   \n",
      "std    4.762876e-03  4.741780e-03  4.762872e-03  4.761654e-03      0.004763   \n",
      "min   -1.225036e-01 -8.530940e-02 -7.452528e-02 -2.590605e-02     -0.134916   \n",
      "25%   -1.205970e-05 -8.315144e-08 -1.529964e-05 -8.940704e-06     -0.000016   \n",
      "50%   -1.693654e-06  1.729883e-06 -3.179201e-06 -2.090298e-06     -0.000001   \n",
      "75%    8.031274e-08  2.972591e-05 -2.209828e-07 -1.417328e-07      0.000002   \n",
      "max    1.931002e-01  1.297824e-01  3.832948e-01  2.989664e-01      0.154421   \n",
      "\n",
      "            Evec_15       Evec_16       Evec_17       Evec_18       Evec_19  \n",
      "count  4.408300e+04  44083.000000  4.408300e+04  4.408300e+04  4.408300e+04  \n",
      "mean  -1.835728e-04      0.000038  4.183201e-05 -2.273291e-05  2.623756e-04  \n",
      "std    4.759338e-03      0.004763  4.762693e-03  4.762823e-03  4.755644e-03  \n",
      "min   -8.729491e-02     -0.063183 -9.005512e-02 -1.177252e-01 -9.964298e-02  \n",
      "25%   -1.243464e-05     -0.000014 -2.404040e-05 -2.063529e-05  7.611475e-07  \n",
      "50%   -2.144037e-08     -0.000002 -3.747262e-06 -2.629983e-06  6.310824e-06  \n",
      "75%    4.263599e-06      0.000003 -2.101214e-07  9.172838e-07  4.632022e-05  \n",
      "max    1.421952e-01      0.229218  1.915067e-01  1.217372e-01  1.435209e-01  \n"
     ]
    }
   ],
   "source": [
    "evecs_to_plot=20\n",
    "L_k_evecs = L_evecs[:, -evecs_to_plot:]\n",
    "L_mc_k_evecs = L_mc_evecs[:, -evecs_to_plot:]\n",
    "\n",
    "evec_cols = [\"Evec_{}\".format(i) for i in range(evecs_to_plot)]\n",
    "\n",
    "L_evec_df = pd.DataFrame(L_k_evecs, columns=evec_cols)\n",
    "L_mc_evec_df = pd.DataFrame(L_mc_k_evecs, columns=evec_cols)\n",
    "print(L_evec_df.describe())\n",
    "print(L_mc_evec_df.describe())"
   ]
  },
  {
   "cell_type": "markdown",
   "metadata": {},
   "source": [
    "# Misc."
   ]
  },
  {
   "cell_type": "code",
   "execution_count": null,
   "metadata": {},
   "outputs": [],
   "source": [
    "use_mc = True"
   ]
  },
  {
   "cell_type": "code",
   "execution_count": null,
   "metadata": {},
   "outputs": [],
   "source": [
    "k_neighbors = 50\n",
    "if use_mc:\n",
    "    L = pickle.load(open(\"./data/L_mc_mknn_K{}_CSR.p\".format(k_neighbors), \"rb\")).toarray()\n",
    "else:\n",
    "    L = pickle.load(open(\"./data/L_mknn_K{}_CSR.p\".format(k_neighbors), \"rb\")).toarray()\n",
    "\n",
    "print(\"Found nans:\", np.any(np.isnan(L)))\n",
    "\n",
    "evals=100\n",
    "L_evals, L_evecs = scipy.sparse.linalg.eigsh(L, k=evals + 1, which=\"LM\")"
   ]
  },
  {
   "cell_type": "code",
   "execution_count": null,
   "metadata": {
    "scrolled": false
   },
   "outputs": [],
   "source": [
    "L_nan_idxs = np.argwhere(np.isnan(L_evals))\n",
    "print(\"Nans shape:\", L_nan_idxs.shape)\n",
    "\n",
    "plt.figure(figsize=(10,10))\n",
    "ax = sns.scatterplot(range(L_evals.shape[0]), L_evals)\n",
    "ax.set(xlabel=\"Eigenvalue Number 0 - {}\".format(evals + 1))\n",
    "if use_mc:\n",
    "    plt.savefig(\"./figures/evals_L_mc_evals{}_K{}.png\".format(evals, k_neighbors))\n",
    "else:\n",
    "    plt.savefig(\"./figures/evals_L_evals{}_K{}.png\".format(evals, k_neighbors))"
   ]
  },
  {
   "cell_type": "markdown",
   "metadata": {},
   "source": [
    "# Top K Eigenvectors"
   ]
  },
  {
   "cell_type": "code",
   "execution_count": null,
   "metadata": {},
   "outputs": [],
   "source": [
    "drop_k_evals = 16\n",
    "top_k_evecs=3\n",
    "knn_clusters = 4\n",
    "lc=100\n",
    "visualizer = Visualizer()"
   ]
  },
  {
   "cell_type": "code",
   "execution_count": null,
   "metadata": {},
   "outputs": [],
   "source": [
    "print(\"Mean Correction?\", use_mc)\n",
    "print(\"K\", k_neighbors)\n",
    "print(\"drop_k_evals\", drop_k_evals)\n",
    "print(\"top_k_evecs\", top_k_evecs)\n",
    "print(\"knn_clusters\", knn_clusters)"
   ]
  },
  {
   "cell_type": "code",
   "execution_count": null,
   "metadata": {},
   "outputs": [],
   "source": [
    "X_top_k = L_evecs[:, -drop_k_evals-top_k_evecs:-drop_k_evals]\n",
    "L_evecs_lengths_top_k = np.linalg.norm(X_top_k, axis=1)\n",
    "Y_top_k = X_top_k / L_evecs_lengths_top_k[:, None]\n",
    "\n",
    "print(X_top_k.shape)\n",
    "print(Y_top_k.shape)"
   ]
  },
  {
   "cell_type": "code",
   "execution_count": null,
   "metadata": {},
   "outputs": [],
   "source": [
    "if use_mc:\n",
    "    Y_umap_2d = pickle.load(open(\"./data/Y_umap_2d_mc_K{}_topkevecs{}_lc{}.p\".format(k_neighbors, top_k_evecs, lc), 'rb'))\n",
    "    Y_umap_3d = pickle.load(open(\"./data/Y_umap_3d_mc_K{}_topkevecs{}_lc{}.p\".format(k_neighbors, top_k_evecs, lc), 'rb'))\n",
    "else:\n",
    "    Y_umap_2d = pickle.load(open(\"./data/Y_umap_2d_K{}_topkevecs{}_lc{}.p\".format(k_neighbors, top_k_evecs, lc), 'rb'))\n",
    "    Y_umap_3d = pickle.load(open(\"./data/Y_umap_3d_K{}_topkevecs{}_lc{}.p\".format(k_neighbors, top_k_evecs, lc), 'rb'))"
   ]
  },
  {
   "cell_type": "code",
   "execution_count": null,
   "metadata": {},
   "outputs": [],
   "source": [
    "Y_umap_2d = visualizer.umap_embedding(Y_top_k, n_components=2, lc=lc)\n",
    "Y_umap_3d = visualizer.umap_embedding(Y_top_k, n_components=3, lc=lc)\n",
    "\n",
    "if use_mc:\n",
    "    pickle.dump(Y_umap_2d, open(\"./data/Y_umap_2d_mc_K{}_topkevecs{}_lc{}.p\".format(k_neighbors, top_k_evecs, lc), 'wb'))\n",
    "    pickle.dump(Y_umap_3d, open(\"./data/Y_umap_3d_mc_K{}_topkevecs{}_lc{}.p\".format(k_neighbors, top_k_evecs, lc), 'wb'))\n",
    "else:\n",
    "    pickle.dump(Y_umap_2d, open(\"./data/Y_umap_2d_K{}_topkevecs{}_lc{}.p\".format(k_neighbors, top_k_evecs, lc), 'wb'))\n",
    "    pickle.dump(Y_umap_3d, open(\"./data/Y_umap_3d_K{}_topkevecs{}_lc{}.p\".format(k_neighbors, top_k_evecs, lc), 'wb'))"
   ]
  },
  {
   "cell_type": "code",
   "execution_count": null,
   "metadata": {},
   "outputs": [],
   "source": [
    "if use_mc:\n",
    "    Y_cluster_labels = pickle.load(open(\"./data/cluster_labels_mc_K{}_knn{}_topkevecs{}.p\".format(k_neighbors, knn_clusters, top_k_evecs), 'rb'))\n",
    "else:\n",
    "    Y_cluster_labels = pickle.load(open(\"./data/cluster_labels_K{}_knn{}_topkevecs{}.p\".format(k_neighbors, knn_clusters, top_k_evecs), 'rb'))"
   ]
  },
  {
   "cell_type": "code",
   "execution_count": null,
   "metadata": {},
   "outputs": [],
   "source": [
    "Y_kmeans_top_k = KMeans(n_clusters=knn_clusters).fit(Y_top_k)\n",
    "Y_cluster_labels = Y_kmeans_top_k.labels_\n",
    "\n",
    "if use_mc:\n",
    "    pickle.dump(Y_cluster_labels, open(\"./data/cluster_labels_mc_K{}_knn{}_topkevecs{}.p\".format(k_neighbors, knn_clusters, top_k_evecs), \"wb\"))\n",
    "else:\n",
    "    pickle.dump(Y_cluster_labels, open(\"./data/cluster_labels_K{}_knn{}_topkevecs{}.p\".format(k_neighbors, knn_clusters, top_k_evecs), \"wb\"))\n",
    "print(\"Cluster labels:\", np.unique(Y_cluster_labels))"
   ]
  },
  {
   "cell_type": "code",
   "execution_count": null,
   "metadata": {
    "scrolled": false
   },
   "outputs": [],
   "source": []
  },
  {
   "cell_type": "markdown",
   "metadata": {},
   "source": [
    "# Eigenvector Analysis"
   ]
  },
  {
   "cell_type": "code",
   "execution_count": null,
   "metadata": {},
   "outputs": [],
   "source": [
    "evecs_to_plot=5"
   ]
  },
  {
   "cell_type": "code",
   "execution_count": null,
   "metadata": {},
   "outputs": [],
   "source": [
    "print(\"Mean Correction?\", use_mc)\n",
    "print(\"K\", k_neighbors)\n",
    "print(\"drop_k_evals\", drop_k_evals)\n",
    "print(\"top_k_evecs\", top_k_evecs)\n",
    "print(\"knn_clusters\", knn_clusters)\n",
    "print(\"evecs_to_plot\", evecs_to_plot)"
   ]
  },
  {
   "cell_type": "code",
   "execution_count": null,
   "metadata": {},
   "outputs": [],
   "source": [
    "plt.figure(figsize=(5,5))\n",
    "ax = sns.scatterplot(range(L_evals.shape[0]), L_evals)\n",
    "ax.set(xlabel=\"Eigenvalue Number 0 - {}\".format(evals + 1))"
   ]
  },
  {
   "cell_type": "code",
   "execution_count": null,
   "metadata": {},
   "outputs": [],
   "source": [
    "# X_top_k = L_evecs[:, -drop_k_evals-top_k_evecs:-drop_k_evals]\n",
    "k_evecs = L_evecs[:, -evecs_to_plot:]\n",
    "evec_cols = [\"Evec_{}\".format(i) for i in range(evecs_to_plot)]\n",
    "evec_df = pd.DataFrame(k_evecs, columns=evec_cols)\n",
    "\n",
    "print(evec_df.describe())"
   ]
  },
  {
   "cell_type": "code",
   "execution_count": null,
   "metadata": {},
   "outputs": [],
   "source": [
    "quantiles = []\n",
    "for i in range(evecs_to_plot):\n",
    "    q1 = evec_df[\"Evec_{}\".format(i)].quantile(0.25)\n",
    "    q2 = evec_df[\"Evec_{}\".format(i)].quantile(0.75)\n",
    "    quantiles.append((q1, q2))"
   ]
  },
  {
   "cell_type": "code",
   "execution_count": null,
   "metadata": {},
   "outputs": [],
   "source": [
    "fig, axes = plt.subplots(1, 2, figsize=(15, 5))\n",
    "evec_i = 3\n",
    "\n",
    "prev_colname = \"Evec_{}\".format(evec_i)\n",
    "next_colname = \"Evec_{}\".format(evec_i + 1)\n",
    "\n",
    "prev_quantiles = evec_df[(evec_df[prev_colname] >= quantiles[evec_i][0]) & \n",
    "                         (evec_df[prev_colname] <= quantiles[evec_i][1])]\n",
    "sns.distplot(prev_quantiles[prev_colname], kde=False, label=prev_colname, ax=axes[0])\n",
    "sns.distplot(prev_quantiles[next_colname], kde=False, label=next_colname, ax=axes[0])\n",
    "axes[0].legend()\n",
    "\n",
    "next_quantiles = evec_df[(evec_df[next_colname] >= quantiles[evec_i + 1][0]) & \n",
    "                         (evec_df[next_colname] <= quantiles[evec_i + 1][1])]\n",
    "sns.distplot(next_quantiles[prev_colname], kde=False, label=prev_colname, ax=axes[1])\n",
    "sns.distplot(next_quantiles[next_colname], kde=False, label=next_colname, ax=axes[1])\n",
    "axes[1].legend()\n",
    "\n",
    "if use_mc:\n",
    "    plt.savefig(\"./figures/evecs_distplot_{}vs{}_L_mc_K{}.png\".format(evec_i, evec_i+1, k_neighbors))\n",
    "else:\n",
    "    plt.savefig(\"./figures/evecs_distplot_{}vs{}_L_K{}.png\".format(evec_i, evec_i+1, k_neighbors))\n"
   ]
  },
  {
   "cell_type": "code",
   "execution_count": null,
   "metadata": {},
   "outputs": [],
   "source": []
  },
  {
   "cell_type": "code",
   "execution_count": null,
   "metadata": {},
   "outputs": [],
   "source": [
    "for evec_i in range(evecs_to_plot - 1):\n",
    "    evec_colname = \"Evec_{}\".format(evec_i)\n",
    "    evec_quantiles = evec_df[(evec_df[evec_colname] >= quantiles[evec_i][0]) & \n",
    "                             (evec_df[evec_colname] <= quantiles[evec_i][1])]\n",
    "    sns.pairplot(evec_quantiles[[\"Evec_{}\".format(evec_i), \"Evec_{}\".format(evec_i+1)]])\n",
    "#     if use_mc:\n",
    "#         plt.savefig(\"./figures/evecs_pairplot_{}vs{}_L_mc_K{}.png\".format(evec_i, evec_i+1, k_neighbors))\n",
    "#     else:\n",
    "#         plt.savefig(\"./figures/evecs_pairplot_{}vs{}_L_K{}.png\".format(evec_i, evec_i+1, k_neighbors))\n",
    "\n",
    "#MAKE THIS PLOT FUNCTION A BIT MORE GENERAL. U NOTICE HOW EVEC4 vs EVEC3 SAYS A LOT ABOUT HOW THE CLUSTERS CAN FORM"
   ]
  },
  {
   "cell_type": "code",
   "execution_count": null,
   "metadata": {},
   "outputs": [],
   "source": [
    "sns.pairplot(evec_quantiles.iloc[:2000])"
   ]
  },
  {
   "cell_type": "code",
   "execution_count": null,
   "metadata": {},
   "outputs": [],
   "source": []
  },
  {
   "cell_type": "markdown",
   "metadata": {},
   "source": [
    "# Other"
   ]
  },
  {
   "cell_type": "code",
   "execution_count": null,
   "metadata": {},
   "outputs": [],
   "source": [
    "Y_umap_2d\n",
    "Y_cluster_labels\n",
    "Y_umap_2d[:, 0]"
   ]
  },
  {
   "cell_type": "code",
   "execution_count": null,
   "metadata": {},
   "outputs": [],
   "source": [
    "alpha = 1\n",
    "\n",
    "if use_mc:\n",
    "    filename_2d = \"./figures/umap2d_mc_K{}_topkevecs{}_lc{}_knn{}\".format(k_neighbors, top_k_evecs, lc, knn_clusters)\n",
    "    filename_3d = \"./figures/umap3d_mc_K{}_topkevecs{}_lc{}_knn{}\".format(k_neighbors, top_k_evecs, lc, knn_clusters)\n",
    "else:\n",
    "    filename_2d = \"./figures/umap2d_K{}_topkevecs{}_lc{}_knn{}\".format(k_neighbors, top_k_evecs, lc, knn_clusters)\n",
    "    filename_3d = \"./figures/umap3d_K{}_topkevecs{}_lc{}_knn{}\".format(k_neighbors, top_k_evecs, lc, knn_clusters)   \n",
    "\n",
    "data2d = {\"umap_1\": Y_umap_2d[:, 0].tolist(), \n",
    "          \"umap_2\": Y_umap_2d[:, 1].tolist(), \n",
    "          \"cluster\": Y_cluster_labels.tolist()}\n",
    "\n",
    "data3d = {\"umap_1\": Y_umap_3d[:, 0].tolist(), \n",
    "          \"umap_2\": Y_umap_3d[:, 1].tolist(), \n",
    "          \"umap_3\": Y_umap_3d[:, 2].tolist(), \n",
    "          \"cluster\": Y_cluster_labels.tolist()}"
   ]
  },
  {
   "cell_type": "code",
   "execution_count": null,
   "metadata": {},
   "outputs": [],
   "source": [
    "plt.figure(figsize=(15,15))\n",
    "ax2d = sns.scatterplot(x='umap_1', y='umap_2', hue='cluster', palette=\"bright\", data=df2d)\n",
    "plt.legend(loc=\"upper left\")"
   ]
  },
  {
   "cell_type": "code",
   "execution_count": null,
   "metadata": {},
   "outputs": [],
   "source": []
  },
  {
   "cell_type": "markdown",
   "metadata": {},
   "source": [
    "## Standardized Decomposition"
   ]
  },
  {
   "cell_type": "code",
   "execution_count": null,
   "metadata": {},
   "outputs": [],
   "source": [
    "L_standardized = pickle.load(open(\"L_standardized_sym_K{}_CSR.p\".format(k_neighbors - 1), \"rb\"))\n",
    "L_standardized"
   ]
  },
  {
   "cell_type": "code",
   "execution_count": null,
   "metadata": {},
   "outputs": [],
   "source": [
    "L_std = np.std(L, axis=0)\n",
    "L_mean = np.mean(L, axis=0)\n",
    "print(np.nonzero(L_std)[0])\n",
    "print(np.nonzero(L_mean)[0])\n",
    "print(np.all(np.nonzero(L_std)[0] == np.nonzero(L_mean)[0]))\n",
    "print(\"^ This means mean and std are nonzero at exactly the same places...\")\n",
    "\n",
    "L_standardized = np.subtract(L, L_mean, where=L_std!=0)\n",
    "L_standardized = np.divide(L, L_std, where=L_std!=0)"
   ]
  },
  {
   "cell_type": "code",
   "execution_count": null,
   "metadata": {},
   "outputs": [],
   "source": [
    "print(np.mean(L_standardized[:, 67]))\n",
    "print(np.std(L_standardized[:, 67]))"
   ]
  },
  {
   "cell_type": "code",
   "execution_count": null,
   "metadata": {},
   "outputs": [],
   "source": [
    "pickle.dump(csr_matrix(L_standardized), open(\"L_standardized_sym_K{}_CSR.p\".format(k_neighbors - 1), \"wb\"))"
   ]
  },
  {
   "cell_type": "code",
   "execution_count": null,
   "metadata": {},
   "outputs": [],
   "source": [
    "e_std = 100\n",
    "L_standardized_evals, L_standardized_evecs = scipy.sparse.linalg.eigsh(L_standardized, k=e_std)\n",
    "\n",
    "L_standardized_nan_idxs = np.argwhere(np.isnan(L_standardized_evals))\n",
    "print(\"Nans shape:\", L_standardized_nan_idxs.shape)\n",
    "\n",
    "plt.figure(figsize=(10,10))\n",
    "sns.scatterplot(range(L_standardized_evals.shape[0]), L_standardized_evals)\n",
    "plt.savefig(\"eigen_vals_eigs{}_L_standardized_K{}.png\".format(e_std, k_neighbors - 1))"
   ]
  },
  {
   "cell_type": "code",
   "execution_count": null,
   "metadata": {},
   "outputs": [],
   "source": [
    "pickle.dump(L_standardized_evals, open(\"L_standardized_evals_eigs{}_K{}.p\".format(e_std, k_neighbors - 1), \"wb\"))"
   ]
  },
  {
   "cell_type": "code",
   "execution_count": null,
   "metadata": {},
   "outputs": [],
   "source": [
    "a = np.array([[1,1,1],[2,2,2],[3,3,3]])\n",
    "b = np.array([1,2,3])\n",
    "\n",
    "print(a / b[:, None])"
   ]
  },
  {
   "cell_type": "markdown",
   "metadata": {},
   "source": [
    "# Cluster"
   ]
  },
  {
   "cell_type": "code",
   "execution_count": null,
   "metadata": {},
   "outputs": [],
   "source": [
    "X = L_evecs\n",
    "L_evecs_lengths = np.linalg.norm(X, axis=1)\n",
    "\n",
    "Y = X / L_evecs_lengths[:, None]"
   ]
  },
  {
   "cell_type": "code",
   "execution_count": null,
   "metadata": {},
   "outputs": [],
   "source": [
    "Y_pca = PCA().fit(Y.T)"
   ]
  },
  {
   "cell_type": "code",
   "execution_count": null,
   "metadata": {},
   "outputs": [],
   "source": [
    "n_feats = 5\n",
    "print(np.sum(Y_pca.explained_variance_ratio_[:n_feats]))"
   ]
  },
  {
   "cell_type": "code",
   "execution_count": null,
   "metadata": {},
   "outputs": [],
   "source": [
    "Y_pca_feats = Y_pca.components_[:n_feats].T\n",
    "Y_pca_feats.shape"
   ]
  },
  {
   "cell_type": "code",
   "execution_count": null,
   "metadata": {},
   "outputs": [],
   "source": [
    "n_clusters = 3\n",
    "Y_kmeans = KMeans(n_clusters=n_clusters).fit(Y_pca_feats)\n",
    "Y_cluster_labels = Y_kmeans.labels_\n",
    "np.unique(Y_cluster_labels)"
   ]
  },
  {
   "cell_type": "code",
   "execution_count": null,
   "metadata": {},
   "outputs": [],
   "source": [
    "visualizer = Visualizer()\n",
    "Y_umap_2d = visualizer.umap_embedding(Y_pca_feats, n_components=2)\n",
    "Y_umap_3d = visualizer.umap_embedding(Y_pca_feats, n_components=3)\n",
    "\n",
    "pickle.dump(Y_umap_2d, open(\"Y_umap_2d_pca{}.p\".format(n_feats), 'wb'))\n",
    "pickle.dump(Y_umap_3d, open(\"Y_umap_3d_pca{}.p\".format(n_feats), 'wb'))"
   ]
  },
  {
   "cell_type": "code",
   "execution_count": null,
   "metadata": {},
   "outputs": [],
   "source": [
    "Y_umap_2d = pickle.load(open(\"Y_umap_2d_pca{}.p\".format(n_feats), 'rb'))\n",
    "Y_umap_3d = pickle.load(open(\"Y_umap_3d_pca{}.p\".format(n_feats), 'rb'))\n",
    "\n",
    "alpha = 1\n",
    "visualizer.plot2d(\n",
    "    X=Y_umap_2d, \n",
    "    filename=\"Patient_Clusters_2D_spectral_K{}_eig{}_pca{}_clusters{}\".format(k_neighbors - 1, eigs, n_feats, n_clusters), \n",
    "    colors=Y_cluster_labels,\n",
    "    alpha = alpha\n",
    ")\n",
    "\n",
    "visualizer.plot3d(\n",
    "    X=Y_umap_3d, \n",
    "    filename=\"Patient_Clusters_3D_spectral_K{}_eig{}_pca{}_clusters{}\".format(k_neighbors - 1, eigs, n_feats, n_clusters), \n",
    "    colors=Y_cluster_labels,\n",
    "    alpha = alpha\n",
    ")"
   ]
  },
  {
   "cell_type": "markdown",
   "metadata": {},
   "source": [
    "# HDBSCAN"
   ]
  },
  {
   "cell_type": "code",
   "execution_count": null,
   "metadata": {},
   "outputs": [],
   "source": [
    "n_feats = 8\n",
    "minclustersize = 10\n",
    "\n",
    "Y_pca_feats = Y_pca.components_[:n_feats].T\n",
    "\n",
    "hdbscanner = hdbscan.HDBSCAN(min_cluster_size=minclustersize).fit(Y_pca_feats)\n",
    "hdbscan_labels = hdbscanner.fit_predict(Y_pca_feats)\n",
    "np.unique(hdbscan_labels, return_counts=True)"
   ]
  },
  {
   "cell_type": "code",
   "execution_count": null,
   "metadata": {},
   "outputs": [],
   "source": [
    "visualizer = Visualizer()\n",
    "Y_umap_2d = visualizer.umap_embedding(Y_pca_feats, n_components=2)\n",
    "Y_umap_3d = visualizer.umap_embedding(Y_pca_feats, n_components=3)\n",
    "\n",
    "pickle.dump(Y_umap_2d, open(\"Y_umap_2d_pca{}.p\".format(n_feats), 'wb'))\n",
    "pickle.dump(Y_umap_3d, open(\"Y_umap_3d_pca{}.p\".format(n_feats), 'wb'))"
   ]
  },
  {
   "cell_type": "code",
   "execution_count": null,
   "metadata": {},
   "outputs": [],
   "source": [
    "Y_umap_2d = pickle.load(open(\"Y_umap_2d_pca{}.p\".format(n_feats), 'rb'))\n",
    "Y_umap_3d = pickle.load(open(\"Y_umap_3d_pca{}.p\".format(n_feats), 'rb'))\n",
    "\n",
    "alpha = 1\n",
    "visualizer.plot2d(\n",
    "    X=Y_umap_2d, \n",
    "    filename=\"Patient_Clusters_2D_spectral_HDB_K{}_eig{}_pca{}_minclustersize{}\".format(k_neighbors - 1, eigs, n_feats, minclustersize), \n",
    "    colors=hdbscan_labels,\n",
    "    alpha = alpha\n",
    ")\n",
    "\n",
    "visualizer.plot3d(\n",
    "    X=Y_umap_3d, \n",
    "    filename=\"Patient_Clusters_3D_spectral_HDB_K{}_eig{}_pca{}_minclustersize{}\".format(k_neighbors - 1, eigs, n_feats, minclustersize), \n",
    "    colors=hdbscan_labels,\n",
    "    alpha = alpha\n",
    ")"
   ]
  },
  {
   "cell_type": "markdown",
   "metadata": {},
   "source": [
    "# Misc"
   ]
  },
  {
   "cell_type": "code",
   "execution_count": null,
   "metadata": {},
   "outputs": [],
   "source": [
    "icd_idx = 0\n",
    "icd_row = A_sym[icd_idx]\n",
    "has_icd = np.nonzero(icd_row)[1]\n",
    "has_icd"
   ]
  },
  {
   "cell_type": "code",
   "execution_count": null,
   "metadata": {},
   "outputs": [],
   "source": [
    "def sort_pdata(pdata, unwanted = set([])):\n",
    "    icd_x_patients = pdata.T\n",
    "    sorted_idx = []\n",
    "    seen = set([])\n",
    "\n",
    "    for icd_idx in tqdm(range(icd_x_patients.shape[0])):\n",
    "        if icd_idx in unwanted:\n",
    "            continue\n",
    "        icd_row = icd_x_patients[icd_idx]\n",
    "        has_icd = set(np.nonzero(icd_row)[1])\n",
    "        has_icd -= seen\n",
    "        sorted_idx += list(has_icd)\n",
    "        seen.update(sorted_idx)\n",
    "        \n",
    "    icd_x_patients_sorted = pdata[sorted_idx].T\n",
    "    print(len(seen))\n",
    "    return icd_x_patients_sorted\n",
    "\n",
    "A_sorted = sort_pdata(A_sym)\n",
    "A_sorted[A_sorted > 0] = 1"
   ]
  },
  {
   "cell_type": "code",
   "execution_count": null,
   "metadata": {},
   "outputs": [],
   "source": [
    "plt.figure(figsize=(40, 20))\n",
    "sns.heatmap(A_sorted.toarray()[:2000, :2000])\n",
    "plt.savefig(\"heatmap_A_K{}.png\".format(k_neighbors - 1))"
   ]
  }
 ],
 "metadata": {
  "kernelspec": {
   "display_name": "mengp369",
   "language": "python",
   "name": "mengp369"
  },
  "language_info": {
   "codemirror_mode": {
    "name": "ipython",
    "version": 3
   },
   "file_extension": ".py",
   "mimetype": "text/x-python",
   "name": "python",
   "nbconvert_exporter": "python",
   "pygments_lexer": "ipython3",
   "version": "3.6.9"
  }
 },
 "nbformat": 4,
 "nbformat_minor": 2
}
