{
 "cells": [
  {
   "cell_type": "code",
   "execution_count": 1,
   "metadata": {},
   "outputs": [],
   "source": [
    "import sys\n",
    "sys.path.append(\"./../../src\")\n",
    "import pandas as pd\n",
    "import numpy as np\n",
    "\n",
    "import torch\n",
    "from torch import nn, optim"
   ]
  },
  {
   "cell_type": "code",
   "execution_count": 2,
   "metadata": {},
   "outputs": [],
   "source": [
    "from vae_with_dataloader import VAE, VAETrainerWithDataLoader\n",
    "from dataloader import PatientSparseSimilarityDataset\n",
    "from visualizer_helper import Visualizer\n",
    "\n",
    "import pickle\n",
    "\n",
    "from config_reader import Config\n",
    "import os\n",
    "import math\n",
    "from sklearn.model_selection import train_test_split"
   ]
  },
  {
   "cell_type": "code",
   "execution_count": 3,
   "metadata": {},
   "outputs": [
    {
     "data": {
      "text/plain": [
       "{'patient_icd_path': './../../data/PATIENT_ICD_BINARY_SPARSE_CSR.p',\n",
       " 'icd9codes_path': '/data1/andrew/meng/mixehr/data/Mimic/mimic-iii-clinical-database-1.4/D_ICD_DIAGNOSES.csv.gz',\n",
       " 'subject_ids_path': './../../data/PATIENT_ICD_SUBJECT_IDS.csv',\n",
       " 'experiment_name': '200214_patient_similarity_clusters_default',\n",
       " 'encoder_dim': [(250, 500), (500, 250), (250, 100)],\n",
       " 'latent_dim': 25,\n",
       " 'decoder_dim': [(250, 500), (500, 250), (250, 100)],\n",
       " 'use_relu_encoder': True,\n",
       " 'use_relu_decoder': True,\n",
       " 'kld_beta': 1.0}"
      ]
     },
     "execution_count": 3,
     "metadata": {},
     "output_type": "execute_result"
    }
   ],
   "source": [
    "###Load Configuration file\n",
    "config = Config('./config.ini')\n",
    "experiment_name=config.experiment_name\n",
    "config.__dict__"
   ]
  },
  {
   "cell_type": "code",
   "execution_count": 4,
   "metadata": {
    "scrolled": false
   },
   "outputs": [
    {
     "name": "stdout",
     "output_type": "stream",
     "text": [
      "Loaded CSR Dataset w/ dim (46520, 6984)\n",
      "Building ANNOY index...\n",
      "    Complete.\n"
     ]
    }
   ],
   "source": [
    "###Load Data\n",
    "sparse_similarity_dataset = PatientSparseSimilarityDataset(csr_data_path=config.patient_icd_path,\n",
    "                                                           experiment_name=experiment_name)"
   ]
  },
  {
   "cell_type": "code",
   "execution_count": 5,
   "metadata": {},
   "outputs": [],
   "source": [
    "# icd9codes = pd.read_csv(config.icd9codes_path)\n",
    "# icd_analyzer = ICDAnalysisHelper(icd9codes_df = icd9codes, patient_icd_df = patient_icd_df)\n",
    "#icd_analyzer.lookup_icds(icd9codes, [\"4019\", \"41401\"])\n",
    "visualizer = Visualizer()"
   ]
  },
  {
   "cell_type": "code",
   "execution_count": null,
   "metadata": {},
   "outputs": [],
   "source": [
    "###Load Model\n",
    "model = VAE(\n",
    "    feature_dim = patient_icd_dataset.get_feat_dim(), \n",
    "    encoder_dim = config.encoder_dim,\n",
    "    latent_dim = config.latent_dim,\n",
    "    decoder_dim = config.decoder_dim,\n",
    "    use_relu_encoder= config.use_relu_encoder,\n",
    "    use_relu_decoder= config.use_relu_decoder\n",
    ")\n",
    "\n",
    "model = model.double()\n",
    "\n",
    "optimizer = optim.Adam(model.parameters(), lr=0.001)\n",
    "\n",
    "###Load Trainer\n",
    "trainer = VAETrainerWithDataLoader(\n",
    "    model=model, \n",
    "    optimizer=optimizer,\n",
    "    experiment_name=experiment_name,\n",
    "    kld_beta=config.kld_beta\n",
    ")"
   ]
  },
  {
   "cell_type": "code",
   "execution_count": null,
   "metadata": {},
   "outputs": [],
   "source": [
    "training_params = {'batch_size':64, 'shuffle': True}\n",
    "training_generator = torch.utils.data.DataLoader(sparse_similarity_dataset, **training_params)"
   ]
  },
  {
   "cell_type": "code",
   "execution_count": null,
   "metadata": {
    "scrolled": false
   },
   "outputs": [],
   "source": [
    "###Train Model\n",
    "trainer.train(\n",
    "    training_generator=training_generator,\n",
    "    epochs=80,\n",
    "    batch_size=40,\n",
    "    save_model_interval=5,\n",
    "    clip_gradients=False\n",
    ")"
   ]
  },
  {
   "cell_type": "code",
   "execution_count": null,
   "metadata": {},
   "outputs": [],
   "source": [
    "trainer.plot_elbo()\n",
    "trainer.plot_bce()\n",
    "trainer.plot_kld()"
   ]
  },
  {
   "cell_type": "code",
   "execution_count": null,
   "metadata": {},
   "outputs": [],
   "source": [
    "###Load pre-trained model\n",
    "epoch = 25\n",
    "model.load_state_dict(torch.load(\"./VAE_exp_{}_epoch_{}.pkl\".format(experiment_name, epoch)))\n",
    "trainer.model = model"
   ]
  },
  {
   "cell_type": "code",
   "execution_count": null,
   "metadata": {},
   "outputs": [],
   "source": [
    "###Encode data\n",
    "encoding_params = {'batch_size':64, 'shuffle': False}\n",
    "encoding_generator = torch.utils.data.DataLoader(patient_icd_dataset, **encoding_params)\n",
    "\n",
    "latent, means, var = trainer.encode_data(encoding_generator)\n",
    "pickle.dump(latent, open(\"latent_epochs_{}.p\".format(epoch), 'wb'))\n",
    "pickle.dump(means, open(\"means_epochs_{}.p\".format(epoch), 'wb'))\n",
    "pickle.dump(var, open(\"vars_epochs_{}.p\".format(epoch), 'wb'))"
   ]
  },
  {
   "cell_type": "code",
   "execution_count": null,
   "metadata": {},
   "outputs": [],
   "source": [
    "###Get UMAP representations\n",
    "X_umap = visualizer.umap_embedding(latent.cpu().detach().numpy(), n_components=3)\n",
    "mean_umap = visualizer.umap_embedding(means.cpu().detach().numpy(), n_components=3)\n",
    "var_umap = visualizer.umap_embedding(var.cpu().detach().numpy(), n_components=3)\n",
    "\n",
    "pickle.dump(X_umap, open(\"X_umap_3d.p\", 'wb'))\n",
    "pickle.dump(mean_umap, open(\"mean_umap_3d.p\", 'wb'))\n",
    "pickle.dump(var_umap, open(\"var_umap_3d.p\", 'wb'))"
   ]
  },
  {
   "cell_type": "code",
   "execution_count": null,
   "metadata": {
    "scrolled": false
   },
   "outputs": [],
   "source": [
    "# ###Additional Visualizations\n",
    "# baby_keywords = ['congenital', 'infant', 'newborn', 'neonatal', 'born', 'birth']\n",
    "# heart_keywords = ['heart', 'atrial', 'coronary', 'hypertension', 'vascular']\n",
    "\n",
    "\n",
    "# heart_patient_idxs_tr = icd_analyzer.get_patients_idxs_with_disease_keywords(patient_df=train_df, \n",
    "#                                                                              substrings=heart_keywords, \n",
    "#                                                                              case_sensitive=False\n",
    "#                                                                             )\n",
    "# baby_patient_idxs_tr = icd_analyzer.get_patients_idxs_with_disease_keywords(patient_df=train_df,\n",
    "#                                                                             substrings=baby_keywords,\n",
    "#                                                                             case_sensitive=False\n",
    "#                                                                            )\n",
    "\n",
    "# baby_heart_colors_tr = np.array([0 for i in range(X_umap_tr.shape[0])])\n",
    "# baby_heart_colors_tr[heart_patient_idxs_tr] = 100\n",
    "# baby_heart_colors_tr[baby_patient_idxs_tr] = 50\n",
    "\n",
    "# visualizer.plot2d(\n",
    "#     X=X_umap_tr, \n",
    "#     filename=\"Patient_Clusters_exp_{}_epoch_{}{}\".format(experiment_name, epoch, \"_baby_heart_umap_train\"), \n",
    "#     colors=baby_heart_colors_tr)\n",
    "\n",
    "\n",
    "# heart_patient_idxs_val = icd_analyzer.get_patients_idxs_with_disease_keywords(patient_df=val_df, \n",
    "#                                                                               substrings=heart_keywords,\n",
    "#                                                                               case_sensitive=False)\n",
    "# baby_patient_idxs_val = icd_analyzer.get_patients_idxs_with_disease_keywords(patient_df=val_df,\n",
    "#                                                                              substrings=baby_keywords,\n",
    "#                                                                              case_sensitive=False)\n",
    "\n",
    "# baby_heart_colors_val = np.array([0 for i in range(X_umap_val.shape[0])])\n",
    "# baby_heart_colors_val[heart_patient_idxs_val] = 100\n",
    "# baby_heart_colors_val[baby_patient_idxs_val] = 50\n",
    "# visualizer.plot2d(\n",
    "#     X=X_umap_val, \n",
    "#     filename=\"Patient_Clusters_exp_{}_epoch_{}{}\".format(experiment_name, epoch, \"_baby_heart_umap_val\"), \n",
    "#     colors=baby_heart_colors_val)"
   ]
  },
  {
   "cell_type": "code",
   "execution_count": null,
   "metadata": {},
   "outputs": [],
   "source": [
    "# X_umap_3d_tr = visualizer.umap_embedding(latent_train.cpu().detach().numpy(), n_components=3)\n",
    "\n",
    "# visualizer.plot3d(\n",
    "#     X=X_umap_3d_tr, \n",
    "#     filename=\"Patient_Clusters_exp_{}_epoch_{}{}\".format(experiment_name, epoch, \"_heart_umap_3D_train\"), \n",
    "#     colors=baby_heart_colors_tr,\n",
    "# )"
   ]
  },
  {
   "cell_type": "code",
   "execution_count": null,
   "metadata": {},
   "outputs": [],
   "source": [
    "# ###Plot UMAP representations\n",
    "# heart_patient_idxs = icd_analyzer.get_patients_idxs_with_disease_keywords(substrings=heart_keywords, case_sensitive=False)\n",
    "# heart_colors = np.array([0 for i in range(X_umap.shape[0])])\n",
    "# heart_colors[heart_patient_idxs] = 100\n",
    "\n",
    "# visualizer.plot2d(\n",
    "#     X=X_umap_tr, \n",
    "#     filename=\"Patient_Clusters_exp_{}_epoch_{}{}\".format(experiment_name, epoch, \"_heart_umap_train\"), \n",
    "#     colors=heart_colors,\n",
    "# )\n",
    "# visualizer.plot2d(\n",
    "#     X=X_umap_means_tr, \n",
    "#     filename=\"Patient_Clusters_exp_{}_epoch_{}{}\".format(experiment_name, epoch, \"_heart_umap_means_train\"), \n",
    "#     colors=heart_colors,\n",
    "# )\n",
    "# visualizer.plot2d(\n",
    "#     X=X_umap_vars_tr, \n",
    "#     filename=\"Patient_Clusters_exp_{}_epoch_{}{}\".format(experiment_name, epoch, \"_heart_umap_vars_train\"), \n",
    "#     colors=heart_colors,\n",
    "# )"
   ]
  },
  {
   "cell_type": "code",
   "execution_count": null,
   "metadata": {},
   "outputs": [],
   "source": []
  }
 ],
 "metadata": {
  "kernelspec": {
   "display_name": "mengp369",
   "language": "python",
   "name": "mengp369"
  },
  "language_info": {
   "codemirror_mode": {
    "name": "ipython",
    "version": 3
   },
   "file_extension": ".py",
   "mimetype": "text/x-python",
   "name": "python",
   "nbconvert_exporter": "python",
   "pygments_lexer": "ipython3",
   "version": "3.6.9"
  }
 },
 "nbformat": 4,
 "nbformat_minor": 2
}
