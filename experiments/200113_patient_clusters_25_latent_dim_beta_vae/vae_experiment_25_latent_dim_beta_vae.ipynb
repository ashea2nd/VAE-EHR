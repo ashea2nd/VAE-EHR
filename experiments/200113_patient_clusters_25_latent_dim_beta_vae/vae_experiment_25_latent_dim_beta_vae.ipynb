{
 "cells": [
  {
   "cell_type": "code",
   "execution_count": 1,
   "metadata": {},
   "outputs": [],
   "source": [
    "import sys\n",
    "sys.path.append(\"/data1/andrew/meng/mixehr/meng/VAE-EHR/src\")\n",
    "import pandas as pd\n",
    "\n",
    "import torch\n",
    "from torch import nn, optim"
   ]
  },
  {
   "cell_type": "code",
   "execution_count": 2,
   "metadata": {},
   "outputs": [],
   "source": [
    "import vae\n",
    "\n",
    "from vae import VAE, VAETrainer\n",
    "from icd_analysis_helper import ICDAnalysisHelper\n",
    "from visualizer_helper import Visualizer\n",
    "\n",
    "from config_reader import Config\n",
    "from vae import PatientICDDataset"
   ]
  },
  {
   "cell_type": "code",
   "execution_count": null,
   "metadata": {},
   "outputs": [],
   "source": [
    "###Load Configuration file\n",
    "config = Config('./config.ini')\n",
    "config.__dict__"
   ]
  },
  {
   "cell_type": "code",
   "execution_count": null,
   "metadata": {
    "scrolled": true
   },
   "outputs": [],
   "source": [
    "###Load Data\n",
    "patient_icd_df=pd.read_csv(config.patient_icd_path, sep=' ')\n",
    "patient_icd_data = patient_icd_df.drop('SUBJECT_ID', axis=1)\n",
    "data = torch.tensor(patient_icd_data.values).float()\n",
    "print(data.shape)\n",
    "\n",
    "icd9codes = pd.read_csv(config.icd9codes_path)\n",
    "icd_analyzer = ICDAnalysisHelper(icd9codes_df = icd9codes, patient_icd_df = patient_icd_df)\n",
    "#icd_analyzer.lookup_icds(icd9codes, [\"4019\", \"41401\"])\n",
    "\n",
    "visualizer = Visualizer()"
   ]
  },
  {
   "cell_type": "code",
   "execution_count": null,
   "metadata": {},
   "outputs": [],
   "source": [
    "###Load Model\n",
    "print(\"Feature_dim: {}\".format(data.shape[1]))\n",
    "model = VAE(\n",
    "    feature_dim = data.shape[1], \n",
    "    encoder_dim = config.encoder_dim,\n",
    "    latent_dim = config.latent_dim,\n",
    "    decoder_dim = config.decoder_dim,\n",
    "    use_relu= config.use_relu\n",
    ")\n",
    "\n",
    "optimizer = optim.Adam(model.parameters(), lr=0.001)\n",
    "print(type(optimizer))"
   ]
  },
  {
   "cell_type": "code",
   "execution_count": null,
   "metadata": {},
   "outputs": [],
   "source": [
    "###Load Trainer\n",
    "experiment_name=config.experiment_name\n",
    "trainer = VAETrainer(\n",
    "    model=model, \n",
    "    optimizer=optimizer,\n",
    "    experiment_name=experiment_name,\n",
    "    kld_beta=config.kld_beta\n",
    ")"
   ]
  },
  {
   "cell_type": "code",
   "execution_count": null,
   "metadata": {},
   "outputs": [],
   "source": [
    "###Train Model\n",
    "trainer.train(\n",
    "    data=data, \n",
    "    epochs=80,\n",
    "    batch_size=40,\n",
    "    save_model_interval=5,\n",
    "    clip_gradients=False\n",
    ")"
   ]
  },
  {
   "cell_type": "code",
   "execution_count": null,
   "metadata": {},
   "outputs": [],
   "source": [
    "###Load pre-trained model\n",
    "epoch = 40\n",
    "model.load_state_dict(torch.load(\"./VAE_exp_{}_epoch_{}.pkl\".format(experiment_name, epoch)))\n",
    "trainer.model = model"
   ]
  },
  {
   "cell_type": "code",
   "execution_count": null,
   "metadata": {},
   "outputs": [],
   "source": [
    "###Encode data\n",
    "latent, means, var = trainer.encode_data(data)"
   ]
  },
  {
   "cell_type": "code",
   "execution_count": null,
   "metadata": {},
   "outputs": [],
   "source": [
    "###Get UMAP representations\n",
    "X_umap = visualizer.umap_embedding(latent.cpu().detach().numpy())\n",
    "X_umap_means = visualizer.umap_embedding(means.cpu().detach().numpy())\n",
    "X_umap_vars = visualizer.umap_embedding(var.cpu().detach().numpy())"
   ]
  },
  {
   "cell_type": "code",
   "execution_count": null,
   "metadata": {},
   "outputs": [],
   "source": [
    "###Plot UMAP representations\n",
    "heart_keywords = ['heart', 'atrial', 'coronary', 'hypertension', 'vascular']\n",
    "heart_patient_idxs = icd_analyzer.get_patients_idxs_with_disease_keywords(substrings=heart_keywords, case_sensitive=False)\n",
    "heart_colors = np.array([0 for i in range(X_umap.shape[0])])\n",
    "heart_colors[heart_patient_idxs] = 100\n",
    "\n",
    "visualizer.plot2d(\n",
    "    X=X_umap, \n",
    "    filename=\"Patient_Clusters_exp_{}_epoch_{}{}\".format(experiment_name, epoch, \"_heart_umap\"), \n",
    "    colors=heart_colors,\n",
    ")\n",
    "visualizer.plot2d(\n",
    "    X=X_umap_means, \n",
    "    filename=\"Patient_Clusters_exp_{}_epoch_{}{}\".format(experiment_name, epoch, \"_heart_umap_means\"), \n",
    "    colors=heart_colors,\n",
    ")\n",
    "visualizer.plot2d(\n",
    "    X=X_umap_vars, \n",
    "    filename=\"Patient_Clusters_exp_{}_epoch_{}{}\".format(experiment_name, epoch, \"_heart_umap_vars\"), \n",
    "    colors=heart_colors,\n",
    ")"
   ]
  },
  {
   "cell_type": "code",
   "execution_count": null,
   "metadata": {},
   "outputs": [],
   "source": [
    "###Additional Visualizations\n",
    "baby_keywords = ['congenital', 'infant', 'newborn', 'neonatal', 'born', 'birth']\n",
    "baby_patient_idxs = icd_analyzer.get_patients_idxs_with_disease_keywords(substrings=baby_keywords, case_sensitive=False)\n",
    "\n",
    "baby_heart_colors = np.array([0 for i in range(X_umap.shape[0])])\n",
    "baby_heart_colors[heart_patient_idxs] = 100\n",
    "baby_heart_colors[baby_patient_idxs] = 50\n",
    "\n",
    "visualizer.plot2d(X_umap, \"Patient_Clusters_exp_{}_epoch_{}{}\".format(experiment_name, epoch, \"_baby_heart_umap\"), colors=baby_heart_colors)"
   ]
  },
  {
   "cell_type": "code",
   "execution_count": null,
   "metadata": {},
   "outputs": [],
   "source": [
    "X_umap_3d = visualizer.umap_embedding(latent.cpu().detach().numpy(), n_components=3)\n",
    "\n",
    "visualizer.plot3d(\n",
    "    X=X_umap_3d, \n",
    "    filename=\"Patient_Clusters_exp_{}_epoch_{}{}\".format(experiment_name, epoch, \"_heart_umap_3D\"), \n",
    "    colors=baby_heart_colors,\n",
    ")"
   ]
  },
  {
   "cell_type": "code",
   "execution_count": null,
   "metadata": {},
   "outputs": [],
   "source": []
  }
 ],
 "metadata": {
  "kernelspec": {
   "display_name": "mengp369",
   "language": "python",
   "name": "mengp369"
  },
  "language_info": {
   "codemirror_mode": {
    "name": "ipython",
    "version": 3
   },
   "file_extension": ".py",
   "mimetype": "text/x-python",
   "name": "python",
   "nbconvert_exporter": "python",
   "pygments_lexer": "ipython3",
   "version": "3.6.9"
  }
 },
 "nbformat": 4,
 "nbformat_minor": 2
}
