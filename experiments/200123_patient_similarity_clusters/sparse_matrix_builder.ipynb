{
 "cells": [
  {
   "cell_type": "code",
   "execution_count": 9,
   "metadata": {},
   "outputs": [],
   "source": [
    "import pandas as pd\n",
    "import numpy as np\n",
    "import scipy\n",
    "from scipy.spatial.distance import pdist, squareform\n",
    "from scipy.sparse import coo_matrix, csc_matrix, csr_matrix\n",
    "from sklearn.metrics.pairwise import cosine_similarity\n",
    "from sklearn.preprocessing import normalize\n",
    "import math\n",
    "import pickle\n",
    "from annoy import AnnoyIndex\n",
    "from tqdm import tqdm\n",
    "import torch.sparse\n",
    "\n",
    "patient_icd_path=\"/data1/andrew/meng/mixehr/data/Mimic/andrew_outputs/PATIENT_ICD_BINARY.csv\""
   ]
  },
  {
   "cell_type": "code",
   "execution_count": null,
   "metadata": {},
   "outputs": [],
   "source": [
    "patient_icd_df = pd.read_csv(patient_icd_path, sep=' ')"
   ]
  },
  {
   "cell_type": "code",
   "execution_count": null,
   "metadata": {},
   "outputs": [],
   "source": [
    "patient_data = patient_icd_df.drop(\"SUBJECT_ID\", axis=1).as_matrix()"
   ]
  },
  {
   "cell_type": "code",
   "execution_count": null,
   "metadata": {},
   "outputs": [],
   "source": [
    "subject_ids = pd.read_csv(\"PATIENT_ICD_SUBJECT_IDS.csv\")"
   ]
  },
  {
   "cell_type": "code",
   "execution_count": null,
   "metadata": {},
   "outputs": [],
   "source": [
    "patient_data_sparse[0:]"
   ]
  },
  {
   "cell_type": "code",
   "execution_count": null,
   "metadata": {},
   "outputs": [],
   "source": [
    "patient_icd_df = pd.read_csv(patient_icd_path, sep=' ')\n",
    "\n",
    "patient_data_sparse_coo = coo_matrix(patient_data)\n",
    "patient_data_sparse_csc = csc_matrix(patient_data)\n",
    "patient_data_sparse_csr = csr_matrix(patient_data)\n",
    "patient_data_norm = normalize(patient_data_sparse_csr)\n",
    "\n",
    "# pickle.dump(patient_data_sparse_coo, open(\"PATIENT_ICD_BINARY_SPARSE_COO.p\", 'wb'))\n",
    "# pickle.dump(patient_data_sparse_csc, open(\"PATIENT_ICD_BINARY_SPARSE_CSC.p\", 'wb'))\n",
    "# pickle.dump(patient_data_sparse_csr, open(\"PATIENT_ICD_BINARY_SPARSE_CSR.p\", 'wb'))\n",
    "# pickle.dump(patient_data_norm, open(\"PATIENT_ICD_BINARY_SPARSE_CSR_NORM.p\", 'wb'))"
   ]
  },
  {
   "cell_type": "code",
   "execution_count": 2,
   "metadata": {},
   "outputs": [],
   "source": [
    "patient_data_sparse_coo = pickle.load(open(\"PATIENT_ICD_BINARY_SPARSE_COO.p\", 'rb'))\n",
    "patient_data_sparse_csc = pickle.load(open(\"PATIENT_ICD_BINARY_SPARSE_CSC.p\", 'rb'))\n",
    "patient_data_sparse_csr = pickle.load(open(\"PATIENT_ICD_BINARY_SPARSE_CSR.p\", 'rb'))\n",
    "patient_data_norm_csr = pickle.load(open(\"PATIENT_ICD_BINARY_SPARSE_CSR_NORM.p\", 'rb'))"
   ]
  },
  {
   "cell_type": "code",
   "execution_count": null,
   "metadata": {},
   "outputs": [],
   "source": [
    "sparse_sim_csr = patient_data_sparse_csr[:batch_size].dot(patient_data_sparse_csr.T)"
   ]
  },
  {
   "cell_type": "code",
   "execution_count": null,
   "metadata": {},
   "outputs": [],
   "source": [
    "%%timeit -n 1 -r 1\n",
    "\n",
    "batch_size = 40\n",
    "\n",
    "batch = patient_data_norm_csr[:5000]\n",
    "full = patient_data_norm_csr\n",
    "\n",
    "batch.dot(full.T)"
   ]
  },
  {
   "cell_type": "code",
   "execution_count": null,
   "metadata": {},
   "outputs": [],
   "source": [
    "sparse_sim_coo = coo_matrix(spare_sim_csr)"
   ]
  },
  {
   "cell_type": "code",
   "execution_count": null,
   "metadata": {},
   "outputs": [],
   "source": [
    "sparse_sim_coo.row"
   ]
  },
  {
   "cell_type": "code",
   "execution_count": null,
   "metadata": {},
   "outputs": [],
   "source": [
    "sparse_sim_coo.col\n",
    "idxs = np.vstack((sparse_sim_coo.row, sparse_sim_coo.col))\n",
    "idxs"
   ]
  },
  {
   "cell_type": "code",
   "execution_count": null,
   "metadata": {},
   "outputs": [],
   "source": [
    "i = torch.LongTensor(idxs)\n",
    "v = torch.FloatTensor(sparse_sim_coo.data)\n",
    "shape = sparse_sim_coo.shape\n",
    "\n",
    "torch.sparse.FloatTensor(i, v, torch.Size(shape)).to_dense()"
   ]
  },
  {
   "cell_type": "code",
   "execution_count": 21,
   "metadata": {},
   "outputs": [],
   "source": [
    "def build_annoy_index(sparse_csr_matrix: scipy.sparse, \n",
    "                      filename: str,\n",
    "                      distance_metric: str = 'angular',\n",
    "                      n_trees: int = 10):\n",
    "    if distance_metric in ['cosine', 'angular']:\n",
    "        distance_metric = 'angular'\n",
    "        \n",
    "    feat_size = sparse_csr_matrix.shape[-1]\n",
    "    annoy = AnnoyIndex(feat_size, distance_metric)\n",
    "    for i in range(sparse_csr_matrix.shape[0]):\n",
    "        annoy.add_item(i, sparse_csr_matrix[i].toarray()[0])    \n",
    "    annoy.build(n_trees)\n",
    "    annoy.save(\"{}.ann\".format(filename))\n",
    "\n",
    "def load_annoy_index(feat_size: int, \n",
    "                     filename: str, \n",
    "                     distance_metric: str=\"angular\"):\n",
    "    a = AnnoyIndex(feat_size, distance_metric)\n",
    "    a.load(\"{}.ann\".format(filename))\n",
    "    return a\n",
    "\n",
    "def compute_sparse_similarity(batch: scipy.sparse, \n",
    "                              full: scipy.sparse, \n",
    "                              metric: str=\"cosine\"):\n",
    "    assert batch.shape[-1] == full.shape[-1], \"batch and data feature dimensions do not match\"\n",
    "    \n",
    "    if metric == \"cosine\":\n",
    "        batch = normalize(csr_matrix(batch))\n",
    "        full = normalize(csr_matrix(full))\n",
    "        return batch.dot(full.T)\n",
    "    \n",
    "def construct_knn_graph(batch: scipy.sparse, \n",
    "                         full: scipy.sparse,\n",
    "                         filename: str = \"PATIENT_ICD_ANNOY_INDEX_ANGULAR\",\n",
    "                         distance_metric: str=\"cosine\"):\n",
    "    \n",
    "    feat_size = batch[0].shape[-1]\n",
    "    try:\n",
    "        annoy = load_annoy_index(feat_size, filename)\n",
    "    except OSError:\n",
    "        annoy = build_annoy_index(full, filename, distance_metric)\n",
    "        \n",
    "    annoy = load_annoy_index(full.shape[-1], filename)\n",
    "    sims = np.zeros((batch.shape[0], full.shape[0]))\n",
    "    for i, row in enumerate(batch):\n",
    "        nn_idxs = annoy.get_nns_by_item(i, 100)\n",
    "        distances = [annoy.get_distance(i, nn) for nn in nn_idxs]\n",
    "        sims[i][nn_idxs] = distances\n",
    "        \n",
    "    return sims"
   ]
  },
  {
   "cell_type": "code",
   "execution_count": 24,
   "metadata": {},
   "outputs": [
    {
     "data": {
      "text/plain": [
       "3680"
      ]
     },
     "execution_count": 24,
     "metadata": {},
     "output_type": "execute_result"
    }
   ],
   "source": [
    "construct_knn_graph(batch, full)"
   ]
  },
  {
   "cell_type": "code",
   "execution_count": null,
   "metadata": {},
   "outputs": [],
   "source": [
    "annoy = load_annoy_index(patient_data_norm_csr, None)"
   ]
  },
  {
   "cell_type": "code",
   "execution_count": 13,
   "metadata": {},
   "outputs": [
    {
     "data": {
      "text/html": [
       "<div>\n",
       "<style scoped>\n",
       "    .dataframe tbody tr th:only-of-type {\n",
       "        vertical-align: middle;\n",
       "    }\n",
       "\n",
       "    .dataframe tbody tr th {\n",
       "        vertical-align: top;\n",
       "    }\n",
       "\n",
       "    .dataframe thead th {\n",
       "        text-align: right;\n",
       "    }\n",
       "</style>\n",
       "<table border=\"1\" class=\"dataframe\">\n",
       "  <thead>\n",
       "    <tr style=\"text-align: right;\">\n",
       "      <th></th>\n",
       "      <th>SUBJECT_ID</th>\n",
       "    </tr>\n",
       "  </thead>\n",
       "  <tbody>\n",
       "    <tr>\n",
       "      <th>0</th>\n",
       "      <td>109</td>\n",
       "    </tr>\n",
       "    <tr>\n",
       "      <th>1</th>\n",
       "      <td>112</td>\n",
       "    </tr>\n",
       "    <tr>\n",
       "      <th>2</th>\n",
       "      <td>113</td>\n",
       "    </tr>\n",
       "    <tr>\n",
       "      <th>3</th>\n",
       "      <td>114</td>\n",
       "    </tr>\n",
       "    <tr>\n",
       "      <th>4</th>\n",
       "      <td>115</td>\n",
       "    </tr>\n",
       "    <tr>\n",
       "      <th>...</th>\n",
       "      <td>...</td>\n",
       "    </tr>\n",
       "    <tr>\n",
       "      <th>46515</th>\n",
       "      <td>97164</td>\n",
       "    </tr>\n",
       "    <tr>\n",
       "      <th>46516</th>\n",
       "      <td>97484</td>\n",
       "    </tr>\n",
       "    <tr>\n",
       "      <th>46517</th>\n",
       "      <td>97488</td>\n",
       "    </tr>\n",
       "    <tr>\n",
       "      <th>46518</th>\n",
       "      <td>97492</td>\n",
       "    </tr>\n",
       "    <tr>\n",
       "      <th>46519</th>\n",
       "      <td>97497</td>\n",
       "    </tr>\n",
       "  </tbody>\n",
       "</table>\n",
       "<p>46520 rows × 1 columns</p>\n",
       "</div>"
      ],
      "text/plain": [
       "       SUBJECT_ID\n",
       "0             109\n",
       "1             112\n",
       "2             113\n",
       "3             114\n",
       "4             115\n",
       "...           ...\n",
       "46515       97164\n",
       "46516       97484\n",
       "46517       97488\n",
       "46518       97492\n",
       "46519       97497\n",
       "\n",
       "[46520 rows x 1 columns]"
      ]
     },
     "execution_count": 13,
     "metadata": {},
     "output_type": "execute_result"
    }
   ],
   "source": [
    "subject_ids = pd.read_csv(\"PATIENT_ICD_SUBJECT_IDS.csv\")\n",
    "subject_ids"
   ]
  },
  {
   "cell_type": "code",
   "execution_count": 14,
   "metadata": {},
   "outputs": [
    {
     "data": {
      "text/plain": [
       "109"
      ]
     },
     "execution_count": 14,
     "metadata": {},
     "output_type": "execute_result"
    }
   ],
   "source": [
    "subject_ids.iloc[0][\"SUBJECT_ID\"]"
   ]
  },
  {
   "cell_type": "code",
   "execution_count": null,
   "metadata": {},
   "outputs": [],
   "source": []
  }
 ],
 "metadata": {
  "kernelspec": {
   "display_name": "mengp369",
   "language": "python",
   "name": "mengp369"
  },
  "language_info": {
   "codemirror_mode": {
    "name": "ipython",
    "version": 3
   },
   "file_extension": ".py",
   "mimetype": "text/x-python",
   "name": "python",
   "nbconvert_exporter": "python",
   "pygments_lexer": "ipython3",
   "version": "3.6.9"
  }
 },
 "nbformat": 4,
 "nbformat_minor": 2
}
