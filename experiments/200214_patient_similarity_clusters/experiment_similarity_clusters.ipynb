{
 "cells": [
  {
   "cell_type": "code",
   "execution_count": 1,
   "metadata": {},
   "outputs": [],
   "source": [
    "import sys\n",
    "sys.path.append(\"./../../src\")\n",
    "import pandas as pd\n",
    "import numpy as np\n",
    "\n",
    "import torch\n",
    "from torch import nn, optim"
   ]
  },
  {
   "cell_type": "code",
   "execution_count": 2,
   "metadata": {},
   "outputs": [],
   "source": [
    "from vae_with_dataloader import VAE, VAETrainerWithDataLoader\n",
    "from dataloader import PatientSparseSimilarityDataset\n",
    "from visualizer_helper import Visualizer\n",
    "\n",
    "import pickle\n",
    "\n",
    "from config_reader import Config\n",
    "import os\n",
    "import math\n",
    "from sklearn.model_selection import train_test_split"
   ]
  },
  {
   "cell_type": "code",
   "execution_count": 3,
   "metadata": {},
   "outputs": [
    {
     "data": {
      "text/plain": [
       "{'patient_icd_path': './../../data/PATIENT_ICD_BINARY_SPARSE_CSR.p',\n",
       " 'icd9codes_path': '/data1/andrew/meng/mixehr/data/Mimic/mimic-iii-clinical-database-1.4/D_ICD_DIAGNOSES.csv.gz',\n",
       " 'subject_ids_path': './../../data/PATIENT_ICD_SUBJECT_IDS.csv',\n",
       " 'experiment_name': '200214_patient_similarity_clusters_default',\n",
       " 'encoder_dim': [(250, 500), (500, 250), (250, 100)],\n",
       " 'latent_dim': 25,\n",
       " 'decoder_dim': [(250, 500), (500, 250), (250, 100)],\n",
       " 'use_relu_encoder': True,\n",
       " 'use_relu_decoder': True,\n",
       " 'kld_beta': 1.0}"
      ]
     },
     "execution_count": 3,
     "metadata": {},
     "output_type": "execute_result"
    }
   ],
   "source": [
    "###Load Configuration file\n",
    "config = Config('./config.ini')\n",
    "experiment_name=config.experiment_name\n",
    "config.__dict__"
   ]
  },
  {
   "cell_type": "code",
   "execution_count": 4,
   "metadata": {
    "scrolled": false
   },
   "outputs": [
    {
     "name": "stdout",
     "output_type": "stream",
     "text": [
      "Loaded CSR Dataset w/ dim (46520, 6984)\n",
      "Loaded existing ANNOY index from ./../../../large_data_files/200214_patient_similarity_clusters_default.ann\n"
     ]
    }
   ],
   "source": [
    "###Load Data\n",
    "sparse_similarity_dataset = PatientSparseSimilarityDataset(csr_data_path=config.patient_icd_path,\n",
    "                                                           experiment_name=experiment_name)"
   ]
  },
  {
   "cell_type": "code",
   "execution_count": 5,
   "metadata": {},
   "outputs": [],
   "source": [
    "# icd9codes = pd.read_csv(config.icd9codes_path)\n",
    "# icd_analyzer = ICDAnalysisHelper(icd9codes_df = icd9codes, patient_icd_df = patient_icd_df)\n",
    "#icd_analyzer.lookup_icds(icd9codes, [\"4019\", \"41401\"])\n",
    "visualizer = Visualizer()\n",
    "patient_icd_dataset = sparse_similarity_dataset"
   ]
  },
  {
   "cell_type": "code",
   "execution_count": 6,
   "metadata": {},
   "outputs": [],
   "source": [
    "###Load Model\n",
    "model = VAE(\n",
    "    feature_dim = patient_icd_dataset.get_feat_dim(), \n",
    "    encoder_dim = config.encoder_dim,\n",
    "    latent_dim = config.latent_dim,\n",
    "    decoder_dim = config.decoder_dim,\n",
    "    use_relu_encoder= config.use_relu_encoder,\n",
    "    use_relu_decoder= config.use_relu_decoder\n",
    ")\n",
    "\n",
    "model = model.double()\n",
    "\n",
    "optimizer = optim.Adam(model.parameters(), lr=0.005)\n",
    "\n",
    "###Load Trainer\n",
    "trainer = VAETrainerWithDataLoader(\n",
    "    model=model, \n",
    "    optimizer=optimizer,\n",
    "    experiment_name=config.experiment_name,\n",
    "    kld_beta=config.kld_beta\n",
    ")"
   ]
  },
  {
   "cell_type": "code",
   "execution_count": 7,
   "metadata": {},
   "outputs": [],
   "source": [
    "training_params = {'batch_size':32, 'shuffle': True}\n",
    "training_generator = torch.utils.data.DataLoader(sparse_similarity_dataset, **training_params)"
   ]
  },
  {
   "cell_type": "code",
   "execution_count": null,
   "metadata": {},
   "outputs": [],
   "source": [
    "###Train Model\n",
    "trainer.train(\n",
    "    training_generator=training_generator,\n",
    "    epochs=80,\n",
    "    save_model_interval=2,\n",
    "    clip_gradients=False\n",
    ")"
   ]
  },
  {
   "cell_type": "code",
   "execution_count": null,
   "metadata": {},
   "outputs": [],
   "source": [
    "trainer.plot_elbo()\n",
    "trainer.plot_bce()\n",
    "trainer.plot_kld()"
   ]
  },
  {
   "cell_type": "code",
   "execution_count": 8,
   "metadata": {},
   "outputs": [],
   "source": [
    "###Load pre-trained model\n",
    "epoch = 6\n",
    "model.load_state_dict(torch.load(\"./VAE_exp_{}_epoch_{}.pkl\".format(experiment_name, epoch)))\n",
    "trainer.model = model"
   ]
  },
  {
   "cell_type": "code",
   "execution_count": null,
   "metadata": {},
   "outputs": [],
   "source": [
    "###Encode data\n",
    "encoding_params = {'batch_size':64, 'shuffle': False}\n",
    "encoding_generator = torch.utils.data.DataLoader(patient_icd_dataset, **encoding_params)\n",
    "\n",
    "latent, means, var = trainer.encode_data(encoding_generator)\n",
    "pickle.dump(latent, open(\"latent_epochs_{}.p\".format(epoch), 'wb'))\n",
    "pickle.dump(means, open(\"means_epochs_{}.p\".format(epoch), 'wb'))\n",
    "pickle.dump(var, open(\"vars_epochs_{}.p\".format(epoch), 'wb'))"
   ]
  },
  {
   "cell_type": "code",
   "execution_count": null,
   "metadata": {},
   "outputs": [],
   "source": [
    "###Get UMAP representations\n",
    "X_umap = visualizer.umap_embedding(latent.cpu().detach().numpy(), n_components=3)\n",
    "mean_umap = visualizer.umap_embedding(means.cpu().detach().numpy(), n_components=3)\n",
    "var_umap = visualizer.umap_embedding(var.cpu().detach().numpy(), n_components=3)\n",
    "\n",
    "pickle.dump(X_umap, open(\"X_umap_3d.p\", 'wb'))\n",
    "pickle.dump(mean_umap, open(\"mean_umap_3d.p\", 'wb'))\n",
    "pickle.dump(var_umap, open(\"var_umap_3d.p\", 'wb'))"
   ]
  },
  {
   "cell_type": "code",
   "execution_count": null,
   "metadata": {},
   "outputs": [],
   "source": []
  }
 ],
 "metadata": {
  "kernelspec": {
   "display_name": "mengp369",
   "language": "python",
   "name": "mengp369"
  },
  "language_info": {
   "codemirror_mode": {
    "name": "ipython",
    "version": 3
   },
   "file_extension": ".py",
   "mimetype": "text/x-python",
   "name": "python",
   "nbconvert_exporter": "python",
   "pygments_lexer": "ipython3",
   "version": "3.6.9"
  }
 },
 "nbformat": 4,
 "nbformat_minor": 2
}
