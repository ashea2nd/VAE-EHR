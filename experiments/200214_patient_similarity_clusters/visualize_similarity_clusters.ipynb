{
 "cells": [
  {
   "cell_type": "code",
   "execution_count": null,
   "metadata": {},
   "outputs": [],
   "source": [
    "import sys\n",
    "sys.path.append(\"/data1/andrew/meng/mixehr/meng/VAE-EHR/src\")\n",
    "import os\n",
    "\n",
    "print(sys.version)"
   ]
  },
  {
   "cell_type": "code",
   "execution_count": null,
   "metadata": {},
   "outputs": [],
   "source": [
    "from typing import List, Tuple\n",
    "import numpy as np \n",
    "import pandas as pd\n",
    "\n",
    "import torch\n",
    "from torch import nn, optim"
   ]
  },
  {
   "cell_type": "code",
   "execution_count": null,
   "metadata": {},
   "outputs": [],
   "source": [
    "from vae import VAE\n",
    "from vae import VAETrainer\n",
    "from config_reader import Config\n",
    "from icd_analysis_helper import ICDAnalysisHelper\n",
    "from visualizer_helper import Visualizer"
   ]
  },
  {
   "cell_type": "code",
   "execution_count": null,
   "metadata": {},
   "outputs": [],
   "source": [
    "config = Config('./config.ini')\n",
    "config.__dict__"
   ]
  },
  {
   "cell_type": "code",
   "execution_count": null,
   "metadata": {},
   "outputs": [],
   "source": [
    "visualizer = Visualizer()"
   ]
  },
  {
   "cell_type": "code",
   "execution_count": null,
   "metadata": {
    "scrolled": false
   },
   "outputs": [],
   "source": [
    "###Encode and plot 3d Data\n",
    "epoch = 6\n",
    "X_umap_3d = pickle.load(open(\"X_umap_3d.p\", 'rb'))\n",
    "mean_umap_3d = pickle.load(open(\"mean_umap_3d.p\", 'rb'))\n",
    "var_umap_3d = pickle.load(open(\"var_umap_3d.p\", 'rb'))\n",
    "\n",
    "alpha3d = 0.2\n",
    "\n",
    "visualizer.plot3d(\n",
    "    X=X_umap_3d, \n",
    "    filename=\"Patient_Clusters_3D_exp_{}_epoch_{}{}\".format(experiment_name, epoch, \"_everyone_imputed\"), \n",
    "    colors=[1 for i in range(X_umap_3d.shape[0])],\n",
    "    alpha = alpha3d\n",
    ")\n",
    "\n",
    "visualizer.plot3d(\n",
    "    X=mean_umap_3d, \n",
    "    filename=\"Patient_Clusters_3D_exp_{}_epoch_{}{}\".format(experiment_name, epoch, \"_everyone_imputed_means\"), \n",
    "    colors=[1 for i in range(X_umap_3d.shape[0])],\n",
    "    alpha = alpha3d\n",
    ")\n",
    "\n",
    "visualizer.plot3d(\n",
    "    X=var_umap_3d, \n",
    "    filename=\"Patient_Clusters_3D_exp_{}_epoch_{}{}\".format(experiment_name, epoch, \"_everyone_imputed_vars\"), \n",
    "    colors=[1 for i in range(X_umap_3d.shape[0])],\n",
    "    alpha = alpha3d\n",
    ")\n",
    "\n",
    "visualizer.plot2d(\n",
    "    X=X_umap_3d[:, :-1], \n",
    "    filename=\"Patient_Clusters_2D_exp_{}_epoch_{}{}\".format(experiment_name, epoch, \"_everyone_imputed_from_3d\"), \n",
    "    colors=[1 for i in range(X_umap_3d.shape[0])],\n",
    "    alpha = alpha3d\n",
    ")\n",
    "\n",
    "visualizer.plot2d(\n",
    "    X=mean_umap_3d[:, :-1], \n",
    "    filename=\"Patient_Clusters_2D_exp_{}_epoch_{}{}\".format(experiment_name, epoch, \"_everyone_imputed_means_from_3d\"), \n",
    "    colors=[1 for i in range(X_umap_3d.shape[0])],\n",
    "    alpha = alpha3d\n",
    ")\n",
    "\n",
    "visualizer.plot2d(\n",
    "    X=var_umap_3d[:, :-1], \n",
    "    filename=\"Patient_Clusters_2D_exp_{}_epoch_{}{}\".format(experiment_name, epoch, \"_everyone_imputed_vars_from_3d\"), \n",
    "    colors=[1 for i in range(X_umap_3d.shape[0])],\n",
    "    alpha = alpha3d\n",
    ")"
   ]
  },
  {
   "cell_type": "code",
   "execution_count": null,
   "metadata": {},
   "outputs": [],
   "source": [
    "###Encode and plot 3d Data\n",
    "\n",
    "X_umap_3d_v = pickle.load(open(\"X_umap_3d_vanilla.p\", 'rb'))\n",
    "mean_umap_3d_v = pickle.load(open(\"mean_umap_3d_vanilla.p\", 'rb'))\n",
    "var_umap_3d_v = pickle.load(open(\"var_umap_3d_vanilla.p\", 'rb'))\n",
    "\n",
    "alpha3d = 0.2\n",
    "\n",
    "visualizer.plot3d(\n",
    "    X=X_umap_3d_v, \n",
    "    filename=\"Patient_Clusters_3D_exp_{}_epoch_{}{}\".format(experiment_name, epoch, \"_everyone_no_outlier\"), \n",
    "    colors=[1 for i in range(X_umap_3d_v.shape[0])],\n",
    "    alpha = alpha3d,\n",
    "    xlim=(-5, 5),\n",
    "    ylim=(-10, 10)\n",
    ")\n",
    "\n",
    "visualizer.plot3d(\n",
    "    X=mean_umap_3d_v, \n",
    "    filename=\"Patient_Clusters_3D_exp_{}_epoch_{}{}\".format(experiment_name, epoch, \"_everyone_means_no_outlier\"), \n",
    "    colors=[1 for i in range(X_umap_3d_v.shape[0])],\n",
    "    alpha = alpha3d,\n",
    "    xlim=(-5, 5),\n",
    "    ylim=(-10, 10)\n",
    ")\n",
    "\n",
    "visualizer.plot3d(\n",
    "    X=var_umap_3d_v, \n",
    "    filename=\"Patient_Clusters_3D_exp_{}_epoch_{}{}\".format(experiment_name, epoch, \"_everyone_vars_no_outlier\"), \n",
    "    colors=[1 for i in range(X_umap_3d_v.shape[0])],\n",
    "    alpha = alpha3d,\n",
    "    xlim=(-5, 5),\n",
    "    ylim=(-10, 10)\n",
    ")\n",
    "\n",
    "visualizer.plot2d(\n",
    "    X=X_umap_3d_v[:, :-1], \n",
    "    filename=\"Patient_Clusters_2D_exp_{}_epoch_{}{}\".format(experiment_name, epoch, \"_everyone_from_3d_no_outlier\"), \n",
    "    colors=[1 for i in range(X_umap_3d_v.shape[0])],\n",
    "    alpha = alpha3d, \n",
    "    xlim=(-5, 5),\n",
    "    ylim=(-10, 10)\n",
    ")\n",
    "\n",
    "visualizer.plot2d(\n",
    "    X=mean_umap_3d_v[:, :-1], \n",
    "    filename=\"Patient_Clusters_2D_exp_{}_epoch_{}{}\".format(experiment_name, epoch, \"_everyone_means_from_3d_no_outlier\"), \n",
    "    colors=[1 for i in range(X_umap_3d_v.shape[0])],\n",
    "    alpha = alpha3d,\n",
    "    xlim=(-5, 5),\n",
    "    ylim=(-10, 10)\n",
    ")\n",
    "\n",
    "visualizer.plot2d(\n",
    "    X=var_umap_3d_v[:, :-1], \n",
    "    filename=\"Patient_Clusters_2D_exp_{}_epoch_{}{}\".format(experiment_name, epoch, \"_everyone_vars_from_3d_no_outlier\"), \n",
    "    colors=[1 for i in range(X_umap_3d_v.shape[0])],\n",
    "    alpha = alpha3d, \n",
    "    xlim=(-5, 5),\n",
    "    ylim=(-10, 10)\n",
    ")"
   ]
  },
  {
   "cell_type": "code",
   "execution_count": null,
   "metadata": {},
   "outputs": [],
   "source": []
  }
 ],
 "metadata": {
  "kernelspec": {
   "display_name": "mengp369",
   "language": "python",
   "name": "mengp369"
  },
  "language_info": {
   "codemirror_mode": {
    "name": "ipython",
    "version": 3
   },
   "file_extension": ".py",
   "mimetype": "text/x-python",
   "name": "python",
   "nbconvert_exporter": "python",
   "pygments_lexer": "ipython3",
   "version": "3.6.9"
  }
 },
 "nbformat": 4,
 "nbformat_minor": 2
}
