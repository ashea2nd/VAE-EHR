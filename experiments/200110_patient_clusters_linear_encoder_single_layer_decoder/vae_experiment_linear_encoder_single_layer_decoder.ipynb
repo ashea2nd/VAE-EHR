{
 "cells": [
  {
   "cell_type": "code",
   "execution_count": 1,
   "metadata": {},
   "outputs": [],
   "source": [
    "import sys\n",
    "sys.path.append(\"/data1/andrew/meng/mixehr/meng/VAE-EHR/src\")\n",
    "from importlib import reload\n",
    "\n",
    "import numpy as np \n",
    "import pandas as pd\n",
    "from tqdm import tqdm\n",
    "\n",
    "import torch\n",
    "from torch import nn, optim"
   ]
  },
  {
   "cell_type": "code",
   "execution_count": 2,
   "metadata": {},
   "outputs": [],
   "source": [
    "import vae\n",
    "reload(vae)\n",
    "\n",
    "from vae import VAE, VAETrainer"
   ]
  },
  {
   "cell_type": "code",
   "execution_count": 3,
   "metadata": {
    "scrolled": true
   },
   "outputs": [
    {
     "name": "stdout",
     "output_type": "stream",
     "text": [
      "torch.Size([46520, 6984])\n"
     ]
    }
   ],
   "source": [
    "patient_icd_file = \"/data1/andrew/meng/mixehr/data/Mimic/andrew_outputs/PATIENT_ICD_BINARY.csv\"\n",
    "patient_icd_df = pd.read_csv(patient_icd_file, sep=' ')\n",
    "\n",
    "patient_icd_data = patient_icd_df.drop('SUBJECT_ID', axis=1)\n",
    "\n",
    "data = torch.tensor(patient_icd_data.values).float()\n",
    "print(data.shape)"
   ]
  },
  {
   "cell_type": "code",
   "execution_count": 4,
   "metadata": {},
   "outputs": [
    {
     "name": "stdout",
     "output_type": "stream",
     "text": [
      "cuda\n",
      "Feature_dim: 6984\n",
      "<class 'torch.optim.adam.Adam'>\n"
     ]
    }
   ],
   "source": [
    "device = torch.device(\"cuda\" if torch.cuda.is_available() else \"cpu\")\n",
    "print((device))\n",
    "\n",
    "print(\"Feature_dim: {}\".format(data.shape[1]))\n",
    "model = VAE(\n",
    "    feature_dim = data.shape[1], \n",
    "    encoder_dim = [(250, 500), (500, 250), (250, 100)],\n",
    "    latent_dim = 10,\n",
    "    decoder_dim = [],\n",
    "    use_relu=False\n",
    ")\n",
    "\n",
    "optimizer = optim.Adam(model.parameters(), lr=0.001)\n",
    "print(type(optimizer))"
   ]
  },
  {
   "cell_type": "code",
   "execution_count": 5,
   "metadata": {},
   "outputs": [],
   "source": [
    "date=\"200110\"\n",
    "experiment_name = \"{}_patient_clusters_linear_encoder_single_layer_decoder\".format(date)\n",
    "trainer = VAETrainer(\n",
    "    model=model, \n",
    "    device=device, \n",
    "    optimizer=optimizer,\n",
    "    experiment_name=experiment_name\n",
    ")"
   ]
  },
  {
   "cell_type": "code",
   "execution_count": 6,
   "metadata": {
    "scrolled": false
   },
   "outputs": [
    {
     "name": "stderr",
     "output_type": "stream",
     "text": [
      "  0%|          | 0/1163 [00:00<?, ?it/s]/data1/andrew/meng/mixehr/meng/VAE-EHR/src/vae.py:186: UserWarning: torch.nn.utils.clip_grad_norm is now deprecated in favor of torch.nn.utils.clip_grad_norm_.\n",
      "  clip_grad_norm(self.model.parameters(), grad_norm_limit) #A value of 5 was shown to work\n",
      "100%|██████████| 1163/1163 [00:13<00:00, 87.36it/s]\n",
      "  1%|          | 8/1163 [00:00<00:15, 75.30it/s]"
     ]
    },
    {
     "name": "stdout",
     "output_type": "stream",
     "text": [
      "====> Epoch: 1 Average loss: 427352092350.6515\n"
     ]
    },
    {
     "name": "stderr",
     "output_type": "stream",
     "text": [
      "100%|██████████| 1163/1163 [00:12<00:00, 94.32it/s]\n",
      "  1%|          | 8/1163 [00:00<00:15, 75.53it/s]"
     ]
    },
    {
     "name": "stdout",
     "output_type": "stream",
     "text": [
      "====> Epoch: 2 Average loss: 2846.8660\n"
     ]
    },
    {
     "name": "stderr",
     "output_type": "stream",
     "text": [
      "100%|██████████| 1163/1163 [00:11<00:00, 103.21it/s]\n",
      "  1%|          | 7/1163 [00:00<00:17, 64.85it/s]"
     ]
    },
    {
     "name": "stdout",
     "output_type": "stream",
     "text": [
      "====> Epoch: 3 Average loss: 2575.7155\n"
     ]
    },
    {
     "name": "stderr",
     "output_type": "stream",
     "text": [
      "100%|██████████| 1163/1163 [00:12<00:00, 90.88it/s] \n",
      "  1%|          | 7/1163 [00:00<00:18, 63.11it/s]"
     ]
    },
    {
     "name": "stdout",
     "output_type": "stream",
     "text": [
      "====> Epoch: 4 Average loss: 2463.3989\n"
     ]
    },
    {
     "name": "stderr",
     "output_type": "stream",
     "text": [
      "100%|██████████| 1163/1163 [00:09<00:00, 117.51it/s]\n",
      "  1%|          | 10/1163 [00:00<00:11, 96.94it/s]"
     ]
    },
    {
     "name": "stdout",
     "output_type": "stream",
     "text": [
      "====> Epoch: 5 Average loss: 2401.6674\n"
     ]
    },
    {
     "name": "stderr",
     "output_type": "stream",
     "text": [
      "100%|██████████| 1163/1163 [00:13<00:00, 84.46it/s]\n",
      "  1%|          | 7/1163 [00:00<00:16, 68.21it/s]"
     ]
    },
    {
     "name": "stdout",
     "output_type": "stream",
     "text": [
      "====> Epoch: 6 Average loss: 2354.3289\n"
     ]
    },
    {
     "name": "stderr",
     "output_type": "stream",
     "text": [
      "100%|██████████| 1163/1163 [00:13<00:00, 89.26it/s] \n",
      "  1%|          | 9/1163 [00:00<00:13, 82.92it/s]"
     ]
    },
    {
     "name": "stdout",
     "output_type": "stream",
     "text": [
      "====> Epoch: 7 Average loss: 2311.7382\n"
     ]
    },
    {
     "name": "stderr",
     "output_type": "stream",
     "text": [
      "100%|██████████| 1163/1163 [00:11<00:00, 101.94it/s]\n",
      "  1%|          | 13/1163 [00:00<00:08, 129.67it/s]"
     ]
    },
    {
     "name": "stdout",
     "output_type": "stream",
     "text": [
      "====> Epoch: 8 Average loss: 2271.8304\n"
     ]
    },
    {
     "name": "stderr",
     "output_type": "stream",
     "text": [
      "100%|██████████| 1163/1163 [00:11<00:00, 101.69it/s]\n",
      "  1%|          | 12/1163 [00:00<00:09, 117.32it/s]"
     ]
    },
    {
     "name": "stdout",
     "output_type": "stream",
     "text": [
      "====> Epoch: 9 Average loss: 2236.2979\n"
     ]
    },
    {
     "name": "stderr",
     "output_type": "stream",
     "text": [
      "100%|██████████| 1163/1163 [00:10<00:00, 112.68it/s]\n",
      "  1%|          | 11/1163 [00:00<00:11, 103.15it/s]"
     ]
    },
    {
     "name": "stdout",
     "output_type": "stream",
     "text": [
      "====> Epoch: 10 Average loss: 2204.3998\n"
     ]
    },
    {
     "name": "stderr",
     "output_type": "stream",
     "text": [
      "100%|██████████| 1163/1163 [00:10<00:00, 110.93it/s]\n",
      "  1%|          | 10/1163 [00:00<00:11, 99.40it/s]"
     ]
    },
    {
     "name": "stdout",
     "output_type": "stream",
     "text": [
      "====> Epoch: 11 Average loss: 2178.7751\n"
     ]
    },
    {
     "name": "stderr",
     "output_type": "stream",
     "text": [
      "100%|██████████| 1163/1163 [00:12<00:00, 93.14it/s] \n",
      "  1%|          | 10/1163 [00:00<00:12, 92.41it/s]"
     ]
    },
    {
     "name": "stdout",
     "output_type": "stream",
     "text": [
      "====> Epoch: 12 Average loss: 2156.8751\n"
     ]
    },
    {
     "name": "stderr",
     "output_type": "stream",
     "text": [
      "100%|██████████| 1163/1163 [00:14<00:00, 83.04it/s]\n",
      "  1%|          | 10/1163 [00:00<00:12, 89.02it/s]"
     ]
    },
    {
     "name": "stdout",
     "output_type": "stream",
     "text": [
      "====> Epoch: 13 Average loss: 2132.7146\n"
     ]
    },
    {
     "name": "stderr",
     "output_type": "stream",
     "text": [
      "100%|██████████| 1163/1163 [00:13<00:00, 85.37it/s] \n",
      "  1%|          | 7/1163 [00:00<00:17, 66.33it/s]"
     ]
    },
    {
     "name": "stdout",
     "output_type": "stream",
     "text": [
      "====> Epoch: 14 Average loss: 2111.6135\n"
     ]
    },
    {
     "name": "stderr",
     "output_type": "stream",
     "text": [
      "100%|██████████| 1163/1163 [00:12<00:00, 95.18it/s] \n",
      "  1%|          | 14/1163 [00:00<00:08, 135.30it/s]"
     ]
    },
    {
     "name": "stdout",
     "output_type": "stream",
     "text": [
      "====> Epoch: 15 Average loss: 2095.5535\n"
     ]
    },
    {
     "name": "stderr",
     "output_type": "stream",
     "text": [
      "100%|██████████| 1163/1163 [00:09<00:00, 125.13it/s]\n",
      "  1%|          | 13/1163 [00:00<00:08, 127.97it/s]"
     ]
    },
    {
     "name": "stdout",
     "output_type": "stream",
     "text": [
      "====> Epoch: 16 Average loss: 2081.2394\n"
     ]
    },
    {
     "name": "stderr",
     "output_type": "stream",
     "text": [
      "100%|██████████| 1163/1163 [00:08<00:00, 129.96it/s]\n",
      "  1%|          | 14/1163 [00:00<00:08, 133.33it/s]"
     ]
    },
    {
     "name": "stdout",
     "output_type": "stream",
     "text": [
      "====> Epoch: 17 Average loss: 2068.6112\n"
     ]
    },
    {
     "name": "stderr",
     "output_type": "stream",
     "text": [
      "100%|██████████| 1163/1163 [00:11<00:00, 97.59it/s]\n",
      "  1%|          | 8/1163 [00:00<00:15, 76.42it/s]"
     ]
    },
    {
     "name": "stdout",
     "output_type": "stream",
     "text": [
      "====> Epoch: 18 Average loss: 2056.0020\n"
     ]
    },
    {
     "name": "stderr",
     "output_type": "stream",
     "text": [
      "100%|██████████| 1163/1163 [00:12<00:00, 95.15it/s] \n",
      "  1%|          | 14/1163 [00:00<00:08, 131.24it/s]"
     ]
    },
    {
     "name": "stdout",
     "output_type": "stream",
     "text": [
      "====> Epoch: 19 Average loss: 2045.2986\n"
     ]
    },
    {
     "name": "stderr",
     "output_type": "stream",
     "text": [
      "100%|██████████| 1163/1163 [00:09<00:00, 121.31it/s]"
     ]
    },
    {
     "name": "stdout",
     "output_type": "stream",
     "text": [
      "====> Epoch: 20 Average loss: 2035.4115\n"
     ]
    },
    {
     "name": "stderr",
     "output_type": "stream",
     "text": [
      "\n"
     ]
    }
   ],
   "source": [
    "trainer.train(\n",
    "    data=data, \n",
    "    epochs=20,\n",
    "    batch_size=40,\n",
    "    save_model_interval=5,\n",
    "    clip_gradients=True,\n",
    "    grad_norm_limit=5\n",
    ")"
   ]
  },
  {
   "cell_type": "code",
   "execution_count": null,
   "metadata": {},
   "outputs": [],
   "source": [
    "#model.load_state_dict(torch.load(\"VAE_epoch_450.pkl\"))"
   ]
  }
 ],
 "metadata": {
  "kernelspec": {
   "display_name": "mengp375",
   "language": "python",
   "name": "mengp375"
  },
  "language_info": {
   "codemirror_mode": {
    "name": "ipython",
    "version": 3
   },
   "file_extension": ".py",
   "mimetype": "text/x-python",
   "name": "python",
   "nbconvert_exporter": "python",
   "pygments_lexer": "ipython3",
   "version": "3.7.5"
  }
 },
 "nbformat": 4,
 "nbformat_minor": 2
}
