{
 "cells": [
  {
   "cell_type": "code",
   "execution_count": 5,
   "metadata": {},
   "outputs": [],
   "source": [
    "import sys\n",
    "sys.path.append(\"/data1/andrew/meng/mixehr/meng/VAE-EHR/src\")\n",
    "from importlib import reload\n",
    "import os"
   ]
  },
  {
   "cell_type": "code",
   "execution_count": 6,
   "metadata": {},
   "outputs": [],
   "source": [
    "from typing import List, Tuple\n",
    "from tsnecuda import TSNE\n",
    "from umap import UMAP\n",
    "\n",
    "import numpy as np \n",
    "import pandas as pd\n",
    "\n",
    "import torch\n",
    "from torch import nn, optim\n",
    "\n",
    "import matplotlib.pyplot as plt"
   ]
  },
  {
   "cell_type": "code",
   "execution_count": 7,
   "metadata": {},
   "outputs": [],
   "source": [
    "import vae\n",
    "reload(vae)\n",
    "\n",
    "from vae import VAE\n",
    "from vae import VAETrainer"
   ]
  },
  {
   "cell_type": "code",
   "execution_count": 8,
   "metadata": {},
   "outputs": [
    {
     "name": "stdout",
     "output_type": "stream",
     "text": [
      "torch.Size([46520, 6984])\n"
     ]
    }
   ],
   "source": [
    "patient_icd_file = \"/data1/andrew/meng/mixehr/data/Mimic/andrew_outputs/PATIENT_ICD_BINARY.csv\"\n",
    "patient_icd_df = pd.read_csv(patient_icd_file, sep=' ')\n",
    "\n",
    "patient_icd_data = patient_icd_df.drop('SUBJECT_ID', axis=1)\n",
    "data = torch.tensor(patient_icd_data.values).float()\n",
    "print(data.shape)"
   ]
  },
  {
   "cell_type": "code",
   "execution_count": 9,
   "metadata": {},
   "outputs": [],
   "source": [
    "def tsne_embedding(X):\n",
    "    return TSNE(n_components=2, perplexity=15, learning_rate=10).fit_transform(X)\n",
    "\n",
    "def umap_embedding(X):\n",
    "    return UMAP().fit_transform(X)\n",
    "\n",
    "def plot2d(X, filename, colors=None):\n",
    "    plt.figure(figsize=(8,5))\n",
    "    plt.scatter(\n",
    "        x=X[:, 0], \n",
    "        y=X[:, 1],\n",
    "        c=colors, \n",
    "        cmap='cool', \n",
    "        alpha=0.05\n",
    "    )\n",
    "    plt.xlabel('tsne-one')\n",
    "    plt.ylabel('tsne-two')\n",
    "    plt.colorbar()\n",
    "    \n",
    "    plt.savefig(\"{}.png\".format(filename))\n",
    "    plt.show()"
   ]
  },
  {
   "cell_type": "code",
   "execution_count": 10,
   "metadata": {},
   "outputs": [
    {
     "data": {
      "text/html": [
       "<div>\n",
       "<style scoped>\n",
       "    .dataframe tbody tr th:only-of-type {\n",
       "        vertical-align: middle;\n",
       "    }\n",
       "\n",
       "    .dataframe tbody tr th {\n",
       "        vertical-align: top;\n",
       "    }\n",
       "\n",
       "    .dataframe thead th {\n",
       "        text-align: right;\n",
       "    }\n",
       "</style>\n",
       "<table border=\"1\" class=\"dataframe\">\n",
       "  <thead>\n",
       "    <tr style=\"text-align: right;\">\n",
       "      <th></th>\n",
       "      <th>ROW_ID</th>\n",
       "      <th>ICD9_CODE</th>\n",
       "      <th>SHORT_TITLE</th>\n",
       "      <th>LONG_TITLE</th>\n",
       "    </tr>\n",
       "  </thead>\n",
       "  <tbody>\n",
       "    <tr>\n",
       "      <th>4303</th>\n",
       "      <td>4304</td>\n",
       "      <td>4019</td>\n",
       "      <td>Hypertension NOS</td>\n",
       "      <td>Unspecified essential hypertension</td>\n",
       "    </tr>\n",
       "    <tr>\n",
       "      <th>4373</th>\n",
       "      <td>4374</td>\n",
       "      <td>41401</td>\n",
       "      <td>Crnry athrscl natve vssl</td>\n",
       "      <td>Coronary atherosclerosis of native coronary ar...</td>\n",
       "    </tr>\n",
       "  </tbody>\n",
       "</table>\n",
       "</div>"
      ],
      "text/plain": [
       "      ROW_ID ICD9_CODE               SHORT_TITLE  \\\n",
       "4303    4304      4019          Hypertension NOS   \n",
       "4373    4374     41401  Crnry athrscl natve vssl   \n",
       "\n",
       "                                             LONG_TITLE  \n",
       "4303                 Unspecified essential hypertension  \n",
       "4373  Coronary atherosclerosis of native coronary ar...  "
      ]
     },
     "execution_count": 10,
     "metadata": {},
     "output_type": "execute_result"
    }
   ],
   "source": [
    "mimic_root_path = \"/data1/andrew/meng/mixehr/data/Mimic/mimic-iii-clinical-database-1.4\"\n",
    "icd9codes_path = os.path.join(mimic_root_path, \"D_ICD_DIAGNOSES.csv.gz\")\n",
    "icd9codes = pd.read_csv(icd9codes_path)\n",
    "\n",
    "#Used for DISEASE clustering\n",
    "def get_icd_idxs(\n",
    "    patient_icd_df: pd.DataFrame, \n",
    "    substrings: List[str], \n",
    "    case_sensitive: bool=True, \n",
    "    verbose: bool=False):\n",
    "    \n",
    "    idxs = []\n",
    "    for substring in substrings:\n",
    "        icds_with_substring = icd9codes[icd9codes.LONG_TITLE.str.contains(substring, case=case_sensitive)].ICD9_CODE.tolist()\n",
    "        print(\"Occurences of {0} before filter: {1}\".format(substring, len(icds_with_substring)))\n",
    "        \n",
    "        icds_with_substring_and_in_patient_icd_df = [icd for icd in icds_with_substring if icd in patient_icd_df.columns]\n",
    "        icds_with_substring=icds_with_substring_and_in_patient_icd_df\n",
    "        print(\"After:\", len(icds_with_substring))\n",
    "\n",
    "        idx = [patient_icd_df.columns.get_loc(icd) - 1 for icd in icds_with_substring]\n",
    "        idxs += idx\n",
    "    \n",
    "    if verbose:\n",
    "        print(icd9codes[icd9codes.SHORT_TITLE.str.contains(substring, case=case_sensitive)])\n",
    "    print(\"Total found: {}\".format(len(idxs)))\n",
    "    return idxs\n",
    "\n",
    "#Use for PATIENT clustering\n",
    "def get_patients_idxs_with_disease_keywords(\n",
    "    patient_icd_df: pd.DataFrame,\n",
    "    substrings: List[str],\n",
    "    case_sensitive: bool=False,\n",
    "    verbose: bool=False\n",
    "    ):\n",
    "    \n",
    "    idxs = []\n",
    "    relevant_icds = []\n",
    "    for substring in substrings:\n",
    "        icds_with_substring = icd9codes[icd9codes.LONG_TITLE.str.contains(substring, case=case_sensitive)].ICD9_CODE.tolist()\n",
    "        print(\"Occurences of {0} before filter: {1}\".format(substring, len(icds_with_substring)))\n",
    "\n",
    "        icds_with_substring_and_in_patient_icd_df = [icd for icd in icds_with_substring if icd in patient_icd_df.columns]\n",
    "        icds_with_substring=icds_with_substring_and_in_patient_icd_df        \n",
    "        print(\"After:\", len(icds_with_substring))\n",
    "        \n",
    "        relevant_icds += icds_with_substring_and_in_patient_icd_df\n",
    "        \n",
    "    print(\"Total Relevant ICDs: {}\".format(len(relevant_icds)))\n",
    "    patients_with_disease = patient_icd_df.loc[:, relevant_icds].any(axis=1)\n",
    "    patients_with_disease = patients_with_disease[patients_with_disease == True]\n",
    "    print(\"Patients with disease(s): {}\".format(len(patients_with_disease)))\n",
    "    \n",
    "    return patients_with_disease.index.tolist()\n",
    "\n",
    "def most_common_diseases_in_cohort(\n",
    "    patient_icd_df: pd.DataFrame,\n",
    "    patient_idxs: List[int]\n",
    "    ):\n",
    "    patients_of_interest = patient_icd_df.drop('SUBJECT_ID', axis=1).iloc[patient_idxs]\n",
    "    disease_sums = patients_of_interest.sum(axis=0)\n",
    "    return disease_sums.sort_values(ascending=False)\n",
    "\n",
    "def lookup_icds(\n",
    "    icd9codes_df: pd.DataFrame,\n",
    "    icd9codes_list: List[str]\n",
    "    ):\n",
    "    return icd9codes_df[icd9codes_df['ICD9_CODE'].isin(icd9codes_list)]\n",
    "    \n",
    "heart_keywords = ['heart', 'atrial', 'coronary', 'hypertension', 'vascular']\n",
    "#heart_icd_idxs = get_icd_idxs(patient_icd_df, heart_keywords, False, True)\n",
    "\n",
    "#heart_patient_idxs = get_patients_idxs_with_disease_keywords(patient_icd_df, heart_keywords, False, True)\n",
    "lookup_icds(icd9codes, [\"4019\", \"41401\"])"
   ]
  },
  {
   "cell_type": "code",
   "execution_count": 11,
   "metadata": {},
   "outputs": [
    {
     "name": "stdout",
     "output_type": "stream",
     "text": [
      "cuda\n",
      "Feature_dim: 6984\n",
      "<class 'torch.optim.adam.Adam'>\n"
     ]
    }
   ],
   "source": [
    "device = torch.device(\"cuda\" if torch.cuda.is_available() else \"cpu\")\n",
    "print((device))\n",
    "\n",
    "print(\"Feature_dim: {}\".format(data.shape[1]))\n",
    "model = VAE(\n",
    "    feature_dim = data.shape[1], \n",
    "    encoder_dim = [(250, 500), (500, 250), (250, 100)],\n",
    "    latent_dim = 10,\n",
    "    decoder_dim = []\n",
    ")\n",
    "\n",
    "optimizer = optim.Adam(model.parameters(), lr=0.001)\n",
    "print(type(optimizer))"
   ]
  },
  {
   "cell_type": "code",
   "execution_count": 12,
   "metadata": {},
   "outputs": [
    {
     "ename": "FileNotFoundError",
     "evalue": "[Errno 2] No such file or directory: './patient_clusters_linear_architecture/VAE_exp_200110_patient_clusters_linear_encoder_single_layer_decoder_epoch_20.pkl'",
     "output_type": "error",
     "traceback": [
      "\u001b[0;31m---------------------------------------------------------------------------\u001b[0m",
      "\u001b[0;31mFileNotFoundError\u001b[0m                         Traceback (most recent call last)",
      "\u001b[0;32m<ipython-input-12-a5fb37be36d7>\u001b[0m in \u001b[0;36m<module>\u001b[0;34m\u001b[0m\n\u001b[1;32m      3\u001b[0m \u001b[0mepoch\u001b[0m \u001b[0;34m=\u001b[0m \u001b[0;36m20\u001b[0m\u001b[0;34m\u001b[0m\u001b[0;34m\u001b[0m\u001b[0m\n\u001b[1;32m      4\u001b[0m \u001b[0mtag\u001b[0m \u001b[0;34m=\u001b[0m \u001b[0;34m\"\"\u001b[0m\u001b[0;34m\u001b[0m\u001b[0;34m\u001b[0m\u001b[0m\n\u001b[0;32m----> 5\u001b[0;31m \u001b[0mmodel\u001b[0m\u001b[0;34m.\u001b[0m\u001b[0mload_state_dict\u001b[0m\u001b[0;34m(\u001b[0m\u001b[0mtorch\u001b[0m\u001b[0;34m.\u001b[0m\u001b[0mload\u001b[0m\u001b[0;34m(\u001b[0m\u001b[0;34m\"./patient_clusters_linear_architecture/VAE_exp_{}_epoch_{}.pkl\"\u001b[0m\u001b[0;34m.\u001b[0m\u001b[0mformat\u001b[0m\u001b[0;34m(\u001b[0m\u001b[0mexperiment_name\u001b[0m\u001b[0;34m,\u001b[0m \u001b[0mepoch\u001b[0m\u001b[0;34m)\u001b[0m\u001b[0;34m)\u001b[0m\u001b[0;34m)\u001b[0m\u001b[0;34m\u001b[0m\u001b[0;34m\u001b[0m\u001b[0m\n\u001b[0m",
      "\u001b[0;32m/data1/andrew/anaconda2/envs/mengp375/lib/python3.7/site-packages/torch/serialization.py\u001b[0m in \u001b[0;36mload\u001b[0;34m(f, map_location, pickle_module, **pickle_load_args)\u001b[0m\n\u001b[1;32m    417\u001b[0m             \u001b[0;34m(\u001b[0m\u001b[0msys\u001b[0m\u001b[0;34m.\u001b[0m\u001b[0mversion_info\u001b[0m\u001b[0;34m[\u001b[0m\u001b[0;36m0\u001b[0m\u001b[0;34m]\u001b[0m \u001b[0;34m==\u001b[0m \u001b[0;36m2\u001b[0m \u001b[0;32mand\u001b[0m \u001b[0misinstance\u001b[0m\u001b[0;34m(\u001b[0m\u001b[0mf\u001b[0m\u001b[0;34m,\u001b[0m \u001b[0municode\u001b[0m\u001b[0;34m)\u001b[0m\u001b[0;34m)\u001b[0m\u001b[0;34m:\u001b[0m\u001b[0;34m\u001b[0m\u001b[0;34m\u001b[0m\u001b[0m\n\u001b[1;32m    418\u001b[0m         \u001b[0mnew_fd\u001b[0m \u001b[0;34m=\u001b[0m \u001b[0;32mTrue\u001b[0m\u001b[0;34m\u001b[0m\u001b[0;34m\u001b[0m\u001b[0m\n\u001b[0;32m--> 419\u001b[0;31m         \u001b[0mf\u001b[0m \u001b[0;34m=\u001b[0m \u001b[0mopen\u001b[0m\u001b[0;34m(\u001b[0m\u001b[0mf\u001b[0m\u001b[0;34m,\u001b[0m \u001b[0;34m'rb'\u001b[0m\u001b[0;34m)\u001b[0m\u001b[0;34m\u001b[0m\u001b[0;34m\u001b[0m\u001b[0m\n\u001b[0m\u001b[1;32m    420\u001b[0m     \u001b[0;32melif\u001b[0m \u001b[0;34m(\u001b[0m\u001b[0msys\u001b[0m\u001b[0;34m.\u001b[0m\u001b[0mversion_info\u001b[0m\u001b[0;34m[\u001b[0m\u001b[0;36m0\u001b[0m\u001b[0;34m]\u001b[0m \u001b[0;34m==\u001b[0m \u001b[0;36m3\u001b[0m \u001b[0;32mand\u001b[0m \u001b[0misinstance\u001b[0m\u001b[0;34m(\u001b[0m\u001b[0mf\u001b[0m\u001b[0;34m,\u001b[0m \u001b[0mpathlib\u001b[0m\u001b[0;34m.\u001b[0m\u001b[0mPath\u001b[0m\u001b[0;34m)\u001b[0m\u001b[0;34m)\u001b[0m\u001b[0;34m:\u001b[0m\u001b[0;34m\u001b[0m\u001b[0;34m\u001b[0m\u001b[0m\n\u001b[1;32m    421\u001b[0m         \u001b[0mnew_fd\u001b[0m \u001b[0;34m=\u001b[0m \u001b[0;32mTrue\u001b[0m\u001b[0;34m\u001b[0m\u001b[0;34m\u001b[0m\u001b[0m\n",
      "\u001b[0;31mFileNotFoundError\u001b[0m: [Errno 2] No such file or directory: './patient_clusters_linear_architecture/VAE_exp_200110_patient_clusters_linear_encoder_single_layer_decoder_epoch_20.pkl'"
     ]
    }
   ],
   "source": [
    "date=\"200110\"\n",
    "experiment_name = \"{}_patient_clusters_linear_encoder_single_layer_decoder\".format(date)\n",
    "epoch = 20\n",
    "tag = \"\"\n",
    "model.load_state_dict(torch.load(\"./VAE_exp_{}_epoch_{}.pkl\".format(experiment_name, epoch)))"
   ]
  },
  {
   "cell_type": "code",
   "execution_count": null,
   "metadata": {},
   "outputs": [],
   "source": [
    "latent, means, var = model.get_latent(data)\n",
    "X_tsne = tsne_embedding(latent.cpu().detach().numpy())"
   ]
  },
  {
   "cell_type": "code",
   "execution_count": null,
   "metadata": {},
   "outputs": [],
   "source": [
    "heart_colors = np.array([0 for i in range(X_tsne.shape[0])])\n",
    "heart_colors[heart_patient_idxs] = 100"
   ]
  },
  {
   "cell_type": "code",
   "execution_count": null,
   "metadata": {
    "scrolled": true
   },
   "outputs": [],
   "source": [
    "plot2d(\n",
    "    X=X_tsne, \n",
    "    filename=\"Patient_Clusters_exp_{}_epoch_{}{}\".format(experiment_name, epoch, \"_heart\"), \n",
    "    colors=heart_colors,\n",
    ")"
   ]
  },
  {
   "cell_type": "code",
   "execution_count": null,
   "metadata": {},
   "outputs": [],
   "source": [
    "icd9codes"
   ]
  },
  {
   "cell_type": "code",
   "execution_count": null,
   "metadata": {},
   "outputs": [],
   "source": []
  }
 ],
 "metadata": {
  "kernelspec": {
   "display_name": "mengp375",
   "language": "python",
   "name": "mengp375"
  },
  "language_info": {
   "codemirror_mode": {
    "name": "ipython",
    "version": 3
   },
   "file_extension": ".py",
   "mimetype": "text/x-python",
   "name": "python",
   "nbconvert_exporter": "python",
   "pygments_lexer": "ipython3",
   "version": "3.7.5"
  }
 },
 "nbformat": 4,
 "nbformat_minor": 2
}
