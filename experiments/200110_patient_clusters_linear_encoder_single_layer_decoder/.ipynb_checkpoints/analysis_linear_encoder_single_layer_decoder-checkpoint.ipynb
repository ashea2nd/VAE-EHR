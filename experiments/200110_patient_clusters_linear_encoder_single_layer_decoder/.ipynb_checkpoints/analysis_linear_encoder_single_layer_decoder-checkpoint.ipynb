{
 "cells": [
  {
   "cell_type": "code",
   "execution_count": 18,
   "metadata": {},
   "outputs": [],
   "source": [
    "import sys\n",
    "sys.path.append(\"/data1/andrew/meng/mixehr/meng/VAE-EHR/src\")\n",
    "\n",
    "from importlib import reload\n",
    "import os\n",
    "\n",
    "from typing import List, Tuple\n",
    "from tsnecuda import TSNE\n",
    "from umap import UMAP\n",
    "\n",
    "import numpy as np \n",
    "import pandas as pd\n",
    "\n",
    "import torch\n",
    "from torch import nn, optim\n",
    "\n",
    "import matplotlib.pyplot as plt\n",
    "from matplotlib import colors\n",
    "\n",
    "import vae\n",
    "\n",
    "from vae import VAE\n",
    "from vae import VAETrainer\n",
    "\n",
    "from icd_analysis_helper import ICDAnalysisHelper"
   ]
  },
  {
   "cell_type": "code",
   "execution_count": 17,
   "metadata": {},
   "outputs": [],
   "source": [
    "def show_matrix(W)\n",
    "    plt.figure(figsize(8, 5))\n",
    "    plt.matshow(W)\n",
    "    plt.show()"
   ]
  },
  {
   "cell_type": "code",
   "execution_count": 5,
   "metadata": {},
   "outputs": [
    {
     "name": "stdout",
     "output_type": "stream",
     "text": [
      "torch.Size([46520, 6984])\n"
     ]
    }
   ],
   "source": [
    "mimic_root_path = \"/data1/andrew/meng/mixehr/data/Mimic/mimic-iii-clinical-database-1.4\"\n",
    "icd9codes_path = os.path.join(mimic_root_path, \"D_ICD_DIAGNOSES.csv.gz\")\n",
    "icd9codes = pd.read_csv(icd9codes_path)\n",
    "\n",
    "patient_icd_file = \"/data1/andrew/meng/mixehr/data/Mimic/andrew_outputs/PATIENT_ICD_BINARY.csv\"\n",
    "patient_icd_df = pd.read_csv(patient_icd_file, sep=' ')\n",
    "\n",
    "patient_icd_data = patient_icd_df.drop('SUBJECT_ID', axis=1)\n",
    "data = torch.tensor(patient_icd_data.values).float()\n",
    "print(data.shape)"
   ]
  },
  {
   "cell_type": "code",
   "execution_count": 6,
   "metadata": {},
   "outputs": [
    {
     "name": "stdout",
     "output_type": "stream",
     "text": [
      "cuda\n",
      "Feature_dim: 6984\n",
      "<class 'torch.optim.adam.Adam'>\n"
     ]
    }
   ],
   "source": [
    "device = torch.device(\"cuda\" if torch.cuda.is_available() else \"cpu\")\n",
    "print((device))\n",
    "\n",
    "print(\"Feature_dim: {}\".format(data.shape[1]))\n",
    "model = VAE(\n",
    "    feature_dim = data.shape[1], \n",
    "    encoder_dim = [(250, 500), (500, 250), (250, 100)],\n",
    "    latent_dim = 10,\n",
    "    decoder_dim = []\n",
    ")\n",
    "\n",
    "optimizer = optim.Adam(model.parameters(), lr=0.001)\n",
    "print(type(optimizer))"
   ]
  },
  {
   "cell_type": "code",
   "execution_count": 7,
   "metadata": {},
   "outputs": [
    {
     "data": {
      "text/plain": [
       "<All keys matched successfully>"
      ]
     },
     "execution_count": 7,
     "metadata": {},
     "output_type": "execute_result"
    }
   ],
   "source": [
    "date=\"200110\"\n",
    "experiment_name = \"{}_patient_clusters_linear_encoder_single_layer_decoder\".format(date)\n",
    "epoch = 20\n",
    "tag = \"\"\n",
    "model.load_state_dict(torch.load(\"./VAE_exp_{}_epoch_{}.pkl\".format(experiment_name, epoch)))"
   ]
  },
  {
   "cell_type": "code",
   "execution_count": 19,
   "metadata": {
    "scrolled": true
   },
   "outputs": [
    {
     "name": "stdout",
     "output_type": "stream",
     "text": [
      "torch.Size([6984, 10])\n",
      "torch.Size([6984])\n"
     ]
    }
   ],
   "source": [
    "output_weights = model.state_dict()[\"output_decoder.weight\"]\n",
    "output_biases = model.state_dict()[\"output_decoder.bias\"]\n",
    "\n",
    "print(output_weights.shape)\n",
    "print(output_biases.shape)"
   ]
  },
  {
   "cell_type": "code",
   "execution_count": 15,
   "metadata": {},
   "outputs": [
    {
     "data": {
      "text/plain": [
       "tensor([-1.5661, -1.9730, -1.6174,  ..., -1.3801, -1.9825, -1.7643])"
      ]
     },
     "execution_count": 15,
     "metadata": {},
     "output_type": "execute_result"
    }
   ],
   "source": [
    "show_matr"
   ]
  },
  {
   "cell_type": "code",
   "execution_count": null,
   "metadata": {},
   "outputs": [],
   "source": []
  }
 ],
 "metadata": {
  "kernelspec": {
   "display_name": "mengp375",
   "language": "python",
   "name": "mengp375"
  },
  "language_info": {
   "codemirror_mode": {
    "name": "ipython",
    "version": 3
   },
   "file_extension": ".py",
   "mimetype": "text/x-python",
   "name": "python",
   "nbconvert_exporter": "python",
   "pygments_lexer": "ipython3",
   "version": "3.7.5"
  }
 },
 "nbformat": 4,
 "nbformat_minor": 2
}
