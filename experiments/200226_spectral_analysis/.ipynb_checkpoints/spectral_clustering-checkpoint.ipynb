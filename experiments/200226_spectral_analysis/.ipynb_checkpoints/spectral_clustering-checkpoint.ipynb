{
 "cells": [
  {
   "cell_type": "code",
   "execution_count": 1,
   "metadata": {},
   "outputs": [],
   "source": [
    "import pandas as pd\n",
    "import numpy as np\n",
    "from tqdm import tqdm\n",
    "import matplotlib.pyplot as plt\n",
    "import numpy as np\n",
    "import seaborn as sns\n",
    "from sklearn.decomposition import PCA\n",
    "from sklearn.cluster import SpectralClustering\n",
    "from sklearn import preprocessing\n",
    "from scipy.sparse import csr_matrix\n",
    "import pickle\n",
    "import os\n",
    "from annoy import AnnoyIndex"
   ]
  },
  {
   "cell_type": "code",
   "execution_count": 2,
   "metadata": {},
   "outputs": [
    {
     "data": {
      "text/plain": [
       "(46520, 6984)"
      ]
     },
     "execution_count": 2,
     "metadata": {},
     "output_type": "execute_result"
    }
   ],
   "source": [
    "patient_icd_sparse_path = \"./../../data/PATIENT_ICD_BINARY_SPARSE_CSR.p\"\n",
    "pdata = pickle.load(open(patient_icd_sparse_path, \"rb\"))\n",
    "pdata.shape"
   ]
  },
  {
   "cell_type": "code",
   "execution_count": 7,
   "metadata": {},
   "outputs": [
    {
     "data": {
      "text/plain": [
       "array([[0.5, 0. , 0. ],\n",
       "       [0. , 0.5, 0. ],\n",
       "       [0. , 0. , 0.5]])"
      ]
     },
     "execution_count": 7,
     "metadata": {},
     "output_type": "execute_result"
    }
   ],
   "source": [
    "x = np.array([[4, 0, 0],[0,4,0],[0,0,4]])\n",
    "np.sqrt(np.linalg.inv(x))"
   ]
  },
  {
   "cell_type": "code",
   "execution_count": 5,
   "metadata": {},
   "outputs": [
    {
     "name": "stderr",
     "output_type": "stream",
     "text": [
      "  0%|          | 0/46520 [00:00<?, ?it/s]"
     ]
    },
    {
     "name": "stdout",
     "output_type": "stream",
     "text": [
      "Building dense data matrix with k=11 nn...\n",
      "(46520, 46520)\n",
      "0 [3319, 29662, 24132, 25275, 16666, 37755, 39245, 16376, 14844, 26326]\n",
      "0 [1.1148737668991089, 1.1428152322769165, 1.1491882801055908, 1.163966417312622, 1.1917420625686646, 1.1946163177490234, 1.210144281387329, 1.212558627128601, 1.213560700416565, 1.213560700416565]\n"
     ]
    },
    {
     "name": "stderr",
     "output_type": "stream",
     "text": [
      "\n"
     ]
    },
    {
     "data": {
      "text/plain": [
       "(46520, 46520)"
      ]
     },
     "execution_count": 5,
     "metadata": {},
     "output_type": "execute_result"
    }
   ],
   "source": [
    "ANNOY_PATH = \"../../../large_data_files\"\n",
    "annoy_path = os.path.join(ANNOY_PATH, \"200214_patient_similarity_clusters_default.ann\")\n",
    "\n",
    "cos_knn_tree = AnnoyIndex(pdata.shape[1], \"angular\")\n",
    "cos_knn_tree.load(annoy_path)\n",
    "k_neighbors = 10\n",
    "k_neighbors += 1\n",
    "\n",
    "print(\"Building dense data matrix with k={} nn...\".format(k_neighbors))\n",
    "A = np.zeros((pdata.shape[0], pdata.shape[0]))\n",
    "D = np.zeros((pdata.shape[0], pdata.shape[0]))\n",
    "\n",
    "print(knn_data.shape)\n",
    "for i in tqdm(range(pdata.shape[0])):\n",
    "    nn_idxs = cos_knn_tree.get_nns_by_item(i, k_neighbors)[1:]\n",
    "    distances = [cos_knn_tree.get_distance(i, nn) for nn in nn_idxs]\n",
    "    print(i, nn_idxs)\n",
    "    print(i, distances)\n",
    "    D[i, i] = np.sum(distances)\n",
    "    A[i, nn_idxs] = distances\n",
    "\n",
    "D_inv_sqrt = np.sqrt(np.linalg.inv(D))\n",
    "L = D_inv_sqrt @ A @ D_inv_sqrt\n",
    "L_sparse = csr_matrix(L)\n",
    "L_sparse.shape"
   ]
  },
  {
   "cell_type": "code",
   "execution_count": null,
   "metadata": {},
   "outputs": [],
   "source": [
    "pickle.dump(L_sparse, open(\"PATIENT_SIM_COS_K{}_CSR.csv\".format(k_neighbors - 1), \"wb\"))"
   ]
  },
  {
   "cell_type": "code",
   "execution_count": null,
   "metadata": {},
   "outputs": [],
   "source": [
    "gt1_subject_ids_path = \"../../data/PATIENT_ICD_SUBJECT_IDS_GT1_VISITS.csv\"\n",
    "gt1_subject_ids = pd.read_csv(gt1_subject_ids_path)\n",
    "gt1_idxs = gt1_subject_ids.MATRIX_ROW_IDX.values\n",
    "\n",
    "patient_icd_sparse_path = \"./../../data/PATIENT_ICD_BINARY_SPARSE_CSR.p\"\n",
    "pdata_sparse = pickle.load(open(patient_icd_sparse_path, \"rb\"))\n",
    "pdata_dense = pdata_sparse.toarray()\n",
    "\n",
    "pdata_gt1 = pdata_dense[gt1_idxs]\n",
    "pdata_gt1.shape"
   ]
  },
  {
   "cell_type": "code",
   "execution_count": null,
   "metadata": {},
   "outputs": [],
   "source": [
    "##Build affinity matrix\n"
   ]
  },
  {
   "cell_type": "code",
   "execution_count": null,
   "metadata": {},
   "outputs": [],
   "source": [
    "unnormalized_data = pdata_dense\n",
    "print(unnormalized_data.shape)\n",
    "std_data = preprocessing.scale(unnormalized_data)\n",
    "pca = PCA().fit(std_data)"
   ]
  },
  {
   "cell_type": "code",
   "execution_count": null,
   "metadata": {},
   "outputs": [],
   "source": [
    "print(np.sum(pca.explained_variance_ratio_))\n",
    "print(pca.explained_variance_ratio_)"
   ]
  },
  {
   "cell_type": "code",
   "execution_count": null,
   "metadata": {},
   "outputs": [],
   "source": [
    "%%timeit -n 1 -r 1\n",
    "unnormalized_data = pdata_gt1\n",
    "std_data = preprocessing.scale(unnormalized_data)\n",
    "\n",
    "n_clusters = 5\n",
    "sc = SpectralClustering(n_clusters=n_clusters).fit(std_data)\n",
    "unique, counts = np.unique(sc.labels_, return_counts=True)\n",
    "print(unique, counts)"
   ]
  },
  {
   "cell_type": "code",
   "execution_count": null,
   "metadata": {
    "scrolled": true
   },
   "outputs": [],
   "source": []
  },
  {
   "cell_type": "code",
   "execution_count": null,
   "metadata": {},
   "outputs": [],
   "source": []
  }
 ],
 "metadata": {
  "kernelspec": {
   "display_name": "mengp369",
   "language": "python",
   "name": "mengp369"
  },
  "language_info": {
   "codemirror_mode": {
    "name": "ipython",
    "version": 3
   },
   "file_extension": ".py",
   "mimetype": "text/x-python",
   "name": "python",
   "nbconvert_exporter": "python",
   "pygments_lexer": "ipython3",
   "version": "3.6.9"
  }
 },
 "nbformat": 4,
 "nbformat_minor": 2
}
